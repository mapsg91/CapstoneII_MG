{
 "cells": [
  {
   "cell_type": "markdown",
   "metadata": {},
   "source": [
    "## Importing required libraries and Loading Datasets"
   ]
  },
  {
   "cell_type": "code",
   "execution_count": 1,
   "metadata": {},
   "outputs": [],
   "source": [
    "#import kagglehub\n",
    "import pandas as pd\n",
    "import numpy as np\n",
    "import seaborn as sns\n",
    "import matplotlib as plt\n",
    "import statsmodels as sm\n",
    "\n",
    "education = pd.read_csv('education_2023.csv')\n",
    "unemployment = pd.read_csv('unemployment_2023.csv')\n",
    "quality_of_life = pd.read_csv('QOL.csv')\n",
    "ltss_2022 = pd.read_csv('ltss_2022.csv')\n",
    "ltss_expenses = pd.read_csv('ltss_expenses.csv')\n",
    "us_states = pd.read_csv('us_states.csv')\n",
    "gini = pd.read_csv('acs_gini.csv')\n",
    "master_fips = pd.read_csv('fips_master.csv')"
   ]
  },
  {
   "cell_type": "code",
   "execution_count": null,
   "metadata": {},
   "outputs": [],
   "source": [
    "all_fips = pd.merge(master_fips, us_states, how='left', on='state_abbr')"
   ]
  },
  {
   "cell_type": "markdown",
   "metadata": {},
   "source": [
    "# Data Cleaning\n",
    "see: documentation/data_model.md"
   ]
  },
  {
   "cell_type": "markdown",
   "metadata": {},
   "source": [
    "## Table Normalization\n",
    "### Key Values\n",
    "- fips\n",
    "- county\n",
    "- state\n",
    "- state_abbr\n",
    "\n",
    "#### education_unemployment\n",
    "#### LTSS\n",
    "#### Gini_index"
   ]
  },
  {
   "cell_type": "markdown",
   "metadata": {},
   "source": [
    "## Education and unemployment tables"
   ]
  },
  {
   "cell_type": "code",
   "execution_count": 102,
   "metadata": {},
   "outputs": [],
   "source": [
    "# education and unemployment subset values lists (based on row values)\n",
    "education_22_subset = education['Attribute'].isin(['Less than high school graduate, 2019-23', 'High school graduate (or equivalency), 2019-23', 'Some college or associate degree, 2019-23', 'Bachelor\\'s degree or higher, 2019-23'])\n",
    "unemployment_22_subset = unemployment['Attribute'].isin(['Civilian_labor_force_2022', 'Employed_2022', 'Unemployed_2022'])\n",
    "# New dataframes for education and unemployment based on the subset values\n",
    "education_2022 = education[education_22_subset]\n",
    "unemployment_2022 = unemployment[unemployment_22_subset]\n",
    "# defining variable for data cleaning function \n",
    "education_dtypes = {'FIPS Code': 'str', 'Area name': 'str', 'State': 'str'}\n",
    "education_names = {'FIPS Code': 'fips', 'Area name':'county', 'State':'state_abbr'}\n",
    "unemployment_dtypes = {'FIPS_Code': 'str', 'Area_Name': 'str', 'State': 'str'}\n",
    "unemployment_names = {'FIPS_Code': 'fips', 'Area_Name':'county1', 'State':'state_abbr'}"
   ]
  },
  {
   "cell_type": "markdown",
   "metadata": {},
   "source": [
    "### Cleaning Function"
   ]
  },
  {
   "cell_type": "code",
   "execution_count": 103,
   "metadata": {},
   "outputs": [],
   "source": [
    "def clean_dataframe(df, data_types, names):\n",
    "    df = df.astype(data_types)\n",
    "    df = df.rename(columns=names)\n",
    "    return df\n",
    "\n",
    "education_2022 = clean_dataframe(education_2022, education_dtypes, education_names)\n",
    "unemployment_2022 = clean_dataframe(unemployment_2022, unemployment_dtypes, unemployment_names)"
   ]
  },
  {
   "cell_type": "markdown",
   "metadata": {},
   "source": [
    "### Pivoting clean dataframes\n",
    "Values(rows) in 'Attribute' col are to be used as col names- recording education levels in population"
   ]
  },
  {
   "cell_type": "code",
   "execution_count": 104,
   "metadata": {},
   "outputs": [],
   "source": [
    "education_2022 = education_2022.pivot_table(index=['state_abbr', 'county', 'fips'], columns='Attribute', values='Value', aggfunc='first').reset_index()\n",
    "unemployment_2022 = unemployment_2022.pivot_table(index=['state_abbr', 'county1', 'fips'], columns='Attribute', values='Value', aggfunc='first').reset_index()\n",
    "# renaming pivoted columns\n",
    "education_2022= education_2022.rename(columns={'Less than high school graduate, 2019-23': 'no_hs_diploma', 'High school graduate (or equivalency), 2019-23':'hs_diploma', 'Some college or associate degree, 2019-23': 'some_college', 'Bachelor\\'s degree or higher, 2019-23': 'bachelors_or_more'})\n",
    "unemployment_2022= unemployment_2022.rename(columns={'Civilian_labor_force_2022':'labor_force', 'Employed_2022':'employed', 'Unemployed_2022':'unemployed'})"
   ]
  },
  {
   "cell_type": "markdown",
   "metadata": {},
   "source": [
    "### Separating county and state function"
   ]
  },
  {
   "cell_type": "code",
   "execution_count": 105,
   "metadata": {},
   "outputs": [],
   "source": [
    "# unemployment_2022: defining func. tp split state and county columns, naming new columns\n",
    "def split_county(county1):\n",
    "    return pd.Series(county1.split(\",\", 1))\n",
    "\n",
    "unemployment_2022[['county', 'state_abbr_duplicate']] = unemployment_2022['county1'].apply(split_county)"
   ]
  },
  {
   "cell_type": "code",
   "execution_count": 106,
   "metadata": {},
   "outputs": [],
   "source": [
    "# dropping duplicate columns\n",
    "unemployment_2022 = unemployment_2022.drop(columns=['county1', 'state_abbr_duplicate'])"
   ]
  },
  {
   "cell_type": "markdown",
   "metadata": {},
   "source": [
    "## LTSS enrollment and expenditure tables"
   ]
  },
  {
   "cell_type": "code",
   "execution_count": 107,
   "metadata": {},
   "outputs": [],
   "source": [
    "# defining columns to keep and subsetting dataframes\n",
    "ltss_cols= ['State', 'LTSS (total)', 'Institutional (total)', 'HCBS (total)']\n",
    "ltss_population = ltss_2022[ltss_cols]\n",
    "ltss_expenditures = ltss_expenses[ltss_cols]"
   ]
  },
  {
   "cell_type": "markdown",
   "metadata": {},
   "source": [
    "### Cleaning invalid characters in columns to prep for datatype conversion to float"
   ]
  },
  {
   "cell_type": "code",
   "execution_count": 108,
   "metadata": {},
   "outputs": [
    {
     "name": "stderr",
     "output_type": "stream",
     "text": [
      "/tmp/ipykernel_3774/778973466.py:2: SettingWithCopyWarning: \n",
      "A value is trying to be set on a copy of a slice from a DataFrame.\n",
      "Try using .loc[row_indexer,col_indexer] = value instead\n",
      "\n",
      "See the caveats in the documentation: https://pandas.pydata.org/pandas-docs/stable/user_guide/indexing.html#returning-a-view-versus-a-copy\n",
      "  ltss_expenditures['LTSS (total)'] = ltss_expenditures['LTSS (total)'].str[1:]\n",
      "/tmp/ipykernel_3774/778973466.py:3: SettingWithCopyWarning: \n",
      "A value is trying to be set on a copy of a slice from a DataFrame.\n",
      "Try using .loc[row_indexer,col_indexer] = value instead\n",
      "\n",
      "See the caveats in the documentation: https://pandas.pydata.org/pandas-docs/stable/user_guide/indexing.html#returning-a-view-versus-a-copy\n",
      "  ltss_expenditures['Institutional (total)'] = ltss_expenditures['Institutional (total)'].str[1:]\n",
      "/tmp/ipykernel_3774/778973466.py:4: SettingWithCopyWarning: \n",
      "A value is trying to be set on a copy of a slice from a DataFrame.\n",
      "Try using .loc[row_indexer,col_indexer] = value instead\n",
      "\n",
      "See the caveats in the documentation: https://pandas.pydata.org/pandas-docs/stable/user_guide/indexing.html#returning-a-view-versus-a-copy\n",
      "  ltss_expenditures['HCBS (total)'] = ltss_expenditures['HCBS (total)'].str[1:]\n"
     ]
    }
   ],
   "source": [
    "# removing '$' from ltss)_expenditures and changing to float\n",
    "ltss_expenditures['LTSS (total)'] = ltss_expenditures['LTSS (total)'].str[1:]\n",
    "ltss_expenditures['Institutional (total)'] = ltss_expenditures['Institutional (total)'].str[1:]\n",
    "ltss_expenditures['HCBS (total)'] = ltss_expenditures['HCBS (total)'].str[1:]"
   ]
  },
  {
   "cell_type": "code",
   "execution_count": 109,
   "metadata": {},
   "outputs": [
    {
     "name": "stderr",
     "output_type": "stream",
     "text": [
      "/tmp/ipykernel_3774/2481729838.py:2: SettingWithCopyWarning: \n",
      "A value is trying to be set on a copy of a slice from a DataFrame.\n",
      "Try using .loc[row_indexer,col_indexer] = value instead\n",
      "\n",
      "See the caveats in the documentation: https://pandas.pydata.org/pandas-docs/stable/user_guide/indexing.html#returning-a-view-versus-a-copy\n",
      "  ltss_expenditures['LTSS (total)'] = ltss_expenditures['LTSS (total)'].replace(',', '', regex=True).astype(float)\n",
      "/tmp/ipykernel_3774/2481729838.py:3: SettingWithCopyWarning: \n",
      "A value is trying to be set on a copy of a slice from a DataFrame.\n",
      "Try using .loc[row_indexer,col_indexer] = value instead\n",
      "\n",
      "See the caveats in the documentation: https://pandas.pydata.org/pandas-docs/stable/user_guide/indexing.html#returning-a-view-versus-a-copy\n",
      "  ltss_expenditures['Institutional (total)'] = ltss_expenditures['Institutional (total)'].replace(',', '', regex=True).astype(float)\n",
      "/tmp/ipykernel_3774/2481729838.py:4: SettingWithCopyWarning: \n",
      "A value is trying to be set on a copy of a slice from a DataFrame.\n",
      "Try using .loc[row_indexer,col_indexer] = value instead\n",
      "\n",
      "See the caveats in the documentation: https://pandas.pydata.org/pandas-docs/stable/user_guide/indexing.html#returning-a-view-versus-a-copy\n",
      "  ltss_expenditures['HCBS (total)'] = ltss_expenditures['HCBS (total)'].replace(',', '', regex=True).astype(float)\n",
      "/tmp/ipykernel_3774/2481729838.py:7: SettingWithCopyWarning: \n",
      "A value is trying to be set on a copy of a slice from a DataFrame.\n",
      "Try using .loc[row_indexer,col_indexer] = value instead\n",
      "\n",
      "See the caveats in the documentation: https://pandas.pydata.org/pandas-docs/stable/user_guide/indexing.html#returning-a-view-versus-a-copy\n",
      "  ltss_population['LTSS (total)'] = ltss_population['LTSS (total)'].str.replace(',', '').astype(float)\n",
      "/tmp/ipykernel_3774/2481729838.py:8: SettingWithCopyWarning: \n",
      "A value is trying to be set on a copy of a slice from a DataFrame.\n",
      "Try using .loc[row_indexer,col_indexer] = value instead\n",
      "\n",
      "See the caveats in the documentation: https://pandas.pydata.org/pandas-docs/stable/user_guide/indexing.html#returning-a-view-versus-a-copy\n",
      "  ltss_population['Institutional (total)'] = ltss_population['Institutional (total)'].str.replace(',', '').astype(float)\n",
      "/tmp/ipykernel_3774/2481729838.py:9: SettingWithCopyWarning: \n",
      "A value is trying to be set on a copy of a slice from a DataFrame.\n",
      "Try using .loc[row_indexer,col_indexer] = value instead\n",
      "\n",
      "See the caveats in the documentation: https://pandas.pydata.org/pandas-docs/stable/user_guide/indexing.html#returning-a-view-versus-a-copy\n",
      "  ltss_population['HCBS (total)'] = ltss_population['HCBS (total)'].str.replace(',', '').astype(float)\n"
     ]
    }
   ],
   "source": [
    "# removing ',' from ltss)_expenditures and changing to float\n",
    "ltss_expenditures['LTSS (total)'] = ltss_expenditures['LTSS (total)'].replace(',', '', regex=True).astype(float)\n",
    "ltss_expenditures['Institutional (total)'] = ltss_expenditures['Institutional (total)'].replace(',', '', regex=True).astype(float)\n",
    "ltss_expenditures['HCBS (total)'] = ltss_expenditures['HCBS (total)'].replace(',', '', regex=True).astype(float)\n",
    "\n",
    "# removing ',' and changing to float - ltss_population\n",
    "ltss_population['LTSS (total)'] = ltss_population['LTSS (total)'].str.replace(',', '').astype(float)\n",
    "ltss_population['Institutional (total)'] = ltss_population['Institutional (total)'].str.replace(',', '').astype(float)\n",
    "ltss_population['HCBS (total)'] = ltss_population['HCBS (total)'].str.replace(',', '').astype(float)"
   ]
  },
  {
   "cell_type": "markdown",
   "metadata": {},
   "source": [
    "### Renaming columns"
   ]
  },
  {
   "cell_type": "code",
   "execution_count": 110,
   "metadata": {},
   "outputs": [],
   "source": [
    "ltss_pop_names = {'State': 'state', 'LTSS (total)': 'ltss_total_enrollment', 'Institutional (total)': 'insitutional_enrollment', 'HCBS (total)': 'hcbs_enrollment'}\n",
    "ltss_expense_names = { 'State':'state', 'LTSS (total)': 'ltss_total_expense', 'Institutional (total)': 'insitutional_expense', 'HCBS (total)': 'hcbs_expense'}\n",
    "\n",
    "ltss_population = ltss_population.rename(columns=ltss_pop_names)\n",
    "ltss_expenditures = ltss_expenditures.rename(columns=ltss_expense_names)"
   ]
  },
  {
   "cell_type": "markdown",
   "metadata": {},
   "source": [
    "## GINI Index"
   ]
  },
  {
   "cell_type": "code",
   "execution_count": 111,
   "metadata": {},
   "outputs": [],
   "source": [
    "gini_dytpes = { 'state': 'str' , 'county': 'str'}\n",
    "gini_col_names = {'NAME': 'geography', 'B19083_001E': 'gini_index', 'state':'state_fips' , 'county':'county_fips'}"
   ]
  },
  {
   "cell_type": "code",
   "execution_count": 113,
   "metadata": {},
   "outputs": [],
   "source": [
    "gini_index = clean_dataframe(gini, gini_dytpes, gini_col_names)"
   ]
  },
  {
   "cell_type": "markdown",
   "metadata": {},
   "source": [
    "### split 'county' by comma to end up with cols: 'county', 'state_abbr'"
   ]
  },
  {
   "cell_type": "code",
   "execution_count": 114,
   "metadata": {},
   "outputs": [],
   "source": [
    "# function to split the geography column into state and county\n",
    "def split_county(geography):\n",
    "    return pd.Series(geography.split(\",\", 1))"
   ]
  },
  {
   "cell_type": "code",
   "execution_count": 115,
   "metadata": {},
   "outputs": [],
   "source": [
    "gini_index[['county', 'state']] = gini_index['geography'].apply(split_county)"
   ]
  },
  {
   "cell_type": "code",
   "execution_count": 116,
   "metadata": {},
   "outputs": [],
   "source": [
    "gini_index = gini_index.drop(columns='geography')\n",
    "gini_index = gini_index[~(gini_index['state'] == \"Puerto Rico\")]"
   ]
  },
  {
   "cell_type": "markdown",
   "metadata": {},
   "source": [
    "### Normalize 'fips' by appending '00' to county fips and concatenating to state fips"
   ]
  },
  {
   "cell_type": "code",
   "execution_count": 117,
   "metadata": {},
   "outputs": [],
   "source": [
    "gini_index['county_fips'] = '00' + gini_index['county_fips'].astype(str)\n",
    "gini_index['fips']= gini_index['state_fips'] + gini_index['county_fips']"
   ]
  },
  {
   "cell_type": "code",
   "execution_count": 118,
   "metadata": {},
   "outputs": [
    {
     "data": {
      "application/vnd.microsoft.datawrangler.viewer.v0+json": {
       "columns": [
        {
         "name": "index",
         "rawType": "int64",
         "type": "integer"
        },
        {
         "name": "gini_index",
         "rawType": "float64",
         "type": "float"
        },
        {
         "name": "state_fips",
         "rawType": "object",
         "type": "string"
        },
        {
         "name": "county_fips",
         "rawType": "object",
         "type": "string"
        },
        {
         "name": "county",
         "rawType": "object",
         "type": "string"
        },
        {
         "name": "state",
         "rawType": "object",
         "type": "string"
        },
        {
         "name": "fips",
         "rawType": "object",
         "type": "string"
        }
       ],
       "conversionMethod": "pd.DataFrame",
       "ref": "990bce72-1488-4f7c-91a8-9092bbf4cadb",
       "rows": [
        [
         "0",
         "0.4515",
         "1",
         "001",
         "Autauga County",
         " Alabama",
         "1001"
        ],
        [
         "1",
         "0.4589",
         "1",
         "003",
         "Baldwin County",
         " Alabama",
         "1003"
        ],
        [
         "2",
         "0.5061",
         "1",
         "005",
         "Barbour County",
         " Alabama",
         "1005"
        ],
        [
         "3",
         "0.4526",
         "1",
         "007",
         "Bibb County",
         " Alabama",
         "1007"
        ],
        [
         "4",
         "0.4461",
         "1",
         "009",
         "Blount County",
         " Alabama",
         "1009"
        ]
       ],
       "shape": {
        "columns": 6,
        "rows": 5
       }
      },
      "text/html": [
       "<div>\n",
       "<style scoped>\n",
       "    .dataframe tbody tr th:only-of-type {\n",
       "        vertical-align: middle;\n",
       "    }\n",
       "\n",
       "    .dataframe tbody tr th {\n",
       "        vertical-align: top;\n",
       "    }\n",
       "\n",
       "    .dataframe thead th {\n",
       "        text-align: right;\n",
       "    }\n",
       "</style>\n",
       "<table border=\"1\" class=\"dataframe\">\n",
       "  <thead>\n",
       "    <tr style=\"text-align: right;\">\n",
       "      <th></th>\n",
       "      <th>gini_index</th>\n",
       "      <th>state_fips</th>\n",
       "      <th>county_fips</th>\n",
       "      <th>county</th>\n",
       "      <th>state</th>\n",
       "      <th>fips</th>\n",
       "    </tr>\n",
       "  </thead>\n",
       "  <tbody>\n",
       "    <tr>\n",
       "      <th>0</th>\n",
       "      <td>0.4515</td>\n",
       "      <td>1</td>\n",
       "      <td>001</td>\n",
       "      <td>Autauga County</td>\n",
       "      <td>Alabama</td>\n",
       "      <td>1001</td>\n",
       "    </tr>\n",
       "    <tr>\n",
       "      <th>1</th>\n",
       "      <td>0.4589</td>\n",
       "      <td>1</td>\n",
       "      <td>003</td>\n",
       "      <td>Baldwin County</td>\n",
       "      <td>Alabama</td>\n",
       "      <td>1003</td>\n",
       "    </tr>\n",
       "    <tr>\n",
       "      <th>2</th>\n",
       "      <td>0.5061</td>\n",
       "      <td>1</td>\n",
       "      <td>005</td>\n",
       "      <td>Barbour County</td>\n",
       "      <td>Alabama</td>\n",
       "      <td>1005</td>\n",
       "    </tr>\n",
       "    <tr>\n",
       "      <th>3</th>\n",
       "      <td>0.4526</td>\n",
       "      <td>1</td>\n",
       "      <td>007</td>\n",
       "      <td>Bibb County</td>\n",
       "      <td>Alabama</td>\n",
       "      <td>1007</td>\n",
       "    </tr>\n",
       "    <tr>\n",
       "      <th>4</th>\n",
       "      <td>0.4461</td>\n",
       "      <td>1</td>\n",
       "      <td>009</td>\n",
       "      <td>Blount County</td>\n",
       "      <td>Alabama</td>\n",
       "      <td>1009</td>\n",
       "    </tr>\n",
       "  </tbody>\n",
       "</table>\n",
       "</div>"
      ],
      "text/plain": [
       "   gini_index state_fips county_fips          county     state  fips\n",
       "0      0.4515          1         001  Autauga County   Alabama  1001\n",
       "1      0.4589          1         003  Baldwin County   Alabama  1003\n",
       "2      0.5061          1         005  Barbour County   Alabama  1005\n",
       "3      0.4526          1         007     Bibb County   Alabama  1007\n",
       "4      0.4461          1         009   Blount County   Alabama  1009"
      ]
     },
     "execution_count": 118,
     "metadata": {},
     "output_type": "execute_result"
    }
   ],
   "source": [
    "gini_index.head()"
   ]
  },
  {
   "cell_type": "code",
   "execution_count": 119,
   "metadata": {},
   "outputs": [],
   "source": [
    "gini_index.to_csv('gini_index.csv', index=False)"
   ]
  },
  {
   "cell_type": "markdown",
   "metadata": {},
   "source": [
    "## Quality of Life "
   ]
  },
  {
   "cell_type": "code",
   "execution_count": 120,
   "metadata": {},
   "outputs": [],
   "source": [
    "qol_cols = ['NMCNTY', 'FIPS', 'LSTATE', '2022 Population', 'Cost of Living', '2022 Median Income', 'Diversity Rank (Race)', 'Diversity Rank (Gender)']\n",
    "qol_col_names = {'NMCNTY': 'county', 'FIPS': 'fips', 'LSTATE': 'state_abbr', '2022 Population': 'population', 'Cost of Living': 'cost_of_living', '2022 Median Income': 'median_income', 'Diversity Rank (Race)': 'race_diversity_rank', 'Diversity Rank (Gender)': 'gender_diversity_rank'}\n",
    "qol_2022 = quality_of_life[qol_cols]"
   ]
  },
  {
   "cell_type": "code",
   "execution_count": 121,
   "metadata": {},
   "outputs": [],
   "source": [
    "qol_2022 = qol_2022.rename(columns=qol_col_names)"
   ]
  },
  {
   "cell_type": "markdown",
   "metadata": {},
   "source": [
    "### Clean invalid characters and change datatypes "
   ]
  },
  {
   "cell_type": "code",
   "execution_count": 122,
   "metadata": {},
   "outputs": [],
   "source": [
    "# defining variables for cleaning- removing non-numeric characters\n",
    "comma_clean = ','\n",
    "remove_comma = ['population', 'median_income', 'cost_of_living']\n",
    "qol_floats = {'population':'float', 'median_income':'float', 'cost_of_living':'float'}\n"
   ]
  },
  {
   "cell_type": "code",
   "execution_count": 123,
   "metadata": {},
   "outputs": [],
   "source": [
    "qol_2022[remove_comma] = qol_2022[remove_comma].replace(comma_clean, '', regex=True)\n",
    "# eqivalent procvess did not work to remove '$'"
   ]
  },
  {
   "cell_type": "code",
   "execution_count": 124,
   "metadata": {},
   "outputs": [],
   "source": [
    "# removing 1st character, '$'\n",
    "qol_2022['median_income'] = qol_2022['median_income'].str[1:]\n",
    "qol_2022['cost_of_living'] = qol_2022['cost_of_living'].str[1:]"
   ]
  },
  {
   "cell_type": "code",
   "execution_count": 125,
   "metadata": {},
   "outputs": [],
   "source": [
    "# changing cleaned column data types to float\n",
    "qol_2022[remove_comma]= qol_2022[remove_comma].astype(qol_floats)\n",
    "qol_2022['fips'] = qol_2022['fips'].astype(str)"
   ]
  },
  {
   "cell_type": "markdown",
   "metadata": {},
   "source": [
    "## Merge Tables\n",
    "gini= 'state', 'county', 'fips'\n",
    "qol= 'state_abbr', 'county', 'fips'\n",
    "master_fips = 'fips', 'county', 'state_abbr'"
   ]
  },
  {
   "cell_type": "code",
   "execution_count": 2,
   "metadata": {},
   "outputs": [],
   "source": [
    "# normalizing master_fips 'fips' column for merging\n",
    "master_fips['fips'] = master_fips['fips'].astype(str)\n",
    "states = pd.read_csv('us_states.csv')\n",
    "states = states.drop(columns='Unnamed: 2')"
   ]
  },
  {
   "cell_type": "code",
   "execution_count": 4,
   "metadata": {},
   "outputs": [],
   "source": [
    "all_fips = pd.merge(master_fips, us_states, how='outer', on='state_abbr')"
   ]
  },
  {
   "cell_type": "code",
   "execution_count": 6,
   "metadata": {},
   "outputs": [
    {
     "data": {
      "text/plain": [
       "0          2013\n",
       "1          2016\n",
       "2          2020\n",
       "3          2050\n",
       "4          2060\n",
       "          ...  \n",
       "148467    51000\n",
       "151559    53000\n",
       "154651    54000\n",
       "157743    55000\n",
       "160835    56000\n",
       "Name: fips, Length: 3195, dtype: object"
      ]
     },
     "execution_count": 6,
     "metadata": {},
     "output_type": "execute_result"
    }
   ],
   "source": [
    "all_fips = all_fips.drop_duplicates(subset=['fips'])\n",
    "all_fips =all_fips.drop(columns= 'Unnamed: 2')\n",
    "all_fips['fips'].astype(str)"
   ]
  },
  {
   "cell_type": "code",
   "execution_count": 9,
   "metadata": {},
   "outputs": [],
   "source": [
    "all_fips.to_csv('all_fips.csv', index=False)\n"
   ]
  },
  {
   "cell_type": "markdown",
   "metadata": {},
   "source": [
    "### preliminary table joins on common key values"
   ]
  },
  {
   "cell_type": "code",
   "execution_count": 127,
   "metadata": {},
   "outputs": [],
   "source": [
    "ltss_combined = pd.merge(ltss_population, ltss_expenditures, on='state', how='outer')\n",
    "education_unemployment = pd.merge(education_2022, unemployment_2022, on=['county', 'state_abbr', 'fips'], how='outer')\n",
    "quality_of_life_2022 = pd.merge(qol_2022, master_fips, on=['fips', 'county', 'state_abbr'], how='inner')\n"
   ]
  },
  {
   "cell_type": "code",
   "execution_count": 128,
   "metadata": {},
   "outputs": [],
   "source": [
    "ltss_combined.to_csv('ltss_combined.csv', index=False)"
   ]
  },
  {
   "cell_type": "code",
   "execution_count": 129,
   "metadata": {},
   "outputs": [],
   "source": [
    "# temporary table with qol, unemployment, and education\n",
    "test2_df = pd.merge(education_unemployment, quality_of_life_2022, on=['county', 'state_abbr', 'fips'], how='outer')\n",
    "# temporay table with values above and 'state' column (in addition to 'state_abbr')\n",
    "qol_edu_unemploy = pd.merge(test2_df, states, on='state_abbr', how='left')"
   ]
  },
  {
   "cell_type": "code",
   "execution_count": 130,
   "metadata": {},
   "outputs": [],
   "source": [
    "# drop duplicate 'fips' values\n",
    "qol_edu_unemploy = qol_edu_unemploy.drop_duplicates(subset=['fips'])\n",
    "# create new col 'county_state' in df above and gini_index\n",
    "#qol_edu_unemploy['county_state'] = qol_edu_unemploy['county'] + ', ' + qol_edu_unemploy['state']\n",
    "#gini_index['county_state'] = gini_index['county'] + ', ' + gini_index['state']"
   ]
  },
  {
   "cell_type": "code",
   "execution_count": 131,
   "metadata": {},
   "outputs": [],
   "source": [
    "qol_edu_unemploy.to_csv('qol_edu_unemploy.csv', index=False)"
   ]
  }
 ],
 "metadata": {
  "kernelspec": {
   "display_name": "socio_health",
   "language": "python",
   "name": "python3"
  },
  "language_info": {
   "codemirror_mode": {
    "name": "ipython",
    "version": 3
   },
   "file_extension": ".py",
   "mimetype": "text/x-python",
   "name": "python",
   "nbconvert_exporter": "python",
   "pygments_lexer": "ipython3",
   "version": "3.13.1"
  }
 },
 "nbformat": 4,
 "nbformat_minor": 2
}
