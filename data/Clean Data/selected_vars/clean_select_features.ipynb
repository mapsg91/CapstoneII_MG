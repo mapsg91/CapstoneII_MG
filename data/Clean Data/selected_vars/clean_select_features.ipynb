{
 "cells": [
  {
   "cell_type": "markdown",
   "id": "12a123f1",
   "metadata": {},
   "source": [
    "# Importing Libraries and Cleaned Datasets"
   ]
  },
  {
   "cell_type": "code",
   "execution_count": 175,
   "id": "d040be25",
   "metadata": {},
   "outputs": [],
   "source": [
    "import pandas as pd\n",
    "import numpy as np\n",
    "import seaborn as sns\n",
    "import matplotlib.pyplot as plt\n",
    "import statsmodels as sm\n",
    "import scipy.stats as stats\n",
    "from sklearn.feature_selection import mutual_info_regression\n",
    "import warnings\n",
    "warnings.filterwarnings('ignore')\n",
    "\n",
    "county_health_rank = pd.read_csv('county_rankings25.csv')\n",
    "qol_22 = pd.read_csv('QOL.csv')\n",
    "gini = pd.read_csv('gini_index.csv')\n",
    "fips_codes = pd.read_csv('all_fips.csv')\n",
    "county_vars = pd.read_csv('county_vars_2.csv')\n",
    "race_groups = pd.read_csv('agg_race_variables.csv')"
   ]
  },
  {
   "cell_type": "markdown",
   "id": "4b5e7e4e",
   "metadata": {},
   "source": [
    "# Data Cleaning Plan\n",
    "## County Health Rankings 2025\n",
    "In place of the previousl 4 tables reporting socio economic metrics, I found a new Dataset 'County Health Rankings.' The data wrangling process will involve selecting the target variables, renaming, normalizing data types, validating the resulting dataframe, and applying the standardized hierarchical index (county, state).\n",
    "\n",
    "Since dataset contains hundreds of variables, I created a small dataframe of our variables of interest and normalized names to facilate creating the subset itself and its naming conventions. \n",
    "\n",
    "Note: much of the numeric data is in percentages, separate subsets will include totals and percentages and will be used depnding on type of analysis and indexing needed.\n",
    "\n",
    "## FIPS & States ID table\n",
    "I will merge both tables above to a previosly created 'all_fips' (which serves as a sort of  'fact table'-listing county names, state names, state abbreviations, and corresponding fips codes) by index. \n",
    "\n",
    "I will validate the data and clean any merging errors like the creation of duplicate columns and/or changes to naming conventions (such as adding suffixes/prefixes to duplicate and original colums).\n",
    "\n",
    "Finally, I will merge both of these new tables by the standardized index mentioned above."
   ]
  },
  {
   "cell_type": "markdown",
   "id": "33ead3d5",
   "metadata": {},
   "source": [
    "# Data Cleaning"
   ]
  },
  {
   "cell_type": "markdown",
   "id": "641693b7",
   "metadata": {},
   "source": [
    "## County Rankings tables"
   ]
  },
  {
   "cell_type": "markdown",
   "id": "dee392e0",
   "metadata": {},
   "source": [
    "### Make SUbset Function"
   ]
  },
  {
   "cell_type": "code",
   "execution_count": null,
   "id": "8a26e76b",
   "metadata": {},
   "outputs": [],
   "source": [
    "# defining variable for function to select target vars, dictionary to rename, and set 'fips' as 'str' dtype\n",
    "county_health_subset = county_vars['raw_variable'].tolist()\n",
    "county_name_list = county_vars[' new_name'].tolist()\n",
    "county_new_names = dict(zip(county_health_subset, county_name_list))"
   ]
  },
  {
   "cell_type": "code",
   "execution_count": null,
   "id": "85a7bed1",
   "metadata": {},
   "outputs": [],
   "source": [
    "def make_subset(df, target_vars, target_names):\n",
    "    df = df[target_vars]\n",
    "    df = df.rename(columns=target_names) #dictionary defined from target variables & names list\n",
    "    df['fips'] = df['fips'].astype('str')\n",
    "    return df\n"
   ]
  },
  {
   "cell_type": "code",
   "execution_count": null,
   "id": "d0ff38df",
   "metadata": {},
   "outputs": [],
   "source": [
    "counties = make_subset(county_health_rank, county_health_subset, county_new_names)"
   ]
  },
  {
   "cell_type": "markdown",
   "id": "54c939ff",
   "metadata": {},
   "source": [
    "### Clean colums function"
   ]
  },
  {
   "cell_type": "code",
   "execution_count": 176,
   "id": "90e1744d",
   "metadata": {},
   "outputs": [],
   "source": [
    "# list of state names from master fips to drop from county namers column\n",
    "state_names = fips_codes['state'].unique()\n",
    "state_names = state_names.tolist()\n",
    "state_names.append('United States')\n",
    "# variable name referring to state \n"
   ]
  },
  {
   "cell_type": "code",
   "execution_count": 177,
   "id": "7e73ca73",
   "metadata": {},
   "outputs": [],
   "source": [
    "def clean_subset(df):\n",
    "    df = df[~df['county'].isin(state_names)]\n",
    "    df = df.round(2)\n",
    "    return df\n"
   ]
  },
  {
   "cell_type": "code",
   "execution_count": 178,
   "id": "b0805ac6",
   "metadata": {},
   "outputs": [],
   "source": [
    "counties = clean_subset(counties)"
   ]
  },
  {
   "cell_type": "markdown",
   "id": "19164c19",
   "metadata": {},
   "source": [
    "## Gini"
   ]
  },
  {
   "cell_type": "code",
   "execution_count": 179,
   "id": "4fc2e8a5",
   "metadata": {},
   "outputs": [],
   "source": [
    "gini_target_vars = ['fips', 'county', 'state', 'gini_index']\n",
    "gini_new_names = {'gini_index':'gini_ind'}"
   ]
  },
  {
   "cell_type": "code",
   "execution_count": 180,
   "id": "3b159266",
   "metadata": {},
   "outputs": [],
   "source": [
    "gini = make_subset(gini, gini_target_vars, gini_new_names)\n",
    "gini = clean_subset(gini)"
   ]
  },
  {
   "cell_type": "markdown",
   "id": "1d9b7634",
   "metadata": {},
   "source": [
    "### QOL"
   ]
  },
  {
   "cell_type": "code",
   "execution_count": 181,
   "id": "e0eede50",
   "metadata": {},
   "outputs": [],
   "source": [
    "qol_target_vars = ['2020PopulrVoteParty', 'NMCNTY', 'FIPS', 'LSTATE']\n",
    "qol_new_names = {'2020PopulrVoteParty': 'political_party', 'NMCNTY':'county', 'FIPS':'fips', 'LSTATE':'state_abbr'}"
   ]
  },
  {
   "cell_type": "code",
   "execution_count": 182,
   "id": "fcebe065",
   "metadata": {},
   "outputs": [],
   "source": [
    "pol_party_2020 = make_subset(qol_22, qol_target_vars, qol_new_names)"
   ]
  },
  {
   "cell_type": "markdown",
   "id": "ea390979",
   "metadata": {},
   "source": [
    "## subsets and groupings for drill-down analysis "
   ]
  },
  {
   "cell_type": "markdown",
   "id": "23e58d4e",
   "metadata": {},
   "source": [
    "## Variable-based subsets"
   ]
  },
  {
   "cell_type": "markdown",
   "id": "a1e2da1b",
   "metadata": {},
   "source": [
    "### Inequity Metrics"
   ]
  },
  {
   "cell_type": "code",
   "execution_count": 185,
   "id": "9d50a222",
   "metadata": {},
   "outputs": [],
   "source": [
    "inequity_vars = ['state_abbr','county','fips', 'income_inequality', 'gender_pay_gap', 'school_segration_index', 'residential_segregation','school_funding_gap', 'gini_ind']\n",
    "#inequity_df = counties[inequity_vars]"
   ]
  },
  {
   "cell_type": "markdown",
   "id": "6e78b3f9",
   "metadata": {},
   "source": [
    "### Socio-economic indicators with racial breakdown"
   ]
  },
  {
   "cell_type": "code",
   "execution_count": 186,
   "id": "18e21a57",
   "metadata": {},
   "outputs": [],
   "source": [
    "racial_category_subset = race_groups['raw_variable'].tolist()\n",
    "racial_category_names = race_groups['new_name'].tolist()\n",
    "racial_category_cols = dict(zip(racial_category_subset, racial_category_names))"
   ]
  },
  {
   "cell_type": "code",
   "execution_count": 187,
   "id": "9d6d1959",
   "metadata": {},
   "outputs": [],
   "source": [
    "race_subset = make_subset(county_health_rank, racial_category_subset, racial_category_cols)\n",
    "counties_race = clean_subset(race_subset)"
   ]
  },
  {
   "cell_type": "code",
   "execution_count": 188,
   "id": "58944cd7",
   "metadata": {},
   "outputs": [],
   "source": [
    "# reshape dataframe\n",
    "# Melt the dataframe to long format\n",
    "counties_race = counties_race.melt(\n",
    "    id_vars=['state_abbr', 'county', 'fips', 'county_population'], \n",
    "    var_name='metric_race', \n",
    "    value_name='value'\n",
    ")\n",
    "\n",
    "# Split the combined 'metric_ethnicity' column\n",
    "counties_race[['metric', 'race']] = counties_race['metric_race'].str.extract(r'(.+?)-(.+)')\n",
    "\n",
    "# Drop the original combined column\n",
    "counties_race = counties_race.drop(columns='metric_race')\n",
    "\n",
    "# Pivot to have metrics as columns\n",
    "counties_race = counties_race.pivot_table(\n",
    "    index=['state_abbr', 'county', 'fips', 'race', 'county_population'],\n",
    "    columns='metric',\n",
    "    values='value'\n",
    ").reset_index()\n",
    "\n",
    "# Clean up column names if needed\n",
    "counties_race.columns.name = None\n"
   ]
  },
  {
   "cell_type": "markdown",
   "id": "c5c7c0c8",
   "metadata": {},
   "source": [
    "### County-Level socio-economic outcomes (no racial breakdown)"
   ]
  },
  {
   "cell_type": "code",
   "execution_count": 189,
   "id": "091942d6",
   "metadata": {},
   "outputs": [],
   "source": [
    "aggregate_outcomes = counties.drop(columns=['income_inequality', 'gender_pay_gap', 'school_segration_index', 'residential_segregation','school_funding_gap', 'child_mortality', 'child_poverty_percentage', 'firearm_fatalities',\n",
    "       'life_expectancy', 'median_income', 'premature_death'])"
   ]
  },
  {
   "cell_type": "markdown",
   "id": "eccd7b49",
   "metadata": {},
   "source": [
    "## Total Values (vs percentages)"
   ]
  },
  {
   "cell_type": "markdown",
   "id": "63c0f5ae",
   "metadata": {},
   "source": [
    "### Counties "
   ]
  },
  {
   "cell_type": "code",
   "execution_count": 190,
   "id": "2f4dc168",
   "metadata": {},
   "outputs": [],
   "source": [
    "pop_vars = ['state_abbr','county','fips', 'population']\n",
    "county_pop = counties[pop_vars]\n",
    "# find columns w percentage ouputs by assigining target string to variable ans using lamda  func to filter col names and assign to list\n",
    "percent_str = 'percentage'\n",
    "percent_vars = list(filter(lambda x: percent_str in x, county_name_list))\n",
    "counties_totals = counties.copy()\n",
    "counties_pop_col = 'population'"
   ]
  },
  {
   "cell_type": "markdown",
   "id": "695a4f5e",
   "metadata": {},
   "source": [
    "#### totals function"
   ]
  },
  {
   "cell_type": "code",
   "execution_count": 191,
   "id": "9d47685d",
   "metadata": {},
   "outputs": [],
   "source": [
    "# multiplies each percentage column by county polulation to yield total amounts\n",
    "def calc_total_pop(df, cols, pop_col):\n",
    "    for i in df[cols]:\n",
    "        df[i] = df[i] * df[pop_col]\n",
    "    df.columns = df.columns.str.replace('_percentage', '')\n",
    "    return df\n"
   ]
  },
  {
   "cell_type": "code",
   "execution_count": 192,
   "id": "5f83f95c",
   "metadata": {},
   "outputs": [
    {
     "data": {
      "application/vnd.microsoft.datawrangler.viewer.v0+json": {
       "columns": [
        {
         "name": "index",
         "rawType": "int64",
         "type": "integer"
        },
        {
         "name": "index",
         "rawType": "int64",
         "type": "integer"
        },
        {
         "name": "fips",
         "rawType": "object",
         "type": "string"
        },
        {
         "name": "county",
         "rawType": "object",
         "type": "string"
        },
        {
         "name": "state_abbr",
         "rawType": "object",
         "type": "string"
        },
        {
         "name": "hs_diploma_percentage",
         "rawType": "float64",
         "type": "float"
        },
        {
         "name": "unemployed_percentage",
         "rawType": "float64",
         "type": "float"
        },
        {
         "name": "population",
         "rawType": "float64",
         "type": "float"
        },
        {
         "name": "median_income",
         "rawType": "float64",
         "type": "float"
        },
        {
         "name": "school_segration_index",
         "rawType": "float64",
         "type": "float"
        },
        {
         "name": "gender_pay_gap",
         "rawType": "float64",
         "type": "float"
        },
        {
         "name": "uninsured__percentage",
         "rawType": "float64",
         "type": "float"
        },
        {
         "name": "school_funding_gap",
         "rawType": "float64",
         "type": "float"
        },
        {
         "name": "residential_segregation",
         "rawType": "float64",
         "type": "float"
        },
        {
         "name": "premature_death",
         "rawType": "float64",
         "type": "float"
        },
        {
         "name": "income_inequality",
         "rawType": "float64",
         "type": "float"
        },
        {
         "name": "child_poverty_percentage",
         "rawType": "float64",
         "type": "float"
        },
        {
         "name": "life_expectancy",
         "rawType": "float64",
         "type": "float"
        },
        {
         "name": "child_mortality",
         "rawType": "float64",
         "type": "float"
        },
        {
         "name": "high_housing_cost_percentage",
         "rawType": "float64",
         "type": "float"
        },
        {
         "name": "firearm_fatalities",
         "rawType": "float64",
         "type": "float"
        },
        {
         "name": "child_care_cost_burden",
         "rawType": "float64",
         "type": "float"
        }
       ],
       "conversionMethod": "pd.DataFrame",
       "ref": "7dc6dedb-5586-4813-950f-c6d04ab8d4e0",
       "rows": [
        [
         "2",
         "2",
         "1001",
         "Autauga County",
         "AL",
         "0.9",
         "0.02",
         "60342.0",
         "68857.0",
         "0.06",
         "0.71",
         "0.08",
         "-2319.66",
         "33.96",
         "9938.26",
         "4.27",
         "0.17",
         "74.8",
         "61.26",
         "0.12",
         "17.45",
         "0.22"
        ],
        [
         "3",
         "3",
         "1003",
         "Baldwin County",
         "AL",
         "0.92",
         "0.02",
         "253507.0",
         "74248.0",
         "0.09",
         "0.72",
         "0.1",
         "506.3",
         "42.65",
         "8957.11",
         "4.36",
         "0.14",
         "76.58",
         "50.16",
         "0.1",
         "14.96",
         "0.19"
        ],
        [
         "4",
         "4",
         "1005",
         "Barbour County",
         "AL",
         "0.78",
         "0.04",
         "24585.0",
         "45298.0",
         "0.04",
         "0.77",
         "0.12",
         "-17790.46",
         "22.73",
         "12738.66",
         "5.61",
         "0.35",
         "72.71",
         "71.71",
         "0.1",
         "26.65",
         "0.29"
        ],
        [
         "5",
         "5",
         "1007",
         "Bibb County",
         "AL",
         "0.8",
         "0.02",
         "21868.0",
         "56025.0",
         "0.09",
         "0.82",
         "0.11",
         "-3657.8",
         "40.01",
         "11708.95",
         "5.35",
         "0.21",
         "72.98",
         "87.08",
         "0.09",
         "21.54",
         "0.27"
        ],
        [
         "6",
         "6",
         "1009",
         "Blount County",
         "AL",
         "0.83",
         "0.02",
         "59816.0",
         "64962.0",
         "0.09",
         "0.81",
         "0.13",
         "-1559.42",
         "64.89",
         "11898.09",
         "4.62",
         "0.17",
         "72.94",
         "58.04",
         "0.08",
         "18.14",
         "0.25"
        ]
       ],
       "shape": {
        "columns": 21,
        "rows": 5
       }
      },
      "text/html": [
       "<div>\n",
       "<style scoped>\n",
       "    .dataframe tbody tr th:only-of-type {\n",
       "        vertical-align: middle;\n",
       "    }\n",
       "\n",
       "    .dataframe tbody tr th {\n",
       "        vertical-align: top;\n",
       "    }\n",
       "\n",
       "    .dataframe thead th {\n",
       "        text-align: right;\n",
       "    }\n",
       "</style>\n",
       "<table border=\"1\" class=\"dataframe\">\n",
       "  <thead>\n",
       "    <tr style=\"text-align: right;\">\n",
       "      <th></th>\n",
       "      <th>index</th>\n",
       "      <th>fips</th>\n",
       "      <th>county</th>\n",
       "      <th>state_abbr</th>\n",
       "      <th>hs_diploma_percentage</th>\n",
       "      <th>unemployed_percentage</th>\n",
       "      <th>population</th>\n",
       "      <th>median_income</th>\n",
       "      <th>school_segration_index</th>\n",
       "      <th>gender_pay_gap</th>\n",
       "      <th>...</th>\n",
       "      <th>school_funding_gap</th>\n",
       "      <th>residential_segregation</th>\n",
       "      <th>premature_death</th>\n",
       "      <th>income_inequality</th>\n",
       "      <th>child_poverty_percentage</th>\n",
       "      <th>life_expectancy</th>\n",
       "      <th>child_mortality</th>\n",
       "      <th>high_housing_cost_percentage</th>\n",
       "      <th>firearm_fatalities</th>\n",
       "      <th>child_care_cost_burden</th>\n",
       "    </tr>\n",
       "  </thead>\n",
       "  <tbody>\n",
       "    <tr>\n",
       "      <th>2</th>\n",
       "      <td>2</td>\n",
       "      <td>1001</td>\n",
       "      <td>Autauga County</td>\n",
       "      <td>AL</td>\n",
       "      <td>0.90</td>\n",
       "      <td>0.02</td>\n",
       "      <td>60342.0</td>\n",
       "      <td>68857.0</td>\n",
       "      <td>0.06</td>\n",
       "      <td>0.71</td>\n",
       "      <td>...</td>\n",
       "      <td>-2319.66</td>\n",
       "      <td>33.96</td>\n",
       "      <td>9938.26</td>\n",
       "      <td>4.27</td>\n",
       "      <td>0.17</td>\n",
       "      <td>74.80</td>\n",
       "      <td>61.26</td>\n",
       "      <td>0.12</td>\n",
       "      <td>17.45</td>\n",
       "      <td>0.22</td>\n",
       "    </tr>\n",
       "    <tr>\n",
       "      <th>3</th>\n",
       "      <td>3</td>\n",
       "      <td>1003</td>\n",
       "      <td>Baldwin County</td>\n",
       "      <td>AL</td>\n",
       "      <td>0.92</td>\n",
       "      <td>0.02</td>\n",
       "      <td>253507.0</td>\n",
       "      <td>74248.0</td>\n",
       "      <td>0.09</td>\n",
       "      <td>0.72</td>\n",
       "      <td>...</td>\n",
       "      <td>506.30</td>\n",
       "      <td>42.65</td>\n",
       "      <td>8957.11</td>\n",
       "      <td>4.36</td>\n",
       "      <td>0.14</td>\n",
       "      <td>76.58</td>\n",
       "      <td>50.16</td>\n",
       "      <td>0.10</td>\n",
       "      <td>14.96</td>\n",
       "      <td>0.19</td>\n",
       "    </tr>\n",
       "    <tr>\n",
       "      <th>4</th>\n",
       "      <td>4</td>\n",
       "      <td>1005</td>\n",
       "      <td>Barbour County</td>\n",
       "      <td>AL</td>\n",
       "      <td>0.78</td>\n",
       "      <td>0.04</td>\n",
       "      <td>24585.0</td>\n",
       "      <td>45298.0</td>\n",
       "      <td>0.04</td>\n",
       "      <td>0.77</td>\n",
       "      <td>...</td>\n",
       "      <td>-17790.46</td>\n",
       "      <td>22.73</td>\n",
       "      <td>12738.66</td>\n",
       "      <td>5.61</td>\n",
       "      <td>0.35</td>\n",
       "      <td>72.71</td>\n",
       "      <td>71.71</td>\n",
       "      <td>0.10</td>\n",
       "      <td>26.65</td>\n",
       "      <td>0.29</td>\n",
       "    </tr>\n",
       "    <tr>\n",
       "      <th>5</th>\n",
       "      <td>5</td>\n",
       "      <td>1007</td>\n",
       "      <td>Bibb County</td>\n",
       "      <td>AL</td>\n",
       "      <td>0.80</td>\n",
       "      <td>0.02</td>\n",
       "      <td>21868.0</td>\n",
       "      <td>56025.0</td>\n",
       "      <td>0.09</td>\n",
       "      <td>0.82</td>\n",
       "      <td>...</td>\n",
       "      <td>-3657.80</td>\n",
       "      <td>40.01</td>\n",
       "      <td>11708.95</td>\n",
       "      <td>5.35</td>\n",
       "      <td>0.21</td>\n",
       "      <td>72.98</td>\n",
       "      <td>87.08</td>\n",
       "      <td>0.09</td>\n",
       "      <td>21.54</td>\n",
       "      <td>0.27</td>\n",
       "    </tr>\n",
       "    <tr>\n",
       "      <th>6</th>\n",
       "      <td>6</td>\n",
       "      <td>1009</td>\n",
       "      <td>Blount County</td>\n",
       "      <td>AL</td>\n",
       "      <td>0.83</td>\n",
       "      <td>0.02</td>\n",
       "      <td>59816.0</td>\n",
       "      <td>64962.0</td>\n",
       "      <td>0.09</td>\n",
       "      <td>0.81</td>\n",
       "      <td>...</td>\n",
       "      <td>-1559.42</td>\n",
       "      <td>64.89</td>\n",
       "      <td>11898.09</td>\n",
       "      <td>4.62</td>\n",
       "      <td>0.17</td>\n",
       "      <td>72.94</td>\n",
       "      <td>58.04</td>\n",
       "      <td>0.08</td>\n",
       "      <td>18.14</td>\n",
       "      <td>0.25</td>\n",
       "    </tr>\n",
       "  </tbody>\n",
       "</table>\n",
       "<p>5 rows × 21 columns</p>\n",
       "</div>"
      ],
      "text/plain": [
       "   index  fips          county state_abbr  hs_diploma_percentage  \\\n",
       "2      2  1001  Autauga County         AL                   0.90   \n",
       "3      3  1003  Baldwin County         AL                   0.92   \n",
       "4      4  1005  Barbour County         AL                   0.78   \n",
       "5      5  1007     Bibb County         AL                   0.80   \n",
       "6      6  1009   Blount County         AL                   0.83   \n",
       "\n",
       "   unemployed_percentage  population  median_income  school_segration_index  \\\n",
       "2                   0.02     60342.0        68857.0                    0.06   \n",
       "3                   0.02    253507.0        74248.0                    0.09   \n",
       "4                   0.04     24585.0        45298.0                    0.04   \n",
       "5                   0.02     21868.0        56025.0                    0.09   \n",
       "6                   0.02     59816.0        64962.0                    0.09   \n",
       "\n",
       "   gender_pay_gap  ...  school_funding_gap  residential_segregation  \\\n",
       "2            0.71  ...            -2319.66                    33.96   \n",
       "3            0.72  ...              506.30                    42.65   \n",
       "4            0.77  ...           -17790.46                    22.73   \n",
       "5            0.82  ...            -3657.80                    40.01   \n",
       "6            0.81  ...            -1559.42                    64.89   \n",
       "\n",
       "   premature_death  income_inequality  child_poverty_percentage  \\\n",
       "2          9938.26               4.27                      0.17   \n",
       "3          8957.11               4.36                      0.14   \n",
       "4         12738.66               5.61                      0.35   \n",
       "5         11708.95               5.35                      0.21   \n",
       "6         11898.09               4.62                      0.17   \n",
       "\n",
       "   life_expectancy  child_mortality  high_housing_cost_percentage  \\\n",
       "2            74.80            61.26                          0.12   \n",
       "3            76.58            50.16                          0.10   \n",
       "4            72.71            71.71                          0.10   \n",
       "5            72.98            87.08                          0.09   \n",
       "6            72.94            58.04                          0.08   \n",
       "\n",
       "   firearm_fatalities  child_care_cost_burden  \n",
       "2               17.45                    0.22  \n",
       "3               14.96                    0.19  \n",
       "4               26.65                    0.29  \n",
       "5               21.54                    0.27  \n",
       "6               18.14                    0.25  \n",
       "\n",
       "[5 rows x 21 columns]"
      ]
     },
     "execution_count": 192,
     "metadata": {},
     "output_type": "execute_result"
    }
   ],
   "source": [
    "counties_totals= clean_subset(counties_totals)\n",
    "counties_totals.head()"
   ]
  },
  {
   "cell_type": "markdown",
   "id": "a92bc354",
   "metadata": {},
   "source": [
    "### Totals- broken down by race"
   ]
  },
  {
   "cell_type": "code",
   "execution_count": 193,
   "id": "8dc695d9",
   "metadata": {},
   "outputs": [],
   "source": [
    "race_pop_col = 'county_population'\n",
    "race_percentage_vars = [ 'population_percentage', 'child_poverty_percentage']\n",
    "racial_breakdown_total = counties_race.copy()\n",
    "\n",
    "#racial_breakdown_total = racial_breakdown_total.round(2)"
   ]
  },
  {
   "cell_type": "code",
   "execution_count": 194,
   "id": "10e3bd77",
   "metadata": {},
   "outputs": [],
   "source": [
    "counties_race_totals = calc_total_pop(racial_breakdown_total, race_percentage_vars, race_pop_col)"
   ]
  },
  {
   "cell_type": "markdown",
   "id": "222d8677",
   "metadata": {},
   "source": [
    "Note: Many missing values"
   ]
  },
  {
   "cell_type": "markdown",
   "id": "50f50fa0",
   "metadata": {},
   "source": [
    "## Merge for Analysis"
   ]
  },
  {
   "cell_type": "markdown",
   "id": "2bb1fcdb",
   "metadata": {},
   "source": [
    "## Merge with 'fact' table ('all_fips') for uniform id variables"
   ]
  },
  {
   "cell_type": "code",
   "execution_count": null,
   "id": "b9b39740",
   "metadata": {},
   "outputs": [],
   "source": [
    "fips_codes['fips'] = fips_codes['fips'].astype('str')\n",
    "#test = pd.merge(counties, fips_codes, on=['state_abbr','county', 'fips'], how='outer')\n",
    "test_gini = pd.merge(gini, fips_codes, on=['state','county', 'fips'], how='outer')\n",
    "test_pol_party = pd.merge(pol_party_2020, fips_codes, on=['state_abbr','county', 'fips'], how='outer')"
   ]
  },
  {
   "cell_type": "code",
   "execution_count": 221,
   "id": "582d5644",
   "metadata": {},
   "outputs": [],
   "source": [
    "# function to clean merged tables\n",
    "def clean_merged(df):\n",
    "    df = df.sort_values(['fips'])\n",
    "    # Drop duplicate rows in column: 'fips'\n",
    "    df = test.drop_duplicates(subset=['fips'])\n",
    "    df = df[~df['county'].isin(state_names)]\n",
    "    df = df.round(3)\n",
    "    return df\n"
   ]
  },
  {
   "cell_type": "code",
   "execution_count": 241,
   "id": "d03260fa",
   "metadata": {},
   "outputs": [],
   "source": [
    "gini_plus= pd.merge(counties, test_gini, on='fips', how='outer')"
   ]
  },
  {
   "cell_type": "code",
   "execution_count": 243,
   "id": "da0bb77e",
   "metadata": {},
   "outputs": [
    {
     "data": {
      "text/plain": [
       "Index(['index_x', 'fips', 'county_x', 'state_abbr_x',\n",
       "       'hs_diploma_percentage_x', 'unemployed_percentage_x', 'population_x',\n",
       "       'median_income_x', 'school_segration_index_x', 'gender_pay_gap_x',\n",
       "       'uninsured__percentage_x', 'school_funding_gap_x',\n",
       "       'residential_segregation_x', 'premature_death_x', 'income_inequality_x',\n",
       "       'child_poverty_percentage_x', 'life_expectancy_x', 'child_mortality_x',\n",
       "       'high_housing_cost_percentage_x', 'firearm_fatalities_x',\n",
       "       'child_care_cost_burden_x', 'index_y', 'county_y', 'state_abbr_y',\n",
       "       'hs_diploma_percentage_y', 'unemployed_percentage_y', 'population_y',\n",
       "       'median_income_y', 'school_segration_index_y', 'gender_pay_gap_y',\n",
       "       'uninsured__percentage_y', 'school_funding_gap_y',\n",
       "       'residential_segregation_y', 'premature_death_y', 'income_inequality_y',\n",
       "       'child_poverty_percentage_y', 'life_expectancy_y', 'child_mortality_y',\n",
       "       'high_housing_cost_percentage_y', 'firearm_fatalities_y',\n",
       "       'child_care_cost_burden_y', 'state'],\n",
       "      dtype='object')"
      ]
     },
     "execution_count": 243,
     "metadata": {},
     "output_type": "execute_result"
    }
   ],
   "source": [
    "gini_plus.columns"
   ]
  },
  {
   "cell_type": "code",
   "execution_count": null,
   "id": "35f25fd7",
   "metadata": {},
   "outputs": [],
   "source": [
    "id_cols = ['state','state_abbr','county', 'fips']\n",
    "#test = clean_merged(test)\n",
    "test_gini = clean_merged(gini)\n",
    "test_pol_party = clean_merged(test_pol_party)\n",
    "test_2 = pd.merge(test, test_gini, on=id_cols, how='outer')\n",
    "merged_county_level = pd.merge(test_2, test_pol_party, on=id_cols, how='outer')"
   ]
  },
  {
   "cell_type": "code",
   "execution_count": 233,
   "id": "d6a51a7f",
   "metadata": {},
   "outputs": [
    {
     "data": {
      "application/vnd.microsoft.datawrangler.viewer.v0+json": {
       "columns": [
        {
         "name": "index",
         "rawType": "int64",
         "type": "integer"
        },
        {
         "name": "index",
         "rawType": "float64",
         "type": "float"
        },
        {
         "name": "fips",
         "rawType": "object",
         "type": "string"
        },
        {
         "name": "county",
         "rawType": "object",
         "type": "string"
        },
        {
         "name": "state_abbr",
         "rawType": "object",
         "type": "string"
        },
        {
         "name": "hs_diploma_percentage",
         "rawType": "float64",
         "type": "float"
        },
        {
         "name": "unemployed_percentage",
         "rawType": "float64",
         "type": "float"
        },
        {
         "name": "population",
         "rawType": "float64",
         "type": "float"
        },
        {
         "name": "median_income",
         "rawType": "float64",
         "type": "float"
        },
        {
         "name": "school_segration_index",
         "rawType": "float64",
         "type": "float"
        },
        {
         "name": "gender_pay_gap",
         "rawType": "float64",
         "type": "float"
        },
        {
         "name": "uninsured__percentage",
         "rawType": "float64",
         "type": "float"
        },
        {
         "name": "school_funding_gap",
         "rawType": "float64",
         "type": "float"
        },
        {
         "name": "residential_segregation",
         "rawType": "float64",
         "type": "float"
        },
        {
         "name": "premature_death",
         "rawType": "float64",
         "type": "float"
        },
        {
         "name": "income_inequality",
         "rawType": "float64",
         "type": "float"
        },
        {
         "name": "child_poverty_percentage",
         "rawType": "float64",
         "type": "float"
        },
        {
         "name": "life_expectancy",
         "rawType": "float64",
         "type": "float"
        },
        {
         "name": "child_mortality",
         "rawType": "float64",
         "type": "float"
        },
        {
         "name": "high_housing_cost_percentage",
         "rawType": "float64",
         "type": "float"
        },
        {
         "name": "firearm_fatalities",
         "rawType": "float64",
         "type": "float"
        },
        {
         "name": "child_care_cost_burden",
         "rawType": "float64",
         "type": "float"
        },
        {
         "name": "state",
         "rawType": "object",
         "type": "unknown"
        }
       ],
       "conversionMethod": "pd.DataFrame",
       "ref": "377ac002-a3f2-49dd-94db-5b7f67a3503e",
       "rows": [
        [
         "0",
         "70.0",
         "2013",
         "Aleutians East Borough",
         "AK",
         "0.84",
         "0.02",
         "3461.0",
         "83000.0",
         null,
         "1.07",
         "0.2",
         null,
         null,
         "4200.34",
         "4.73",
         "0.19",
         null,
         null,
         "0.09",
         null,
         "0.22",
         "Alaska"
        ],
        [
         "1",
         "71.0",
         "2016",
         "Aleutians West Census Area",
         "AK",
         "0.9",
         "0.03",
         "5160.0",
         "104159.0",
         "0.2",
         "0.71",
         "0.17",
         null,
         null,
         "5785.4",
         "3.13",
         "0.05",
         "85.92",
         null,
         "0.04",
         null,
         "0.31",
         "Alaska"
        ],
        [
         "2",
         "72.0",
         "2020",
         "Anchorage Borough",
         "AK",
         "0.94",
         "0.03",
         "286075.0",
         "93881.0",
         "0.1",
         "0.87",
         "0.12",
         null,
         "47.18",
         "9853.06",
         "4.05",
         "0.1",
         "76.34",
         "63.38",
         "0.12",
         "19.28",
         "0.38",
         null
        ],
        [
         "4",
         "73.0",
         "2050",
         "Bethel Census Area",
         "AK",
         "0.82",
         "0.1",
         "18224.0",
         "62140.0",
         "0.23",
         "1.22",
         "0.14",
         null,
         "14.94",
         "18066.47",
         "5.55",
         "0.36",
         "68.86",
         "200.49",
         "0.09",
         "38.1",
         "0.4",
         "Alaska"
        ],
        [
         "5",
         "74.0",
         "2060",
         "Bristol Bay Borough",
         "AK",
         "0.95",
         "0.04",
         "844.0",
         "99790.0",
         null,
         "0.94",
         "0.17",
         null,
         null,
         "16587.52",
         "3.6",
         "0.18",
         null,
         null,
         "0.04",
         null,
         "0.23",
         "Alaska"
        ]
       ],
       "shape": {
        "columns": 22,
        "rows": 5
       }
      },
      "text/html": [
       "<div>\n",
       "<style scoped>\n",
       "    .dataframe tbody tr th:only-of-type {\n",
       "        vertical-align: middle;\n",
       "    }\n",
       "\n",
       "    .dataframe tbody tr th {\n",
       "        vertical-align: top;\n",
       "    }\n",
       "\n",
       "    .dataframe thead th {\n",
       "        text-align: right;\n",
       "    }\n",
       "</style>\n",
       "<table border=\"1\" class=\"dataframe\">\n",
       "  <thead>\n",
       "    <tr style=\"text-align: right;\">\n",
       "      <th></th>\n",
       "      <th>index</th>\n",
       "      <th>fips</th>\n",
       "      <th>county</th>\n",
       "      <th>state_abbr</th>\n",
       "      <th>hs_diploma_percentage</th>\n",
       "      <th>unemployed_percentage</th>\n",
       "      <th>population</th>\n",
       "      <th>median_income</th>\n",
       "      <th>school_segration_index</th>\n",
       "      <th>gender_pay_gap</th>\n",
       "      <th>...</th>\n",
       "      <th>residential_segregation</th>\n",
       "      <th>premature_death</th>\n",
       "      <th>income_inequality</th>\n",
       "      <th>child_poverty_percentage</th>\n",
       "      <th>life_expectancy</th>\n",
       "      <th>child_mortality</th>\n",
       "      <th>high_housing_cost_percentage</th>\n",
       "      <th>firearm_fatalities</th>\n",
       "      <th>child_care_cost_burden</th>\n",
       "      <th>state</th>\n",
       "    </tr>\n",
       "  </thead>\n",
       "  <tbody>\n",
       "    <tr>\n",
       "      <th>0</th>\n",
       "      <td>70.0</td>\n",
       "      <td>2013</td>\n",
       "      <td>Aleutians East Borough</td>\n",
       "      <td>AK</td>\n",
       "      <td>0.84</td>\n",
       "      <td>0.02</td>\n",
       "      <td>3461.0</td>\n",
       "      <td>83000.0</td>\n",
       "      <td>NaN</td>\n",
       "      <td>1.07</td>\n",
       "      <td>...</td>\n",
       "      <td>NaN</td>\n",
       "      <td>4200.34</td>\n",
       "      <td>4.73</td>\n",
       "      <td>0.19</td>\n",
       "      <td>NaN</td>\n",
       "      <td>NaN</td>\n",
       "      <td>0.09</td>\n",
       "      <td>NaN</td>\n",
       "      <td>0.22</td>\n",
       "      <td>Alaska</td>\n",
       "    </tr>\n",
       "    <tr>\n",
       "      <th>1</th>\n",
       "      <td>71.0</td>\n",
       "      <td>2016</td>\n",
       "      <td>Aleutians West Census Area</td>\n",
       "      <td>AK</td>\n",
       "      <td>0.90</td>\n",
       "      <td>0.03</td>\n",
       "      <td>5160.0</td>\n",
       "      <td>104159.0</td>\n",
       "      <td>0.20</td>\n",
       "      <td>0.71</td>\n",
       "      <td>...</td>\n",
       "      <td>NaN</td>\n",
       "      <td>5785.40</td>\n",
       "      <td>3.13</td>\n",
       "      <td>0.05</td>\n",
       "      <td>85.92</td>\n",
       "      <td>NaN</td>\n",
       "      <td>0.04</td>\n",
       "      <td>NaN</td>\n",
       "      <td>0.31</td>\n",
       "      <td>Alaska</td>\n",
       "    </tr>\n",
       "    <tr>\n",
       "      <th>2</th>\n",
       "      <td>72.0</td>\n",
       "      <td>2020</td>\n",
       "      <td>Anchorage Borough</td>\n",
       "      <td>AK</td>\n",
       "      <td>0.94</td>\n",
       "      <td>0.03</td>\n",
       "      <td>286075.0</td>\n",
       "      <td>93881.0</td>\n",
       "      <td>0.10</td>\n",
       "      <td>0.87</td>\n",
       "      <td>...</td>\n",
       "      <td>47.18</td>\n",
       "      <td>9853.06</td>\n",
       "      <td>4.05</td>\n",
       "      <td>0.10</td>\n",
       "      <td>76.34</td>\n",
       "      <td>63.38</td>\n",
       "      <td>0.12</td>\n",
       "      <td>19.28</td>\n",
       "      <td>0.38</td>\n",
       "      <td>NaN</td>\n",
       "    </tr>\n",
       "    <tr>\n",
       "      <th>4</th>\n",
       "      <td>73.0</td>\n",
       "      <td>2050</td>\n",
       "      <td>Bethel Census Area</td>\n",
       "      <td>AK</td>\n",
       "      <td>0.82</td>\n",
       "      <td>0.10</td>\n",
       "      <td>18224.0</td>\n",
       "      <td>62140.0</td>\n",
       "      <td>0.23</td>\n",
       "      <td>1.22</td>\n",
       "      <td>...</td>\n",
       "      <td>14.94</td>\n",
       "      <td>18066.47</td>\n",
       "      <td>5.55</td>\n",
       "      <td>0.36</td>\n",
       "      <td>68.86</td>\n",
       "      <td>200.49</td>\n",
       "      <td>0.09</td>\n",
       "      <td>38.10</td>\n",
       "      <td>0.40</td>\n",
       "      <td>Alaska</td>\n",
       "    </tr>\n",
       "    <tr>\n",
       "      <th>5</th>\n",
       "      <td>74.0</td>\n",
       "      <td>2060</td>\n",
       "      <td>Bristol Bay Borough</td>\n",
       "      <td>AK</td>\n",
       "      <td>0.95</td>\n",
       "      <td>0.04</td>\n",
       "      <td>844.0</td>\n",
       "      <td>99790.0</td>\n",
       "      <td>NaN</td>\n",
       "      <td>0.94</td>\n",
       "      <td>...</td>\n",
       "      <td>NaN</td>\n",
       "      <td>16587.52</td>\n",
       "      <td>3.60</td>\n",
       "      <td>0.18</td>\n",
       "      <td>NaN</td>\n",
       "      <td>NaN</td>\n",
       "      <td>0.04</td>\n",
       "      <td>NaN</td>\n",
       "      <td>0.23</td>\n",
       "      <td>Alaska</td>\n",
       "    </tr>\n",
       "  </tbody>\n",
       "</table>\n",
       "<p>5 rows × 22 columns</p>\n",
       "</div>"
      ],
      "text/plain": [
       "   index  fips                      county state_abbr  hs_diploma_percentage  \\\n",
       "0   70.0  2013      Aleutians East Borough         AK                   0.84   \n",
       "1   71.0  2016  Aleutians West Census Area         AK                   0.90   \n",
       "2   72.0  2020           Anchorage Borough         AK                   0.94   \n",
       "4   73.0  2050          Bethel Census Area         AK                   0.82   \n",
       "5   74.0  2060         Bristol Bay Borough         AK                   0.95   \n",
       "\n",
       "   unemployed_percentage  population  median_income  school_segration_index  \\\n",
       "0                   0.02      3461.0        83000.0                     NaN   \n",
       "1                   0.03      5160.0       104159.0                    0.20   \n",
       "2                   0.03    286075.0        93881.0                    0.10   \n",
       "4                   0.10     18224.0        62140.0                    0.23   \n",
       "5                   0.04       844.0        99790.0                     NaN   \n",
       "\n",
       "   gender_pay_gap  ...  residential_segregation  premature_death  \\\n",
       "0            1.07  ...                      NaN          4200.34   \n",
       "1            0.71  ...                      NaN          5785.40   \n",
       "2            0.87  ...                    47.18          9853.06   \n",
       "4            1.22  ...                    14.94         18066.47   \n",
       "5            0.94  ...                      NaN         16587.52   \n",
       "\n",
       "   income_inequality  child_poverty_percentage  life_expectancy  \\\n",
       "0               4.73                      0.19              NaN   \n",
       "1               3.13                      0.05            85.92   \n",
       "2               4.05                      0.10            76.34   \n",
       "4               5.55                      0.36            68.86   \n",
       "5               3.60                      0.18              NaN   \n",
       "\n",
       "   child_mortality  high_housing_cost_percentage  firearm_fatalities  \\\n",
       "0              NaN                          0.09                 NaN   \n",
       "1              NaN                          0.04                 NaN   \n",
       "2            63.38                          0.12               19.28   \n",
       "4           200.49                          0.09               38.10   \n",
       "5              NaN                          0.04                 NaN   \n",
       "\n",
       "   child_care_cost_burden   state  \n",
       "0                    0.22  Alaska  \n",
       "1                    0.31  Alaska  \n",
       "2                    0.38     NaN  \n",
       "4                    0.40  Alaska  \n",
       "5                    0.23  Alaska  \n",
       "\n",
       "[5 rows x 22 columns]"
      ]
     },
     "execution_count": 233,
     "metadata": {},
     "output_type": "execute_result"
    }
   ],
   "source": [
    "test_gini.head()"
   ]
  },
  {
   "cell_type": "markdown",
   "id": "c017d47f",
   "metadata": {},
   "source": [
    "### clean merge result"
   ]
  },
  {
   "cell_type": "code",
   "execution_count": 224,
   "id": "d974c5e6",
   "metadata": {},
   "outputs": [
    {
     "data": {
      "application/vnd.microsoft.datawrangler.viewer.v0+json": {
       "columns": [
        {
         "name": "fips",
         "rawType": "object",
         "type": "string"
        },
        {
         "name": "county",
         "rawType": "object",
         "type": "string"
        },
        {
         "name": "state_abbr",
         "rawType": "object",
         "type": "string"
        },
        {
         "name": "state",
         "rawType": "object",
         "type": "string"
        },
        {
         "name": "index",
         "rawType": "float64",
         "type": "float"
        },
        {
         "name": "hs_diploma_percentage",
         "rawType": "float64",
         "type": "float"
        },
        {
         "name": "unemployed_percentage",
         "rawType": "float64",
         "type": "float"
        },
        {
         "name": "population",
         "rawType": "float64",
         "type": "float"
        },
        {
         "name": "median_income",
         "rawType": "float64",
         "type": "float"
        },
        {
         "name": "school_segration_index",
         "rawType": "float64",
         "type": "float"
        },
        {
         "name": "gender_pay_gap",
         "rawType": "float64",
         "type": "float"
        },
        {
         "name": "uninsured__percentage",
         "rawType": "float64",
         "type": "float"
        },
        {
         "name": "school_funding_gap",
         "rawType": "float64",
         "type": "float"
        },
        {
         "name": "residential_segregation",
         "rawType": "float64",
         "type": "float"
        },
        {
         "name": "premature_death",
         "rawType": "float64",
         "type": "float"
        },
        {
         "name": "income_inequality",
         "rawType": "float64",
         "type": "float"
        },
        {
         "name": "child_poverty_percentage",
         "rawType": "float64",
         "type": "float"
        },
        {
         "name": "life_expectancy",
         "rawType": "float64",
         "type": "float"
        },
        {
         "name": "child_mortality",
         "rawType": "float64",
         "type": "float"
        },
        {
         "name": "high_housing_cost_percentage",
         "rawType": "float64",
         "type": "float"
        },
        {
         "name": "firearm_fatalities",
         "rawType": "float64",
         "type": "float"
        },
        {
         "name": "child_care_cost_burden",
         "rawType": "float64",
         "type": "float"
        }
       ],
       "conversionMethod": "pd.DataFrame",
       "ref": "e9de35a6-d5e3-48dd-9ddf-06c0f324410a",
       "rows": [
        [
         "1001",
         "Autauga County",
         "AL",
         "Alabama",
         "2.0",
         "0.9",
         "0.02",
         "60342.0",
         "68857.0",
         "0.06",
         "0.71",
         "0.08",
         "-2319.66",
         "33.96",
         "9938.26",
         "4.27",
         "0.17",
         "74.8",
         "61.26",
         "0.12",
         "17.45",
         "0.22"
        ],
        [
         "1003",
         "Baldwin County",
         "AL",
         "Alabama",
         "3.0",
         "0.92",
         "0.02",
         "253507.0",
         "74248.0",
         "0.09",
         "0.72",
         "0.1",
         "506.3",
         "42.65",
         "8957.11",
         "4.36",
         "0.14",
         "76.58",
         "50.16",
         "0.1",
         "14.96",
         "0.19"
        ],
        [
         "1005",
         "Barbour County",
         "AL",
         "Alabama",
         "4.0",
         "0.78",
         "0.04",
         "24585.0",
         "45298.0",
         "0.04",
         "0.77",
         "0.12",
         "-17790.46",
         "22.73",
         "12738.66",
         "5.61",
         "0.35",
         "72.71",
         "71.71",
         "0.1",
         "26.65",
         "0.29"
        ],
        [
         "1007",
         "Bibb County",
         "AL",
         "Alabama",
         "5.0",
         "0.8",
         "0.02",
         "21868.0",
         "56025.0",
         "0.09",
         "0.82",
         "0.11",
         "-3657.8",
         "40.01",
         "11708.95",
         "5.35",
         "0.21",
         "72.98",
         "87.08",
         "0.09",
         "21.54",
         "0.27"
        ],
        [
         "1009",
         "Blount County",
         "AL",
         "Alabama",
         "6.0",
         "0.83",
         "0.02",
         "59816.0",
         "64962.0",
         "0.09",
         "0.81",
         "0.13",
         "-1559.42",
         "64.89",
         "11898.09",
         "4.62",
         "0.17",
         "72.94",
         "58.04",
         "0.08",
         "18.14",
         "0.25"
        ]
       ],
       "shape": {
        "columns": 21,
        "rows": 5
       }
      },
      "text/html": [
       "<div>\n",
       "<style scoped>\n",
       "    .dataframe tbody tr th:only-of-type {\n",
       "        vertical-align: middle;\n",
       "    }\n",
       "\n",
       "    .dataframe tbody tr th {\n",
       "        vertical-align: top;\n",
       "    }\n",
       "\n",
       "    .dataframe thead th {\n",
       "        text-align: right;\n",
       "    }\n",
       "</style>\n",
       "<table border=\"1\" class=\"dataframe\">\n",
       "  <thead>\n",
       "    <tr style=\"text-align: right;\">\n",
       "      <th></th>\n",
       "      <th>county</th>\n",
       "      <th>state_abbr</th>\n",
       "      <th>state</th>\n",
       "      <th>index</th>\n",
       "      <th>hs_diploma_percentage</th>\n",
       "      <th>unemployed_percentage</th>\n",
       "      <th>population</th>\n",
       "      <th>median_income</th>\n",
       "      <th>school_segration_index</th>\n",
       "      <th>gender_pay_gap</th>\n",
       "      <th>...</th>\n",
       "      <th>school_funding_gap</th>\n",
       "      <th>residential_segregation</th>\n",
       "      <th>premature_death</th>\n",
       "      <th>income_inequality</th>\n",
       "      <th>child_poverty_percentage</th>\n",
       "      <th>life_expectancy</th>\n",
       "      <th>child_mortality</th>\n",
       "      <th>high_housing_cost_percentage</th>\n",
       "      <th>firearm_fatalities</th>\n",
       "      <th>child_care_cost_burden</th>\n",
       "    </tr>\n",
       "    <tr>\n",
       "      <th>fips</th>\n",
       "      <th></th>\n",
       "      <th></th>\n",
       "      <th></th>\n",
       "      <th></th>\n",
       "      <th></th>\n",
       "      <th></th>\n",
       "      <th></th>\n",
       "      <th></th>\n",
       "      <th></th>\n",
       "      <th></th>\n",
       "      <th></th>\n",
       "      <th></th>\n",
       "      <th></th>\n",
       "      <th></th>\n",
       "      <th></th>\n",
       "      <th></th>\n",
       "      <th></th>\n",
       "      <th></th>\n",
       "      <th></th>\n",
       "      <th></th>\n",
       "      <th></th>\n",
       "    </tr>\n",
       "  </thead>\n",
       "  <tbody>\n",
       "    <tr>\n",
       "      <th>1001</th>\n",
       "      <td>Autauga County</td>\n",
       "      <td>AL</td>\n",
       "      <td>Alabama</td>\n",
       "      <td>2.0</td>\n",
       "      <td>0.90</td>\n",
       "      <td>0.02</td>\n",
       "      <td>60342.0</td>\n",
       "      <td>68857.0</td>\n",
       "      <td>0.06</td>\n",
       "      <td>0.71</td>\n",
       "      <td>...</td>\n",
       "      <td>-2319.66</td>\n",
       "      <td>33.96</td>\n",
       "      <td>9938.26</td>\n",
       "      <td>4.27</td>\n",
       "      <td>0.17</td>\n",
       "      <td>74.80</td>\n",
       "      <td>61.26</td>\n",
       "      <td>0.12</td>\n",
       "      <td>17.45</td>\n",
       "      <td>0.22</td>\n",
       "    </tr>\n",
       "    <tr>\n",
       "      <th>1003</th>\n",
       "      <td>Baldwin County</td>\n",
       "      <td>AL</td>\n",
       "      <td>Alabama</td>\n",
       "      <td>3.0</td>\n",
       "      <td>0.92</td>\n",
       "      <td>0.02</td>\n",
       "      <td>253507.0</td>\n",
       "      <td>74248.0</td>\n",
       "      <td>0.09</td>\n",
       "      <td>0.72</td>\n",
       "      <td>...</td>\n",
       "      <td>506.30</td>\n",
       "      <td>42.65</td>\n",
       "      <td>8957.11</td>\n",
       "      <td>4.36</td>\n",
       "      <td>0.14</td>\n",
       "      <td>76.58</td>\n",
       "      <td>50.16</td>\n",
       "      <td>0.10</td>\n",
       "      <td>14.96</td>\n",
       "      <td>0.19</td>\n",
       "    </tr>\n",
       "    <tr>\n",
       "      <th>1005</th>\n",
       "      <td>Barbour County</td>\n",
       "      <td>AL</td>\n",
       "      <td>Alabama</td>\n",
       "      <td>4.0</td>\n",
       "      <td>0.78</td>\n",
       "      <td>0.04</td>\n",
       "      <td>24585.0</td>\n",
       "      <td>45298.0</td>\n",
       "      <td>0.04</td>\n",
       "      <td>0.77</td>\n",
       "      <td>...</td>\n",
       "      <td>-17790.46</td>\n",
       "      <td>22.73</td>\n",
       "      <td>12738.66</td>\n",
       "      <td>5.61</td>\n",
       "      <td>0.35</td>\n",
       "      <td>72.71</td>\n",
       "      <td>71.71</td>\n",
       "      <td>0.10</td>\n",
       "      <td>26.65</td>\n",
       "      <td>0.29</td>\n",
       "    </tr>\n",
       "    <tr>\n",
       "      <th>1007</th>\n",
       "      <td>Bibb County</td>\n",
       "      <td>AL</td>\n",
       "      <td>Alabama</td>\n",
       "      <td>5.0</td>\n",
       "      <td>0.80</td>\n",
       "      <td>0.02</td>\n",
       "      <td>21868.0</td>\n",
       "      <td>56025.0</td>\n",
       "      <td>0.09</td>\n",
       "      <td>0.82</td>\n",
       "      <td>...</td>\n",
       "      <td>-3657.80</td>\n",
       "      <td>40.01</td>\n",
       "      <td>11708.95</td>\n",
       "      <td>5.35</td>\n",
       "      <td>0.21</td>\n",
       "      <td>72.98</td>\n",
       "      <td>87.08</td>\n",
       "      <td>0.09</td>\n",
       "      <td>21.54</td>\n",
       "      <td>0.27</td>\n",
       "    </tr>\n",
       "    <tr>\n",
       "      <th>1009</th>\n",
       "      <td>Blount County</td>\n",
       "      <td>AL</td>\n",
       "      <td>Alabama</td>\n",
       "      <td>6.0</td>\n",
       "      <td>0.83</td>\n",
       "      <td>0.02</td>\n",
       "      <td>59816.0</td>\n",
       "      <td>64962.0</td>\n",
       "      <td>0.09</td>\n",
       "      <td>0.81</td>\n",
       "      <td>...</td>\n",
       "      <td>-1559.42</td>\n",
       "      <td>64.89</td>\n",
       "      <td>11898.09</td>\n",
       "      <td>4.62</td>\n",
       "      <td>0.17</td>\n",
       "      <td>72.94</td>\n",
       "      <td>58.04</td>\n",
       "      <td>0.08</td>\n",
       "      <td>18.14</td>\n",
       "      <td>0.25</td>\n",
       "    </tr>\n",
       "  </tbody>\n",
       "</table>\n",
       "<p>5 rows × 21 columns</p>\n",
       "</div>"
      ],
      "text/plain": [
       "              county state_abbr    state  index  hs_diploma_percentage  \\\n",
       "fips                                                                     \n",
       "1001  Autauga County         AL  Alabama    2.0                   0.90   \n",
       "1003  Baldwin County         AL  Alabama    3.0                   0.92   \n",
       "1005  Barbour County         AL  Alabama    4.0                   0.78   \n",
       "1007     Bibb County         AL  Alabama    5.0                   0.80   \n",
       "1009   Blount County         AL  Alabama    6.0                   0.83   \n",
       "\n",
       "      unemployed_percentage  population  median_income  \\\n",
       "fips                                                     \n",
       "1001                   0.02     60342.0        68857.0   \n",
       "1003                   0.02    253507.0        74248.0   \n",
       "1005                   0.04     24585.0        45298.0   \n",
       "1007                   0.02     21868.0        56025.0   \n",
       "1009                   0.02     59816.0        64962.0   \n",
       "\n",
       "      school_segration_index  gender_pay_gap  ...  school_funding_gap  \\\n",
       "fips                                          ...                       \n",
       "1001                    0.06            0.71  ...            -2319.66   \n",
       "1003                    0.09            0.72  ...              506.30   \n",
       "1005                    0.04            0.77  ...           -17790.46   \n",
       "1007                    0.09            0.82  ...            -3657.80   \n",
       "1009                    0.09            0.81  ...            -1559.42   \n",
       "\n",
       "      residential_segregation  premature_death  income_inequality  \\\n",
       "fips                                                                \n",
       "1001                    33.96          9938.26               4.27   \n",
       "1003                    42.65          8957.11               4.36   \n",
       "1005                    22.73         12738.66               5.61   \n",
       "1007                    40.01         11708.95               5.35   \n",
       "1009                    64.89         11898.09               4.62   \n",
       "\n",
       "      child_poverty_percentage  life_expectancy  child_mortality  \\\n",
       "fips                                                               \n",
       "1001                      0.17            74.80            61.26   \n",
       "1003                      0.14            76.58            50.16   \n",
       "1005                      0.35            72.71            71.71   \n",
       "1007                      0.21            72.98            87.08   \n",
       "1009                      0.17            72.94            58.04   \n",
       "\n",
       "      high_housing_cost_percentage  firearm_fatalities  child_care_cost_burden  \n",
       "fips                                                                            \n",
       "1001                          0.12               17.45                    0.22  \n",
       "1003                          0.10               14.96                    0.19  \n",
       "1005                          0.10               26.65                    0.29  \n",
       "1007                          0.09               21.54                    0.27  \n",
       "1009                          0.08               18.14                    0.25  \n",
       "\n",
       "[5 rows x 21 columns]"
      ]
     },
     "execution_count": 224,
     "metadata": {},
     "output_type": "execute_result"
    }
   ],
   "source": [
    "merged_county_level.head()"
   ]
  },
  {
   "cell_type": "markdown",
   "id": "1af15d4a",
   "metadata": {},
   "source": [
    "# Insights"
   ]
  },
  {
   "cell_type": "markdown",
   "id": "986b186d",
   "metadata": {},
   "source": [
    "## Standardizing and removing outliers"
   ]
  },
  {
   "cell_type": "code",
   "execution_count": 249,
   "id": "f51924b9",
   "metadata": {},
   "outputs": [],
   "source": [
    "independent_vars = ['income_inequality', 'gender_pay_gap',\n",
    "       'school_segration_index', 'residential_segregation',\n",
    "       'school_funding_gap']\n",
    "\n",
    "dependent_vars = ['hs_diploma_percentage', 'unemployed_percentage', 'population', 'median_income', 'uninsured__percentage', 'premature_death', 'child_poverty_percentage', 'life_expectancy', 'child_mortality', 'high_housing_cost_percentage', 'firearm_fatalities', 'child_care_cost_burden']"
   ]
  },
  {
   "cell_type": "code",
   "execution_count": 253,
   "id": "ba1376d8",
   "metadata": {},
   "outputs": [],
   "source": [
    "vars_to_z = independent_vars + dependent_vars"
   ]
  },
  {
   "cell_type": "code",
   "execution_count": 254,
   "id": "8a1975c0",
   "metadata": {},
   "outputs": [],
   "source": [
    "# multiplies each percentage column by county polulation to yield total amounts\n",
    "def calc_z(df, cols):\n",
    "    for i in df[cols]:\n",
    "        df[i] = np.abs(stats.zscore(df[i])) \n",
    "    return df\n"
   ]
  },
  {
   "cell_type": "markdown",
   "id": "8edb77f4",
   "metadata": {},
   "source": [
    "### Spot outliers w function"
   ]
  },
  {
   "cell_type": "markdown",
   "id": "6c2985ba",
   "metadata": {},
   "source": [
    "## Mutual Information: finding highly dependent Vartiables"
   ]
  },
  {
   "cell_type": "markdown",
   "id": "a364449f",
   "metadata": {},
   "source": [
    "### Creating a Matrix of pairs fo each dependent var w independent var"
   ]
  },
  {
   "cell_type": "code",
   "execution_count": 285,
   "id": "cbce8ead",
   "metadata": {},
   "outputs": [],
   "source": [
    "z_counties = z_counties.dropna()\n",
    "z_county = pd.DataFrame(z_counties)"
   ]
  },
  {
   "cell_type": "code",
   "execution_count": 250,
   "id": "0112b0ec",
   "metadata": {},
   "outputs": [
    {
     "name": "stdout",
     "output_type": "stream",
     "text": [
      "                         hs_diploma_percentage  unemployed_percentage  \\\n",
      "income_inequality                     0.152903               0.047940   \n",
      "gender_pay_gap                        0.007974               0.000000   \n",
      "school_segration_index                0.036599               0.000000   \n",
      "residential_segregation               0.081075               0.009148   \n",
      "school_funding_gap                    0.275707               0.030857   \n",
      "\n",
      "                         population  median_income  uninsured__percentage  \\\n",
      "income_inequality          0.008735       0.212437               0.023838   \n",
      "gender_pay_gap             0.051673       0.027727               0.021636   \n",
      "school_segration_index     0.158301       0.013381               0.040557   \n",
      "residential_segregation    0.079881       0.021964               0.060243   \n",
      "school_funding_gap         0.087697       0.248964               0.255993   \n",
      "\n",
      "                         premature_death  child_poverty_percentage  \\\n",
      "income_inequality               0.191821                  0.265686   \n",
      "gender_pay_gap                  0.009158                  0.035647   \n",
      "school_segration_index          0.010834                  0.017413   \n",
      "residential_segregation         0.038318                  0.020183   \n",
      "school_funding_gap              0.231779                  0.307498   \n",
      "\n",
      "                         life_expectancy  child_mortality  \\\n",
      "income_inequality               0.171770         0.079052   \n",
      "gender_pay_gap                  0.041316         0.031067   \n",
      "school_segration_index          0.008234         0.017426   \n",
      "residential_segregation         0.037197         0.042730   \n",
      "school_funding_gap              0.247403         0.240662   \n",
      "\n",
      "                         high_housing_cost_percentage  firearm_fatalities  \\\n",
      "income_inequality                            0.109908            0.064166   \n",
      "gender_pay_gap                               0.072973            0.014493   \n",
      "school_segration_index                       0.036891            0.067594   \n",
      "residential_segregation                      0.011166            0.028188   \n",
      "school_funding_gap                           0.058957            0.285154   \n",
      "\n",
      "                         child_care_cost_burden  \n",
      "income_inequality                      0.036797  \n",
      "gender_pay_gap                         0.063160  \n",
      "school_segration_index                 0.049429  \n",
      "residential_segregation                0.057013  \n",
      "school_funding_gap                     0.090955  \n"
     ]
    }
   ],
   "source": [
    "# Initialize a matrix to store mutual information\n",
    "mutual_info_matrix = np.zeros((len(independent_vars), len(dependent_vars)))\n",
    "\n",
    "# Calculate mutual information for each independent-dependent variable pair\n",
    "for i, var1 in enumerate(independent_vars):\n",
    "    for j, var2 in enumerate(dependent_vars):\n",
    "        X = test_counties[[var1]]\n",
    "        y = test_counties[var2]\n",
    "        mutual_info = mutual_info_regression(X, y)\n",
    "        mutual_info_matrix[i, j] = mutual_info[0]  # Store the mutual info scalar\n",
    "\n",
    "# Convert the matrix to a DataFrame for easier viewing\n",
    "mutual_info_df = pd.DataFrame(mutual_info_matrix, index=independent_vars, columns=dependent_vars)\n",
    "\n",
    "# Display the mutual information DataFrame\n",
    "print(mutual_info_df)\n"
   ]
  },
  {
   "cell_type": "markdown",
   "id": "40951fc9",
   "metadata": {},
   "source": [
    "### VisualiziningPairwise Mutual Information as Heatmap"
   ]
  },
  {
   "cell_type": "code",
   "execution_count": 251,
   "id": "c6e61083",
   "metadata": {},
   "outputs": [
    {
     "data": {
      "image/png": "[encoded data removed]",
      "text/plain": [
       "<Figure size 1000x800 with 2 Axes>"
      ]
     },
     "metadata": {},
     "output_type": "display_data"
    }
   ],
   "source": [
    "plt.figure(figsize=(10, 8))\n",
    "sns.heatmap(mutual_info_df, annot=True, cmap='flare', square=True)\n",
    "plt.title('Pairwise Mutual Information- Inequity')\n",
    "plt.show()"
   ]
  },
  {
   "cell_type": "markdown",
   "id": "46403ce1",
   "metadata": {},
   "source": [
    "### Getting most dependent variable pairs"
   ]
  },
  {
   "cell_type": "code",
   "execution_count": 252,
   "id": "336ac9d2",
   "metadata": {},
   "outputs": [
    {
     "name": "stdout",
     "output_type": "stream",
     "text": [
      "child_poverty_percentage  school_funding_gap    0.307498\n",
      "firearm_fatalities        school_funding_gap    0.285154\n",
      "hs_diploma_percentage     school_funding_gap    0.275707\n",
      "child_poverty_percentage  income_inequality     0.265686\n",
      "uninsured__percentage     school_funding_gap    0.255993\n",
      "median_income             school_funding_gap    0.248964\n",
      "life_expectancy           school_funding_gap    0.247403\n",
      "child_mortality           school_funding_gap    0.240662\n",
      "premature_death           school_funding_gap    0.231779\n",
      "median_income             income_inequality     0.212437\n",
      "dtype: float64\n"
     ]
    }
   ],
   "source": [
    "top_var_pairs = mutual_info_df.unstack().sort_values(ascending=False).head(10)\n",
    "print(top_var_pairs)"
   ]
  },
  {
   "cell_type": "markdown",
   "id": "7252fe86",
   "metadata": {},
   "source": [
    "### Data Description"
   ]
  },
  {
   "cell_type": "markdown",
   "id": "af5ee876",
   "metadata": {},
   "source": []
  },
  {
   "cell_type": "markdown",
   "id": "689d03f4",
   "metadata": {},
   "source": [
    "### Correlation and Covariance"
   ]
  },
  {
   "cell_type": "code",
   "execution_count": null,
   "id": "2659cff1",
   "metadata": {},
   "outputs": [],
   "source": [
    "matrix = us_counties_updated.corr(method='spearman', numeric_only=True).round(2)\n",
    "sns.heatmap(matrix, annot=True)"
   ]
  },
  {
   "cell_type": "code",
   "execution_count": null,
   "id": "c82c37c6",
   "metadata": {},
   "outputs": [],
   "source": [
    "sns.pairplot(us_counties, \n",
    "    x_vars= ['income_inequality', 'gender_pay_gap', 'school_segration_index', 'residential_segregation','school_funding_gap'],\n",
    "    y_vars= ['child_mortality', 'child_poverty_percentage','firearm_fatalities', 'life_expectancy', 'median_income', 'premature_death'],\n",
    "    )     "
   ]
  },
  {
   "cell_type": "markdown",
   "id": "6792bec6",
   "metadata": {},
   "source": [
    "### Distributions"
   ]
  },
  {
   "cell_type": "markdown",
   "id": "aa7e7f80",
   "metadata": {},
   "source": [
    "#### Income Inequality"
   ]
  },
  {
   "cell_type": "code",
   "execution_count": null,
   "id": "63f3d9d2",
   "metadata": {},
   "outputs": [],
   "source": [
    "inequity_df.hist(figsize=(12,12), layout=(3,3), color='teal', ec='black', sharex=False);"
   ]
  },
  {
   "cell_type": "markdown",
   "id": "7b4d08a7",
   "metadata": {},
   "source": [
    "#### Social Indicators"
   ]
  },
  {
   "cell_type": "code",
   "execution_count": null,
   "id": "a7bfe571",
   "metadata": {},
   "outputs": [],
   "source": [
    "county_socio_econ = county_socio_econ.drop(columns='population')"
   ]
  },
  {
   "cell_type": "code",
   "execution_count": null,
   "id": "38f79706",
   "metadata": {},
   "outputs": [],
   "source": [
    "county_socio_econ.hist(figsize=(12,12), layout=(3,3), sharex=False);"
   ]
  },
  {
   "cell_type": "code",
   "execution_count": null,
   "id": "2e30a2b5",
   "metadata": {},
   "outputs": [],
   "source": [
    "\n",
    "plt.show()"
   ]
  },
  {
   "cell_type": "markdown",
   "id": "dffe82d4",
   "metadata": {},
   "source": [
    "### Regression"
   ]
  },
  {
   "cell_type": "code",
   "execution_count": null,
   "id": "99f3cec7",
   "metadata": {},
   "outputs": [],
   "source": [
    "fig, ax = plt.subplots()  \n",
    "ax.scatter(us_counties_updated['income_inequality'], us_counties_updated['child_mortality'])  \n",
    "ax.set_xlabel('Income Inequality Index')  \n",
    "ax.set_ylabel('Child Mortality')  \n",
    "plt.show()"
   ]
  },
  {
   "cell_type": "markdown",
   "id": "e26f5471",
   "metadata": {},
   "source": [
    "## Drill down on race"
   ]
  },
  {
   "cell_type": "markdown",
   "id": "4b129ca5",
   "metadata": {},
   "source": [
    "### Pair Plots"
   ]
  },
  {
   "cell_type": "code",
   "execution_count": null,
   "id": "70d75f2d",
   "metadata": {},
   "outputs": [],
   "source": [
    "race_anlysis = race_metrics.copy()\n",
    "race_anlysis = race_anlysis.drop(columns=['county_population', 'population_percentage'])"
   ]
  },
  {
   "cell_type": "code",
   "execution_count": null,
   "id": "8eb048a7",
   "metadata": {},
   "outputs": [],
   "source": [
    "sns.pairplot(race_anlysis, hue='race')"
   ]
  },
  {
   "cell_type": "code",
   "execution_count": null,
   "id": "75813c5e",
   "metadata": {},
   "outputs": [],
   "source": [
    "df_test = race_anlysis.merge(inequity_df, on=index)\n",
    "inequity_df = inequity_df.dropna()"
   ]
  },
  {
   "cell_type": "markdown",
   "id": "eba8e495",
   "metadata": {},
   "source": [
    "### Comparing distributions between income inequality groupings: 'above_median' and 'below_median'"
   ]
  },
  {
   "cell_type": "code",
   "execution_count": null,
   "id": "14ef8b77",
   "metadata": {},
   "outputs": [],
   "source": [
    "print(us_counties_updated['income_inequality'].median())"
   ]
  }
 ],
 "metadata": {
  "kernelspec": {
   "display_name": "pydata",
   "language": "python",
   "name": "python3"
  },
  "language_info": {
   "codemirror_mode": {
    "name": "ipython",
    "version": 3
   },
   "file_extension": ".py",
   "mimetype": "text/x-python",
   "name": "python",
   "nbconvert_exporter": "python",
   "pygments_lexer": "ipython3",
   "version": "3.13.1"
  }
 },
 "nbformat": 4,
 "nbformat_minor": 5
}
