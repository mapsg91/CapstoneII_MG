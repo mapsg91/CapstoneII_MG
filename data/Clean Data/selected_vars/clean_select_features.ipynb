{
 "cells": [
  {
   "cell_type": "markdown",
   "id": "12a123f1",
   "metadata": {},
   "source": [
    "# Importing Libraries and Cleaned Datasets"
   ]
  },
  {
   "cell_type": "code",
   "execution_count": 65,
   "id": "d040be25",
   "metadata": {},
   "outputs": [],
   "source": [
    "#import kagglehub\n",
    "import pandas as pd\n",
    "import numpy as np\n",
    "import seaborn as sns\n",
    "import matplotlib.pyplot as plt\n",
    "import statsmodels as sm\n",
    "\n",
    "county_health_rank = pd.read_csv('county_rankings25.csv')\n",
    "fips_codes = pd.read_csv('all_fips.csv')\n",
    "county_vars = pd.read_csv('county_vars_2.csv')\n",
    "ltss_2022 = pd.read_csv('ltss_2022.csv')"
   ]
  },
  {
   "cell_type": "markdown",
   "id": "4b5e7e4e",
   "metadata": {},
   "source": [
    "# Data Cleaning Plan\n",
    "## County Health Rankings 2025\n",
    "In place of the previousl 4 tables reporting socio economic metrics, I found a new Dataset 'County Health Rankings.' The data wrangling process will involve selecting the target variables, renaming, normalizing data types, validating the resulting dataframe, and applying the standardized hierarchical index (county, state).\n",
    "\n",
    "Since dataset contains hundreds of variables, I created a small dataframe of our variables of interest and normalized names to facilate creating the subset itself and its naming conventions. \n",
    "\n",
    "\n",
    "## LTSS Enrollment and Expenditure tables\n",
    "The state-level LTSS enrollment and expenditure tables remain and their cleaning involves: subsetting by columns neeeded reporting metrics for enrollment and expenses. These variables reflect enrollment in the first table and expenses in the second for (1)The entire LTSS program, (2) Institutional care, and (3)HCBS program. \n",
    "\n",
    "I will subset each table by thsese colums, rename by the conventions defined at the beginning of the section, remove invalid characters ('$', ',') from numeric columns, change the datatypes of the columns to floats for quantitative variables ans strings for 'id' variables, and set 'state' as index prior to merging.\n",
    "\n",
    "## FIPS & States ID table\n",
    "I will merge both tables above to a previosly created 'all_fips' (which serves as a sort of  'fact table'-listing county names, state names, state abbreviations, and corresponding fips codes) by index. \n",
    "\n",
    "I will validate the data and clean any merging errors like the creation of duplicate columns and/or changes to naming conventions (such as adding suffixes/prefixes to duplicate and original colums).\n",
    "\n",
    "Finally, I will merge both of these new tables by the standardized index mentioned above."
   ]
  },
  {
   "cell_type": "markdown",
   "id": "33ead3d5",
   "metadata": {},
   "source": [
    "# Data Cleaning"
   ]
  },
  {
   "cell_type": "markdown",
   "id": "8692ccdd",
   "metadata": {},
   "source": [
    "## LTSS Table"
   ]
  },
  {
   "cell_type": "markdown",
   "id": "ec79c637",
   "metadata": {},
   "source": [
    "### Cleaning invalid characters in columns to prep for datatype conversion to float"
   ]
  },
  {
   "cell_type": "code",
   "execution_count": 66,
   "id": "43746d99",
   "metadata": {},
   "outputs": [
    {
     "name": "stderr",
     "output_type": "stream",
     "text": [
      "/tmp/ipykernel_534/2620598630.py:5: SettingWithCopyWarning: \n",
      "A value is trying to be set on a copy of a slice from a DataFrame.\n",
      "Try using .loc[row_indexer,col_indexer] = value instead\n",
      "\n",
      "See the caveats in the documentation: https://pandas.pydata.org/pandas-docs/stable/user_guide/indexing.html#returning-a-view-versus-a-copy\n",
      "  ltss_population['LTSS (total)'] = ltss_population['LTSS (total)'].str.replace(',', '').astype(float)\n"
     ]
    }
   ],
   "source": [
    "# defining columns to keep and subsetting dataframes\n",
    "ltss_cols= ['State', 'LTSS (total)']\n",
    "ltss_population = ltss_2022[ltss_cols]\n",
    "\n",
    "ltss_population['LTSS (total)'] = ltss_population['LTSS (total)'].str.replace(',', '').astype(float)\n",
    "ltss_pop_names = {'State': 'state', 'LTSS (total)': 'ltss_state_enrollment'}\n",
    "ltss_population = ltss_population.rename(columns=ltss_pop_names)\n",
    "ltss_population.set_index(['state'])\n",
    "# normalize state names\n",
    "ltss_state_rename_enr = {'National': 'United States','District of\\nColumbia':'District of Columbia'}\n",
    "ltss_population['state'] = ltss_population['state'].replace(ltss_state_rename_enr)\n"
   ]
  },
  {
   "cell_type": "markdown",
   "id": "641693b7",
   "metadata": {},
   "source": [
    "## County Rankings tables"
   ]
  },
  {
   "cell_type": "markdown",
   "id": "48034547",
   "metadata": {},
   "source": [
    "create subset, clean result, and merge with 'fips_codes'"
   ]
  },
  {
   "cell_type": "code",
   "execution_count": 67,
   "id": "2222e670",
   "metadata": {},
   "outputs": [],
   "source": [
    "county_health_subset = county_vars['raw_variable'].tolist()\n",
    "new_names = county_vars[' new_name'].tolist()\n",
    "county_health_cols = dict(zip(county_health_subset, new_names))\n",
    "# creating subset and renaiming with list and dictionary from above\n",
    "county_health= county_health_rank[county_health_subset]\n",
    "county_health= county_health.rename(columns=county_health_cols)\n",
    "# normalizing fips codes\n",
    "county_health['fips'] = county_health['fips'].astype('str')\n",
    "fips_codes['fips'] = fips_codes['fips'].astype('str')\n",
    "#merging with fips codes\n",
    "us_counties = pd.merge(county_health, fips_codes, how='outer', on='fips')\n",
    "# creating new dataframe without non-county data to keep original dataframe for 'non_county' data subset\n",
    "us_counties_updated = us_counties.dropna(subset=['state'])\n",
    "# these are states, the US, and 'planning' regions\n",
    "non_counties = us_counties[us_counties['state'].isnull()]"
   ]
  },
  {
   "cell_type": "markdown",
   "id": "de26182e",
   "metadata": {},
   "source": [
    "### clean new table"
   ]
  },
  {
   "cell_type": "code",
   "execution_count": 68,
   "id": "d255b3b5",
   "metadata": {},
   "outputs": [],
   "source": [
    "def clean_merge(us_counties_updated):\n",
    "    # Drop columns: 'county_x', 'state_abbr_x'\n",
    "    us_counties_updated = us_counties_updated.drop(columns=['county_x', 'state_abbr_x'])\n",
    "    # Rename column 'county_y' to 'county'\n",
    "    us_counties_updated = us_counties_updated.rename(columns={'county_y': 'county'})\n",
    "    # Rename column 'state_abbr_y' to 'state_abbr'\n",
    "    us_counties_updated = us_counties_updated.rename(columns={'state_abbr_y': 'state_abbr'})\n",
    "    return us_counties_updated"
   ]
  },
  {
   "cell_type": "code",
   "execution_count": 69,
   "id": "be815e40",
   "metadata": {},
   "outputs": [],
   "source": [
    "us_counties_updated = clean_merge(us_counties_updated)\n",
    "us_counties_updated = us_counties_updated.round(2)"
   ]
  },
  {
   "cell_type": "markdown",
   "id": "6e78b3f9",
   "metadata": {},
   "source": [
    "## Drill down subsets"
   ]
  },
  {
   "cell_type": "code",
   "execution_count": 70,
   "id": "502e841c",
   "metadata": {},
   "outputs": [],
   "source": [
    "# creating subset\n",
    "child_poverty_groups = pd.read_csv('child_poverty.csv')\n",
    "child_poverty_subset = child_poverty_groups['raw_variable'].tolist()\n",
    "child_poverty_names = child_poverty_groups[' new_name'].tolist()\n",
    "child_poverty_cols = dict(zip(child_poverty_subset, child_poverty_names))\n",
    "child_poverty= county_health_rank[child_poverty_subset]\n",
    "\n",
    "# cleaning new df:renaming with list and dictionary from above, changing dytypes, and rounding\n",
    "child_poverty= child_poverty.rename(columns=child_poverty_cols)\n",
    "child_poverty['fips'] = child_poverty['fips'].astype('str')\n",
    "child_poverty = child_poverty.round(2)\n",
    "child_poverty =child_poverty.fillna(0)"
   ]
  },
  {
   "cell_type": "markdown",
   "id": "6a457af9",
   "metadata": {},
   "source": [
    "## Multi-Index Tables for drill down"
   ]
  },
  {
   "cell_type": "code",
   "execution_count": 71,
   "id": "39b81a04",
   "metadata": {},
   "outputs": [],
   "source": [
    "#index = ['state_abbr', 'county', 'fips']\n",
    "cp_test = child_poverty\n",
    "#child_poverty = child_poverty.drop(columns='population')\n",
    "#child_poverty['agg_value'] = 'child_poverty'\n",
    "cp_test['childpoverty_AIAN'] = cp_test['AIAN']*cp_test['population']\n",
    "cp_test['childpoverty_Black'] = cp_test['Black']*cp_test['population']\n",
    "cp_test['childpoverty_Hispanic'] = cp_test['Hispanic']*cp_test['population']\n",
    "cp_test['childpoverty_White'] = cp_test['White']*cp_test['population']\n",
    "\n",
    "cp_test = cp_test.drop(columns=['population'])\n",
    "cp_test['childpoverty_NHOPI'] = 0\n",
    "cp_test['childpoverty_Asian'] = 0\n",
    "cp_test['childpoverty_Other'] = 0"
   ]
  },
  {
   "cell_type": "code",
   "execution_count": 72,
   "id": "56f1b952",
   "metadata": {},
   "outputs": [
    {
     "data": {
      "application/vnd.microsoft.datawrangler.viewer.v0+json": {
       "columns": [
        {
         "name": "index",
         "rawType": "int64",
         "type": "integer"
        },
        {
         "name": "fips",
         "rawType": "object",
         "type": "string"
        },
        {
         "name": "county",
         "rawType": "object",
         "type": "string"
        },
        {
         "name": "state_abbr",
         "rawType": "object",
         "type": "string"
        },
        {
         "name": "AIAN",
         "rawType": "float64",
         "type": "float"
        },
        {
         "name": "Black",
         "rawType": "float64",
         "type": "float"
        },
        {
         "name": "Hispanic",
         "rawType": "float64",
         "type": "float"
        },
        {
         "name": "White",
         "rawType": "float64",
         "type": "float"
        },
        {
         "name": "childpoverty_AIAN",
         "rawType": "float64",
         "type": "float"
        },
        {
         "name": "childpoverty_Black",
         "rawType": "float64",
         "type": "float"
        },
        {
         "name": "childpoverty_Hispanic",
         "rawType": "float64",
         "type": "float"
        },
        {
         "name": "childpoverty_White",
         "rawType": "float64",
         "type": "float"
        },
        {
         "name": "childpoverty_NHOPI",
         "rawType": "int64",
         "type": "integer"
        },
        {
         "name": "childpoverty_Asian",
         "rawType": "int64",
         "type": "integer"
        },
        {
         "name": "childpoverty_Other",
         "rawType": "int64",
         "type": "integer"
        }
       ],
       "conversionMethod": "pd.DataFrame",
       "ref": "e69e7bbe-e59c-4682-bd83-51180a3e3fdf",
       "rows": [
        [
         "0",
         "0",
         "United States",
         "US",
         "0.28",
         "0.3",
         "0.22",
         "0.1",
         "93776170.60000001",
         "100474468.5",
         "73681276.9",
         "33491489.5",
         "0",
         "0",
         "0"
        ],
        [
         "1",
         "1000",
         "Alabama",
         "AL",
         "0.28",
         "0.38",
         "0.33",
         "0.12",
         "1430371.04",
         "1941217.84",
         "1685794.4400000002",
         "613016.16",
         "0",
         "0",
         "0"
        ],
        [
         "2",
         "1001",
         "Autauga County",
         "AL",
         "0.0",
         "0.26",
         "0.22",
         "0.08",
         "0.0",
         "15688.92",
         "13275.24",
         "4827.36",
         "0",
         "0",
         "0"
        ],
        [
         "3",
         "1003",
         "Baldwin County",
         "AL",
         "0.0",
         "0.54",
         "0.34",
         "0.07",
         "0.0",
         "136893.78",
         "86192.38",
         "17745.49",
         "0",
         "0",
         "0"
        ],
        [
         "4",
         "1005",
         "Barbour County",
         "AL",
         "0.0",
         "0.49",
         "0.6",
         "0.04",
         "0.0",
         "12046.65",
         "14751.0",
         "983.4",
         "0",
         "0",
         "0"
        ]
       ],
       "shape": {
        "columns": 14,
        "rows": 5
       }
      },
      "text/html": [
       "<div>\n",
       "<style scoped>\n",
       "    .dataframe tbody tr th:only-of-type {\n",
       "        vertical-align: middle;\n",
       "    }\n",
       "\n",
       "    .dataframe tbody tr th {\n",
       "        vertical-align: top;\n",
       "    }\n",
       "\n",
       "    .dataframe thead th {\n",
       "        text-align: right;\n",
       "    }\n",
       "</style>\n",
       "<table border=\"1\" class=\"dataframe\">\n",
       "  <thead>\n",
       "    <tr style=\"text-align: right;\">\n",
       "      <th></th>\n",
       "      <th>fips</th>\n",
       "      <th>county</th>\n",
       "      <th>state_abbr</th>\n",
       "      <th>AIAN</th>\n",
       "      <th>Black</th>\n",
       "      <th>Hispanic</th>\n",
       "      <th>White</th>\n",
       "      <th>childpoverty_AIAN</th>\n",
       "      <th>childpoverty_Black</th>\n",
       "      <th>childpoverty_Hispanic</th>\n",
       "      <th>childpoverty_White</th>\n",
       "      <th>childpoverty_NHOPI</th>\n",
       "      <th>childpoverty_Asian</th>\n",
       "      <th>childpoverty_Other</th>\n",
       "    </tr>\n",
       "  </thead>\n",
       "  <tbody>\n",
       "    <tr>\n",
       "      <th>0</th>\n",
       "      <td>0</td>\n",
       "      <td>United States</td>\n",
       "      <td>US</td>\n",
       "      <td>0.28</td>\n",
       "      <td>0.30</td>\n",
       "      <td>0.22</td>\n",
       "      <td>0.10</td>\n",
       "      <td>93776170.60</td>\n",
       "      <td>1.004745e+08</td>\n",
       "      <td>73681276.90</td>\n",
       "      <td>33491489.50</td>\n",
       "      <td>0</td>\n",
       "      <td>0</td>\n",
       "      <td>0</td>\n",
       "    </tr>\n",
       "    <tr>\n",
       "      <th>1</th>\n",
       "      <td>1000</td>\n",
       "      <td>Alabama</td>\n",
       "      <td>AL</td>\n",
       "      <td>0.28</td>\n",
       "      <td>0.38</td>\n",
       "      <td>0.33</td>\n",
       "      <td>0.12</td>\n",
       "      <td>1430371.04</td>\n",
       "      <td>1.941218e+06</td>\n",
       "      <td>1685794.44</td>\n",
       "      <td>613016.16</td>\n",
       "      <td>0</td>\n",
       "      <td>0</td>\n",
       "      <td>0</td>\n",
       "    </tr>\n",
       "    <tr>\n",
       "      <th>2</th>\n",
       "      <td>1001</td>\n",
       "      <td>Autauga County</td>\n",
       "      <td>AL</td>\n",
       "      <td>0.00</td>\n",
       "      <td>0.26</td>\n",
       "      <td>0.22</td>\n",
       "      <td>0.08</td>\n",
       "      <td>0.00</td>\n",
       "      <td>1.568892e+04</td>\n",
       "      <td>13275.24</td>\n",
       "      <td>4827.36</td>\n",
       "      <td>0</td>\n",
       "      <td>0</td>\n",
       "      <td>0</td>\n",
       "    </tr>\n",
       "    <tr>\n",
       "      <th>3</th>\n",
       "      <td>1003</td>\n",
       "      <td>Baldwin County</td>\n",
       "      <td>AL</td>\n",
       "      <td>0.00</td>\n",
       "      <td>0.54</td>\n",
       "      <td>0.34</td>\n",
       "      <td>0.07</td>\n",
       "      <td>0.00</td>\n",
       "      <td>1.368938e+05</td>\n",
       "      <td>86192.38</td>\n",
       "      <td>17745.49</td>\n",
       "      <td>0</td>\n",
       "      <td>0</td>\n",
       "      <td>0</td>\n",
       "    </tr>\n",
       "    <tr>\n",
       "      <th>4</th>\n",
       "      <td>1005</td>\n",
       "      <td>Barbour County</td>\n",
       "      <td>AL</td>\n",
       "      <td>0.00</td>\n",
       "      <td>0.49</td>\n",
       "      <td>0.60</td>\n",
       "      <td>0.04</td>\n",
       "      <td>0.00</td>\n",
       "      <td>1.204665e+04</td>\n",
       "      <td>14751.00</td>\n",
       "      <td>983.40</td>\n",
       "      <td>0</td>\n",
       "      <td>0</td>\n",
       "      <td>0</td>\n",
       "    </tr>\n",
       "  </tbody>\n",
       "</table>\n",
       "</div>"
      ],
      "text/plain": [
       "   fips          county state_abbr  AIAN  Black  Hispanic  White  \\\n",
       "0     0   United States         US  0.28   0.30      0.22   0.10   \n",
       "1  1000         Alabama         AL  0.28   0.38      0.33   0.12   \n",
       "2  1001  Autauga County         AL  0.00   0.26      0.22   0.08   \n",
       "3  1003  Baldwin County         AL  0.00   0.54      0.34   0.07   \n",
       "4  1005  Barbour County         AL  0.00   0.49      0.60   0.04   \n",
       "\n",
       "   childpoverty_AIAN  childpoverty_Black  childpoverty_Hispanic  \\\n",
       "0        93776170.60        1.004745e+08            73681276.90   \n",
       "1         1430371.04        1.941218e+06             1685794.44   \n",
       "2               0.00        1.568892e+04               13275.24   \n",
       "3               0.00        1.368938e+05               86192.38   \n",
       "4               0.00        1.204665e+04               14751.00   \n",
       "\n",
       "   childpoverty_White  childpoverty_NHOPI  childpoverty_Asian  \\\n",
       "0         33491489.50                   0                   0   \n",
       "1           613016.16                   0                   0   \n",
       "2             4827.36                   0                   0   \n",
       "3            17745.49                   0                   0   \n",
       "4              983.40                   0                   0   \n",
       "\n",
       "   childpoverty_Other  \n",
       "0                   0  \n",
       "1                   0  \n",
       "2                   0  \n",
       "3                   0  \n",
       "4                   0  "
      ]
     },
     "execution_count": 72,
     "metadata": {},
     "output_type": "execute_result"
    }
   ],
   "source": [
    "# values are percentages\n",
    "cp_test.head()"
   ]
  },
  {
   "cell_type": "markdown",
   "id": "3e4d5ee9",
   "metadata": {},
   "source": [
    "### Reshape df"
   ]
  },
  {
   "cell_type": "code",
   "execution_count": 74,
   "id": "58944cd7",
   "metadata": {},
   "outputs": [],
   "source": [
    "# Step 1: Melt the dataframe to long format\n",
    "cp_long = cp_test.melt(\n",
    "    id_vars=['state_abbr', 'county', 'fips'], \n",
    "    var_name='metric_ethnicity', \n",
    "    value_name='value'\n",
    ")\n",
    "\n",
    "# Step 2: Split the combined 'metric_ethnicity' column\n",
    "cp_long[['metric', 'ethnicity']] = cp_long['metric_ethnicity'].str.extract(r'(.+?)_(.+)')\n",
    "\n",
    "# Step 3: Drop the original combined column\n",
    "cp_long = cp_long.drop(columns='metric_ethnicity')\n",
    "\n",
    "# Step 4: Pivot to have metrics as columns\n",
    "cp_tidy = cp_long.pivot_table(\n",
    "    index=['state_abbr', 'county', 'fips', 'ethnicity'],\n",
    "    columns='metric',\n",
    "    values='value'\n",
    ").reset_index()\n",
    "\n",
    "# Step 5: Optional - Set a MultiIndex for hierarchical indexing\n",
    "cp_tidy.set_index(['state_abbr', 'county', 'fips', 'ethnicity'], inplace=True)\n",
    "\n",
    "# Step 6: (Optional) Clean up column names if needed\n",
    "cp_tidy.columns.name = None\n"
   ]
  },
  {
   "cell_type": "code",
   "execution_count": 75,
   "id": "ae7eb14f",
   "metadata": {},
   "outputs": [
    {
     "data": {
      "application/vnd.microsoft.datawrangler.viewer.v0+json": {
       "columns": [
        {
         "name": "('state_abbr', 'county', 'fips', 'ethnicity')",
         "rawType": "object",
         "type": "unknown"
        },
        {
         "name": "childpoverty",
         "rawType": "float64",
         "type": "float"
        }
       ],
       "conversionMethod": "pd.DataFrame",
       "ref": "9b490bb2-e2d3-4597-a69d-084a51dca628",
       "rows": [
        [
         "('AK', 'Alaska', '2000', 'AIAN')",
         "176017.44"
        ],
        [
         "('AK', 'Alaska', '2000', 'Asian')",
         "0.0"
        ],
        [
         "('AK', 'Alaska', '2000', 'Black')",
         "249358.04"
        ],
        [
         "('AK', 'Alaska', '2000', 'Hispanic')",
         "88008.72"
        ],
        [
         "('AK', 'Alaska', '2000', 'NHOPI')",
         "0.0"
        ]
       ],
       "shape": {
        "columns": 1,
        "rows": 5
       }
      },
      "text/html": [
       "<div>\n",
       "<style scoped>\n",
       "    .dataframe tbody tr th:only-of-type {\n",
       "        vertical-align: middle;\n",
       "    }\n",
       "\n",
       "    .dataframe tbody tr th {\n",
       "        vertical-align: top;\n",
       "    }\n",
       "\n",
       "    .dataframe thead th {\n",
       "        text-align: right;\n",
       "    }\n",
       "</style>\n",
       "<table border=\"1\" class=\"dataframe\">\n",
       "  <thead>\n",
       "    <tr style=\"text-align: right;\">\n",
       "      <th></th>\n",
       "      <th></th>\n",
       "      <th></th>\n",
       "      <th></th>\n",
       "      <th>childpoverty</th>\n",
       "    </tr>\n",
       "    <tr>\n",
       "      <th>state_abbr</th>\n",
       "      <th>county</th>\n",
       "      <th>fips</th>\n",
       "      <th>ethnicity</th>\n",
       "      <th></th>\n",
       "    </tr>\n",
       "  </thead>\n",
       "  <tbody>\n",
       "    <tr>\n",
       "      <th rowspan=\"5\" valign=\"top\">AK</th>\n",
       "      <th rowspan=\"5\" valign=\"top\">Alaska</th>\n",
       "      <th rowspan=\"5\" valign=\"top\">2000</th>\n",
       "      <th>AIAN</th>\n",
       "      <td>176017.44</td>\n",
       "    </tr>\n",
       "    <tr>\n",
       "      <th>Asian</th>\n",
       "      <td>0.00</td>\n",
       "    </tr>\n",
       "    <tr>\n",
       "      <th>Black</th>\n",
       "      <td>249358.04</td>\n",
       "    </tr>\n",
       "    <tr>\n",
       "      <th>Hispanic</th>\n",
       "      <td>88008.72</td>\n",
       "    </tr>\n",
       "    <tr>\n",
       "      <th>NHOPI</th>\n",
       "      <td>0.00</td>\n",
       "    </tr>\n",
       "  </tbody>\n",
       "</table>\n",
       "</div>"
      ],
      "text/plain": [
       "                                  childpoverty\n",
       "state_abbr county fips ethnicity              \n",
       "AK         Alaska 2000 AIAN          176017.44\n",
       "                       Asian              0.00\n",
       "                       Black         249358.04\n",
       "                       Hispanic       88008.72\n",
       "                       NHOPI              0.00"
      ]
     },
     "execution_count": 75,
     "metadata": {},
     "output_type": "execute_result"
    }
   ],
   "source": [
    "cp_tidy.head()"
   ]
  },
  {
   "cell_type": "code",
   "execution_count": 76,
   "id": "8b713386",
   "metadata": {},
   "outputs": [
    {
     "data": {
      "text/plain": [
       "state_abbr  county   fips   ethnicity              \n",
       "AK          Alaska   2000   AIAN       childpoverty    176017.44\n",
       "                            Asian      childpoverty         0.00\n",
       "                            Black      childpoverty    249358.04\n",
       "                            Hispanic   childpoverty     88008.72\n",
       "                            NHOPI      childpoverty         0.00\n",
       "                                                         ...    \n",
       "WY          Wyoming  56000  Black      childpoverty    245303.94\n",
       "                            Hispanic   childpoverty     99289.69\n",
       "                            NHOPI      childpoverty         0.00\n",
       "                            Other      childpoverty         0.00\n",
       "                            White      childpoverty     64246.27\n",
       "Length: 22428, dtype: float64"
      ]
     },
     "execution_count": 76,
     "metadata": {},
     "output_type": "execute_result"
    }
   ],
   "source": [
    "cp_tidy.stack()"
   ]
  },
  {
   "cell_type": "markdown",
   "id": "1af15d4a",
   "metadata": {},
   "source": [
    "# Insights"
   ]
  },
  {
   "cell_type": "markdown",
   "id": "32efb29b",
   "metadata": {},
   "source": [
    "## Correlation Matrix and Basic Descriptive Stats"
   ]
  },
  {
   "cell_type": "code",
   "execution_count": null,
   "id": "2659cff1",
   "metadata": {},
   "outputs": [],
   "source": [
    "matrix = us_counties_updated.corr(method='spearman', numeric_only=True).round(2)\n",
    "sns.heatmap(matrix)"
   ]
  },
  {
   "cell_type": "code",
   "execution_count": null,
   "id": "40fb0c1e",
   "metadata": {},
   "outputs": [],
   "source": [
    "us_counties_updated.describe()"
   ]
  },
  {
   "cell_type": "code",
   "execution_count": null,
   "id": "74cf5589",
   "metadata": {},
   "outputs": [],
   "source": [
    "us_counties_updated['population '] = us_counties_updated['population '].rename('population')"
   ]
  },
  {
   "cell_type": "markdown",
   "id": "b4dbc9d2",
   "metadata": {},
   "source": [
    "## Probability distributions"
   ]
  },
  {
   "cell_type": "code",
   "execution_count": null,
   "id": "8a833a86",
   "metadata": {},
   "outputs": [],
   "source": [
    "fig, axes = plt.subplots(3, 3, figsize=(8, 6), sharey=True)\n",
    "\n",
    "axes[0, 0].hist(us_counties_updated['income_inequality'], bins=30, color='skyblue', alpha=0.7)\n",
    "axes[0, 1].hist(us_counties_updated['median_income'], bins=30, color='lightgreen', alpha=0.7)\n",
    "axes[0, 2].hist(us_counties_updated['child_care_cost_burden'], bins=30, color='salmon', alpha=0.7)\n",
    "axes[1, 0].hist(us_counties_updated['unemployed_percentage'], bins=30, color='lightcoral', alpha=0.7)\n",
    "axes[1, 1].hist(us_counties_updated['premature_death'], bins=30, color='gold', alpha=0.7)\n",
    "axes[1, 2].hist(us_counties_updated['child_poverty'], bins=30, color='lightblue', alpha=0.7)\n",
    "axes[2, 0].hist(us_counties_updated['child_mortality'], bins=30, color='lightpink', alpha=0.7)\n",
    "axes[2, 1].hist(us_counties_updated['school_funding_gap'], bins=30, color='lightyellow', alpha=0.7)\n",
    "axes[2, 2].hist(us_counties_updated['gender_pay_gap'], bins=30, color='lightgray', alpha=0.7)\n",
    "\n",
    "axes[0, 0].set_title('Income Inequality')\n",
    "axes[0, 1].set_title('Median Income')\n",
    "axes[0, 2].set_title('Child Care Cost Burden')\n",
    "axes[1, 0].set_title('Unemployed Percentage')\n",
    "axes[1, 1].set_title('Premature Death')\n",
    "axes[1, 2].set_title('Child Poverty')\n",
    "axes[2, 0].set_title('Child Mortality')\n",
    "axes[2, 1].set_title('School Funding Gap')\n",
    "axes[2, 2].set_title('gender Pay Gap')\n",
    "plt.tight_layout()\n",
    "plt.show()"
   ]
  },
  {
   "cell_type": "markdown",
   "id": "eba8e495",
   "metadata": {},
   "source": [
    "### Comparing distributions between income inequality groupings: 'above_median' and 'below_median'"
   ]
  },
  {
   "cell_type": "code",
   "execution_count": null,
   "id": "14ef8b77",
   "metadata": {},
   "outputs": [],
   "source": [
    "print(us_counties_updated['income_inequality'].median())"
   ]
  },
  {
   "cell_type": "code",
   "execution_count": null,
   "id": "ed630f1e",
   "metadata": {},
   "outputs": [],
   "source": [
    "us_counties_updated['income_inequality_cat'] = np.where(us_counties_updated['income_inequality'] > 4.4, 'above_median', 'below_median')\n",
    "us_counties_updated['income_inequality_cat'] = us_counties_updated['income_inequality_cat'].astype('category')"
   ]
  }
 ],
 "metadata": {
  "kernelspec": {
   "display_name": "pydata",
   "language": "python",
   "name": "python3"
  },
  "language_info": {
   "codemirror_mode": {
    "name": "ipython",
    "version": 3
   },
   "file_extension": ".py",
   "mimetype": "text/x-python",
   "name": "python",
   "nbconvert_exporter": "python",
   "pygments_lexer": "ipython3",
   "version": "3.13.1"
  }
 },
 "nbformat": 4,
 "nbformat_minor": 5
}
