{
 "cells": [
  {
   "cell_type": "markdown",
   "id": "12a123f1",
   "metadata": {},
   "source": [
    "# Importing Libraries and Cleaned Datasets"
   ]
  },
  {
   "cell_type": "code",
   "execution_count": 4,
   "id": "d040be25",
   "metadata": {},
   "outputs": [],
   "source": [
    "import pandas as pd\n",
    "import numpy as np\n",
    "import seaborn as sns\n",
    "import matplotlib.pyplot as plt\n",
    "import statsmodels as sm\n",
    "import scipy.stats as stats\n",
    "from sklearn import linear_model, feature_selection, metrics, model_selection, impute, datasets\n",
    "from sklearn.feature_selection import mutual_info_regression\n",
    "from sklearn.linear_model import LinearRegression\n",
    "from sklearn.metrics import mean_squared_error, mean_absolute_error\n",
    "from sklearn.model_selection import train_test_split, cross_val_score\n",
    "from sklearn.impute import KNNImputer\n",
    "import warnings\n",
    "warnings.filterwarnings('ignore')\n",
    "\n",
    "county_health_rank = pd.read_csv('county_rankings25.csv')\n",
    "qol_22 = pd.read_csv('QOL.csv')\n",
    "fips_codes = pd.read_csv('all_fips.csv')\n",
    "county_vars = pd.read_csv('county_vars_2.csv')\n",
    "race_groups = pd.read_csv('agg_race_variables.csv')"
   ]
  },
  {
   "cell_type": "code",
   "execution_count": 5,
   "id": "caaf2348",
   "metadata": {},
   "outputs": [
    {
     "data": {
      "text/plain": [
       "(3204, 796)"
      ]
     },
     "execution_count": 5,
     "metadata": {},
     "output_type": "execute_result"
    }
   ],
   "source": [
    "county_health_rank.shape"
   ]
  },
  {
   "cell_type": "code",
   "execution_count": 9,
   "id": "15c9c8b1",
   "metadata": {},
   "outputs": [],
   "source": [
    "nulls = county_health_rank.isna().sum()"
   ]
  },
  {
   "cell_type": "code",
   "execution_count": 11,
   "id": "1442a59d",
   "metadata": {},
   "outputs": [
    {
     "data": {
      "text/plain": [
       "(796,)"
      ]
     },
     "execution_count": 11,
     "metadata": {},
     "output_type": "execute_result"
    }
   ],
   "source": [
    "nulls.shape"
   ]
  },
  {
   "cell_type": "markdown",
   "id": "4b5e7e4e",
   "metadata": {},
   "source": [
    "# Data Cleaning Plan\n",
    "## County Health Rankings 2025\n",
    "The Dataset 'County Health Rankings 2025' jas 3204 rows and 796 columms. The columns report socio economic metrics from all counties in the US. These metrics are unstacked with confidence intervals as columns adjacent to raw estimates. Some metrics report at a county level only, whilst others alos report racial group breakdows next to the totals. Though it is a comprehensive dataset, like most of its kind, there is much missing data, especially for minority groups, with communities like Native Hawaiian or Pacific Islander not appearing at all in a majority of counties. \n",
    "\n",
    "The data wrangling process will involve using a funciton to select the target variables, renaming, and normalizing data types. I will, then, validate the resulting dataframe, and applying the standardized hierarchical index (county, state).\n",
    "\n",
    "Since dataset contains hundreds of variables, I created a small dataframe of our variables of interest and normalized names to facilate creating the subset itself and its naming conventions. \n",
    "\n",
    "Note: much of the numeric data is in percentages, separate subsets will include totals and percentages and will be used depnding on type of analysis and indexing needed.\n",
    "## Quality of Life Data 2022\n",
    "Since this study began with this study and happened to contain data for the US 2020 General Election at a county level, I will subset that category and merge with the table above. \n",
    "## FIPS & States ID table\n",
    "I will merge both tables above to a previosly created 'all_fips' (which serves as a sort of  'fact table'-listing county names, state names, state abbreviations, and corresponding fips codes) by index. \n",
    "\n",
    "I will validate the data and clean any merging errors like the creation of duplicate columns and/or changes to naming conventions (such as adding suffixes/prefixes to duplicate and original colums).\n",
    "\n",
    "Finally, I will merge both of these new tables by the standardized index mentioned above.\n",
    "\n",
    "## Groupings and Subsets\n",
    "Depending on the structure of the final merge, I may use smaller subsets and/or different data structures and groupings for specialized analysis and testing ."
   ]
  },
  {
   "cell_type": "markdown",
   "id": "33ead3d5",
   "metadata": {},
   "source": [
    "# Data Cleaning"
   ]
  },
  {
   "cell_type": "markdown",
   "id": "641693b7",
   "metadata": {},
   "source": [
    "## County Rankings tables"
   ]
  },
  {
   "cell_type": "markdown",
   "id": "dee392e0",
   "metadata": {},
   "source": [
    "### Make Subset Function"
   ]
  },
  {
   "cell_type": "code",
   "execution_count": 12,
   "id": "8a26e76b",
   "metadata": {},
   "outputs": [],
   "source": [
    "# defining variable for function to select target vars, dictionary to rename, and set 'fips' as 'str' dtype\n",
    "county_health_subset = county_vars['raw_variable'].tolist()\n",
    "county_name_list = county_vars[' new_name'].tolist()\n",
    "county_new_names = dict(zip(county_health_subset, county_name_list))"
   ]
  },
  {
   "cell_type": "code",
   "execution_count": 13,
   "id": "85a7bed1",
   "metadata": {},
   "outputs": [],
   "source": [
    "def make_subset(df, target_vars, target_names):\n",
    "    df = df[target_vars]\n",
    "    df = df.rename(columns=target_names) #dictionary defined from target variables & names list\n",
    "    df['fips'] = df['fips'].astype('str')\n",
    "    return df"
   ]
  },
  {
   "cell_type": "code",
   "execution_count": 14,
   "id": "d0ff38df",
   "metadata": {},
   "outputs": [],
   "source": [
    "counties = make_subset(county_health_rank, county_health_subset, county_new_names)"
   ]
  },
  {
   "cell_type": "markdown",
   "id": "54c939ff",
   "metadata": {},
   "source": [
    "### Clean colums function"
   ]
  },
  {
   "cell_type": "code",
   "execution_count": null,
   "id": "90e1744d",
   "metadata": {},
   "outputs": [],
   "source": [
    "# list of state names from master fips to drop from county namers column\n",
    "state_names = fips_codes['state'].unique()\n",
    "state_names = state_names.tolist()\n",
    "state_names.append('United States')\n",
    "# variable name referring to state \n",
    "def clean_subset(df):\n",
    "    df = df[~df['county'].isin(state_names)]\n",
    "    df = df.round(3)\n",
    "    return df"
   ]
  },
  {
   "cell_type": "code",
   "execution_count": null,
   "id": "b0805ac6",
   "metadata": {},
   "outputs": [],
   "source": [
    "counties = clean_subset(counties)"
   ]
  },
  {
   "cell_type": "markdown",
   "id": "1d9b7634",
   "metadata": {},
   "source": [
    "## QOL- Political Party 2020"
   ]
  },
  {
   "cell_type": "code",
   "execution_count": null,
   "id": "e0eede50",
   "metadata": {},
   "outputs": [],
   "source": [
    "qol_target_vars = ['2020PopulrVoteParty', 'NMCNTY', 'FIPS', 'LSTATE']\n",
    "qol_new_names = {'2020PopulrVoteParty': 'political_party', 'NMCNTY':'county', 'FIPS':'fips', 'LSTATE':'state_abbr'}"
   ]
  },
  {
   "cell_type": "code",
   "execution_count": null,
   "id": "fcebe065",
   "metadata": {},
   "outputs": [],
   "source": [
    "pol_party_2020 = make_subset(qol_22, qol_target_vars, qol_new_names)"
   ]
  },
  {
   "cell_type": "markdown",
   "id": "ea390979",
   "metadata": {},
   "source": [
    "## subsets and groupings for drill-down analysis "
   ]
  },
  {
   "cell_type": "markdown",
   "id": "23e58d4e",
   "metadata": {},
   "source": [
    "## Variable-based subsets"
   ]
  },
  {
   "cell_type": "code",
   "execution_count": null,
   "id": "9d50a222",
   "metadata": {},
   "outputs": [],
   "source": [
    "inequity_vars = ['state_abbr','county','fips', 'income_inequality', 'gender_pay_gap', 'school_segration_index', 'residential_segregation','school_funding_gap']\n",
    "# Socio-economic indicators with racial breakdown\n",
    "racial_category_subset = race_groups['raw_variable'].tolist()\n",
    "racial_category_names = race_groups['new_name'].tolist()\n",
    "racial_category_cols = dict(zip(racial_category_subset, racial_category_names))"
   ]
  },
  {
   "cell_type": "code",
   "execution_count": null,
   "id": "9d6d1959",
   "metadata": {},
   "outputs": [],
   "source": [
    "# cleaning and reshaping dataframe with variable containing racial-breakdowns\n",
    "race_subset = make_subset(county_health_rank, racial_category_subset, racial_category_cols)\n",
    "counties_race = clean_subset(race_subset)\n",
    "# reshape dataframe\n",
    "# Melt the dataframe to long format\n",
    "counties_race = counties_race.melt(\n",
    "    id_vars=['state_abbr', 'county', 'fips', 'county_population'], \n",
    "    var_name='metric_race', \n",
    "    value_name='value'\n",
    ")\n",
    "\n",
    "# Split the combined 'metric_ethnicity' column\n",
    "counties_race[['metric', 'race']] = counties_race['metric_race'].str.extract(r'(.+?)-(.+)')\n",
    "\n",
    "# Drop the original combined column\n",
    "counties_race = counties_race.drop(columns='metric_race')\n",
    "\n",
    "# Pivot to have metrics as columns\n",
    "counties_race = counties_race.pivot_table(\n",
    "    index=['state_abbr', 'county', 'fips', 'race', 'county_population'],\n",
    "    columns='metric',\n",
    "    values='value'\n",
    ").reset_index()\n",
    "\n",
    "# Clean up column names if needed\n",
    "counties_race.columns.name = None"
   ]
  },
  {
   "cell_type": "markdown",
   "id": "c5c7c0c8",
   "metadata": {},
   "source": [
    "### County-Level socio-economic outcomes (no racial breakdown)"
   ]
  },
  {
   "cell_type": "code",
   "execution_count": null,
   "id": "091942d6",
   "metadata": {},
   "outputs": [],
   "source": [
    "aggregate_outcomes = counties.drop(columns=['child_mortality', 'child_poverty_percentage', 'firearm_fatalities',\n",
    "       'life_expectancy', 'median_income', 'premature_death'])\n",
    "agg_vars = aggregate_outcomes.columns.to_list()\n",
    "agg_vars.append('political_party')"
   ]
  },
  {
   "cell_type": "markdown",
   "id": "eccd7b49",
   "metadata": {},
   "source": [
    "## Total Values (vs percentages)"
   ]
  },
  {
   "cell_type": "code",
   "execution_count": null,
   "id": "2f4dc168",
   "metadata": {},
   "outputs": [],
   "source": [
    "pop_vars = ['state_abbr','county','fips', 'population']\n",
    "county_pop = counties[pop_vars]\n",
    "# find columns w percentage ouputs by assigining target string to variable ans using lamda  func to filter col names and assign to list\n",
    "percent_str = 'percentage'\n",
    "percent_vars = list(filter(lambda x: percent_str in x, county_name_list))\n",
    "counties_totals = counties.copy()\n",
    "counties_pop_col = 'population'"
   ]
  },
  {
   "cell_type": "markdown",
   "id": "695a4f5e",
   "metadata": {},
   "source": [
    "#### totals function"
   ]
  },
  {
   "cell_type": "code",
   "execution_count": null,
   "id": "9d47685d",
   "metadata": {},
   "outputs": [],
   "source": [
    "# multiplies each percentage column by county polulation to yield total amounts\n",
    "def calc_total_pop(df, cols, pop_col):\n",
    "    for i in df[cols]:\n",
    "        df[i] = df[i] * df[pop_col]\n",
    "    df.columns = df.columns.str.replace('_percentage', '')\n",
    "    return df"
   ]
  },
  {
   "cell_type": "code",
   "execution_count": null,
   "id": "5f83f95c",
   "metadata": {},
   "outputs": [],
   "source": [
    "counties_totals= calc_total_pop(counties_totals, percent_vars, counties_pop_col)"
   ]
  },
  {
   "cell_type": "markdown",
   "id": "a92bc354",
   "metadata": {},
   "source": [
    "### Totals- broken down by race"
   ]
  },
  {
   "cell_type": "code",
   "execution_count": null,
   "id": "8dc695d9",
   "metadata": {},
   "outputs": [],
   "source": [
    "race_pop_col = 'county_population'\n",
    "race_percentage_vars = [ 'population_percentage', 'child_poverty_percentage']\n",
    "racial_breakdown_total = counties_race.copy()\n",
    "counties_race_totals = calc_total_pop(racial_breakdown_total, race_percentage_vars, race_pop_col)"
   ]
  },
  {
   "cell_type": "markdown",
   "id": "222d8677",
   "metadata": {},
   "source": [
    "Note: Many missing values"
   ]
  },
  {
   "cell_type": "markdown",
   "id": "50f50fa0",
   "metadata": {},
   "source": [
    "## Merge for Analysis"
   ]
  },
  {
   "cell_type": "code",
   "execution_count": null,
   "id": "d1001be6",
   "metadata": {},
   "outputs": [],
   "source": [
    "fips_codes['fips'] = fips_codes['fips'].astype('str')\n",
    "index = ['state_abbr', 'county', 'fips']\n",
    "fips_codes.reset_index(inplace=True)\n",
    "pol_party_2020.reset_index(inplace=True) #state_abbr\n",
    "counties.reset_index(inplace=True) #state_abbr\n",
    "# setting common indices"
   ]
  },
  {
   "cell_type": "markdown",
   "id": "edb6538a",
   "metadata": {},
   "source": [
    "### Merge dataframes using 'state' with 'fact' table ('all_fips') and set indices for uniform id variables"
   ]
  },
  {
   "cell_type": "code",
   "execution_count": null,
   "id": "b9b39740",
   "metadata": {},
   "outputs": [],
   "source": [
    "fips_codes.set_index(index)\n",
    "pol_party_2020.set_index(index)\n",
    "counties.set_index(index)\n",
    "pol_party_indexed = pd.merge(pol_party_2020, fips_codes, on=index, how='inner')\n",
    "counties_indexed = pd.merge(counties, fips_codes, on=index, how='inner')"
   ]
  },
  {
   "cell_type": "code",
   "execution_count": null,
   "id": "1094ccb9",
   "metadata": {},
   "outputs": [],
   "source": [
    "pol_party_indexed= pol_party_indexed.drop(columns='state')\n",
    "counties_indexed= counties_indexed.drop(columns='state')"
   ]
  },
  {
   "cell_type": "markdown",
   "id": "53af8ad0",
   "metadata": {},
   "source": [
    "### Merge counties and pol_party df's on common multi-index"
   ]
  },
  {
   "cell_type": "code",
   "execution_count": null,
   "id": "582d5644",
   "metadata": {},
   "outputs": [],
   "source": [
    "# function to clean merged tables\n",
    "def clean_merged(df):\n",
    "    # Drop duplicate rows in column: 'fips'\n",
    "    df = df.drop_duplicates(subset='fips')\n",
    "    df = df[~df['county'].isin(state_names)]\n",
    "    df = df.round(3)\n",
    "    return df"
   ]
  },
  {
   "cell_type": "code",
   "execution_count": null,
   "id": "7969ed17",
   "metadata": {},
   "outputs": [],
   "source": [
    "counties_pol_party = clean_merged(counties_pol_party)\n",
    "counties_pol_party.reset_index()"
   ]
  },
  {
   "cell_type": "markdown",
   "id": "39e20a76",
   "metadata": {},
   "source": [
    "## Create combined dataframe with county-level variables and variables broken down by race "
   ]
  },
  {
   "cell_type": "markdown",
   "id": "ba00ebab",
   "metadata": {},
   "source": [
    "Subset merged df with variables for aggregate data (not contained in race dataframe) to avoid duplicate columns"
   ]
  },
  {
   "cell_type": "code",
   "execution_count": null,
   "id": "8cbe7b19",
   "metadata": {},
   "outputs": [],
   "source": [
    "test_agg = counties_pol_party[agg_vars]\n",
    "all_sets= counties_race.merge(test_agg, how='left', on=index)\n",
    "all_sets.set_index(['state_abbr', 'county', 'fips','race'], inplace=True)"
   ]
  },
  {
   "cell_type": "code",
   "execution_count": null,
   "id": "101c7504",
   "metadata": {},
   "outputs": [],
   "source": [
    "all_sets.reset_index(inplace=True)\n",
    "all_sets['race'] = all_sets['race'].astype('category')"
   ]
  },
  {
   "cell_type": "code",
   "execution_count": null,
   "id": "1ee12604",
   "metadata": {},
   "outputs": [],
   "source": [
    "all_sets.reset_index()"
   ]
  },
  {
   "cell_type": "markdown",
   "id": "9477ad3d",
   "metadata": {},
   "source": [
    "## Address Missing Data "
   ]
  },
  {
   "cell_type": "markdown",
   "id": "0c175a86",
   "metadata": {},
   "source": [
    "### Aggregate data"
   ]
  },
  {
   "cell_type": "code",
   "execution_count": null,
   "id": "58bdf0c6",
   "metadata": {},
   "outputs": [],
   "source": [
    "missing = counties_pol_party.isnull().sum()\n",
    "print(missing)"
   ]
  },
  {
   "cell_type": "code",
   "execution_count": null,
   "id": "12ee1b5e",
   "metadata": {},
   "outputs": [],
   "source": [
    "counties_pol_party.reset_index(inplace=True)\n",
    "counties_pol_party = counties_pol_party.drop(columns='index')"
   ]
  },
  {
   "cell_type": "markdown",
   "id": "c8fbda42",
   "metadata": {},
   "source": [
    "#### Use KNN Imputation to address missing data"
   ]
  },
  {
   "cell_type": "code",
   "execution_count": null,
   "id": "ab773afd",
   "metadata": {},
   "outputs": [],
   "source": [
    "non_numeric_cols = ['state_abbr', 'county', 'fips', 'political_party']\n",
    "counties_numeric_cols = ['hs_diploma_percentage',\n",
    "       'unemployed_percentage', 'population', 'median_income',\n",
    "       'school_segration_index', 'gender_pay_gap', 'uninsured__percentage',\n",
    "       'school_funding_gap', 'residential_segregation', 'premature_death',\n",
    "       'income_inequality', 'child_poverty_percentage', 'life_expectancy',\n",
    "       'child_mortality', 'high_housing_cost_percentage', 'firearm_fatalities',\n",
    "       'child_care_cost_burden']"
   ]
  },
  {
   "cell_type": "code",
   "execution_count": null,
   "id": "28014eba",
   "metadata": {},
   "outputs": [],
   "source": [
    "imputer = KNNImputer(n_neighbors=2)\n",
    "# running inputation for numeric columns only\n",
    "countypol_sets_numeric = pd.DataFrame(imputer.fit_transform(counties_pol_party[counties_numeric_cols]), columns=counties_numeric_cols)\n",
    "# concatenating to non0numeric columns to recreate entire df\n",
    "countypol_filled = pd.concat([counties_pol_party[non_numeric_cols].reset_index(drop=True), countypol_sets_numeric], axis=1)"
   ]
  },
  {
   "cell_type": "markdown",
   "id": "b341ad45",
   "metadata": {},
   "source": [
    "### hierachical dataframe- brokendown by race\n",
    "There is a great deal of missing data for racial categories, handling missing data will differ from above"
   ]
  },
  {
   "cell_type": "code",
   "execution_count": null,
   "id": "ef58644b",
   "metadata": {},
   "outputs": [],
   "source": [
    "all_sets_missing = all_sets.isnull().sum()"
   ]
  },
  {
   "cell_type": "code",
   "execution_count": null,
   "id": "9798d14f",
   "metadata": {},
   "outputs": [],
   "source": [
    "# drop missing population values- indicates no county reporting for racial group\n",
    "# too much missing data for imputation to entire seet- median income has highest reporting for racial groups\n",
    "all_sets = all_sets.dropna(subset=['population','median_income'])\n",
    "# dropping colums w more than half of records missing\n",
    "#all_sets = all_sets.drop(columns=['firearm_fatalities', 'child_mortality'])\n",
    "all_sets.reset_index()"
   ]
  },
  {
   "cell_type": "markdown",
   "id": "9dea387f",
   "metadata": {},
   "source": [
    "#### see categorical descriptions"
   ]
  },
  {
   "cell_type": "code",
   "execution_count": null,
   "id": "4fc4bca5",
   "metadata": {},
   "outputs": [],
   "source": [
    "print(all_sets.groupby('race').describe())"
   ]
  },
  {
   "cell_type": "markdown",
   "id": "37e8ef4c",
   "metadata": {},
   "source": [
    "- nhopi missig summary stats across all metrics- will drop this category "
   ]
  },
  {
   "cell_type": "code",
   "execution_count": null,
   "id": "230a54c7",
   "metadata": {},
   "outputs": [],
   "source": [
    "all_sets['race'] = all_sets['race'].cat.remove_categories('nhopi')"
   ]
  },
  {
   "cell_type": "markdown",
   "id": "3f578cec",
   "metadata": {},
   "source": [
    "#### Data Imputation\n",
    "after removing mostly incomplete columns and categories, same KNN imputation will be used "
   ]
  },
  {
   "cell_type": "code",
   "execution_count": null,
   "id": "cd8620da",
   "metadata": {},
   "outputs": [],
   "source": [
    "numeric_cols = ['county_population',\n",
    "       'child_mortality', 'child_poverty_percentage', 'firearm_fatalities',\n",
    "       'life_expectancy', 'median_income', 'population_percentage',\n",
    "       'premature_death', 'hs_diploma_percentage', 'unemployed_percentage',\n",
    "       'population', 'school_segration_index', 'gender_pay_gap',\n",
    "       'uninsured__percentage', 'school_funding_gap',\n",
    "       'residential_segregation', 'income_inequality',\n",
    "       'high_housing_cost_percentage', 'child_care_cost_burden']\n",
    "\n",
    "imputer = KNNImputer(n_neighbors=2)\n",
    "all_sets_numeric = pd.DataFrame(imputer.fit_transform(all_sets[numeric_cols]), columns= numeric_cols)\n",
    "all_sets_filled = pd.concat([all_sets[non_numeric_cols].reset_index(drop=True), all_sets_numeric], axis=1)"
   ]
  },
  {
   "cell_type": "code",
   "execution_count": null,
   "id": "5eef5ef9",
   "metadata": {},
   "outputs": [],
   "source": [
    "all_sets_filled.head()"
   ]
  },
  {
   "cell_type": "markdown",
   "id": "986b186d",
   "metadata": {},
   "source": [
    "### Standardizing Values"
   ]
  },
  {
   "cell_type": "code",
   "execution_count": null,
   "id": "f51924b9",
   "metadata": {},
   "outputs": [],
   "source": [
    "independent_vars = ['income_inequality', 'gender_pay_gap',\n",
    "       'school_segration_index', 'residential_segregation',\n",
    "       'school_funding_gap']\n",
    "\n",
    "dependent_vars = ['hs_diploma_percentage', 'unemployed_percentage', 'population', 'median_income', 'uninsured__percentage', 'premature_death', 'child_poverty_percentage', 'life_expectancy', 'child_mortality', 'high_housing_cost_percentage', 'firearm_fatalities', 'child_care_cost_burden']\n",
    "vars_to_z = independent_vars + dependent_vars\n",
    "#standardize_frame = counties[vars_to_z]\n",
    "standardized_frame = counties.dropna()\n",
    "standardized_all_filled = all_sets_filled.copy()"
   ]
  },
  {
   "cell_type": "code",
   "execution_count": null,
   "id": "8a1975c0",
   "metadata": {},
   "outputs": [],
   "source": [
    "# multiplies each percentage column by county polulation to yield total amounts\n",
    "def calc_z(df, cols):\n",
    "    for i in df[cols]:\n",
    "        df[i] = np.abs(stats.zscore(df[i])) \n",
    "    return df"
   ]
  },
  {
   "cell_type": "code",
   "execution_count": null,
   "id": "11ec249b",
   "metadata": {},
   "outputs": [],
   "source": [
    "z_counties= calc_z(countypol_filled, counties_numeric_cols)\n",
    "z_all_sets_filled= calc_z(all_sets_filled, numeric_cols)"
   ]
  },
  {
   "cell_type": "markdown",
   "id": "92c1fc31",
   "metadata": {},
   "source": [
    "# Insights"
   ]
  },
  {
   "cell_type": "markdown",
   "id": "6c2985ba",
   "metadata": {},
   "source": [
    "## Mutual Information: finding highly dependent Variables"
   ]
  },
  {
   "cell_type": "markdown",
   "id": "65d9f281",
   "metadata": {},
   "source": [
    "### County-Level"
   ]
  },
  {
   "cell_type": "markdown",
   "id": "a364449f",
   "metadata": {},
   "source": [
    "#### Creating a Matrix of pairs fo each dependent var w independent var"
   ]
  },
  {
   "cell_type": "markdown",
   "id": "a999ed38",
   "metadata": {},
   "source": [
    "Attempted model with KNN inputation and results were drastically different, thus rejected inputed values as overwhlmingly affecting dta integrity. therefore attempting original data with dropped missing values"
   ]
  },
  {
   "cell_type": "code",
   "execution_count": null,
   "id": "f0c13b28",
   "metadata": {},
   "outputs": [],
   "source": [
    "counties_pol_raw = counties_pol_party.dropna()"
   ]
  },
  {
   "cell_type": "code",
   "execution_count": null,
   "id": "29f3e7eb",
   "metadata": {},
   "outputs": [],
   "source": [
    "# Initialize a matrix to store mutual information\n",
    "mutual_info_matrix = np.zeros((len(independent_vars), len(dependent_vars)))\n",
    "\n",
    "# Calculate mutual information for each independent-dependent variable pair\n",
    "for i, var1 in enumerate(independent_vars):\n",
    "    for j, var2 in enumerate(dependent_vars):\n",
    "        X = counties_pol_raw[[var1]]\n",
    "        y = counties_pol_raw[var2]\n",
    "        mutual_info = mutual_info_regression(X, y)\n",
    "        mutual_info_matrix[i, j] = mutual_info[0]  # Store the mutual info scalar\n",
    "\n",
    "# Convert the matrix to a DataFrame for easier viewing\n",
    "mutual_info_df = pd.DataFrame(mutual_info_matrix, index=independent_vars, columns=dependent_vars)\n",
    "\n",
    "# Display the mutual information DataFrame\n",
    "print(mutual_info_df)"
   ]
  },
  {
   "cell_type": "markdown",
   "id": "40951fc9",
   "metadata": {},
   "source": [
    "#### Visualizing Pairwise Mutual Information as Heatmap"
   ]
  },
  {
   "cell_type": "code",
   "execution_count": null,
   "id": "c6e61083",
   "metadata": {},
   "outputs": [],
   "source": [
    "plt.figure(figsize=(10, 8))\n",
    "sns.heatmap(mutual_info_df, annot=True, cmap='flare', square=True)\n",
    "plt.title('Pairwise Mutual Information- Inequity')\n",
    "plt.show()"
   ]
  },
  {
   "cell_type": "markdown",
   "id": "46403ce1",
   "metadata": {},
   "source": [
    "#### Getting top values of dependent pairs"
   ]
  },
  {
   "cell_type": "code",
   "execution_count": null,
   "id": "336ac9d2",
   "metadata": {},
   "outputs": [],
   "source": [
    "top_var_pairs = mutual_info_df.unstack().sort_values(ascending=False).head(12)\n",
    "print(top_var_pairs)"
   ]
  },
  {
   "cell_type": "markdown",
   "id": "af5ee876",
   "metadata": {},
   "source": [
    "### Selecting most 'infromative' variables\n",
    "- x: 'school_funding_gap', 'income_inequality'\n",
    "- y: 'child_poverty_percentage', 'firearm_fatalities', 'median_income' , 'life_expectancy', 'premature_death'"
   ]
  },
  {
   "cell_type": "code",
   "execution_count": null,
   "id": "49dd0375",
   "metadata": {},
   "outputs": [],
   "source": [
    "high_mutual_info_vars = ['state_abbr', 'county', 'fips', 'school_funding_gap', 'child_poverty_percentage', 'income_inequality', 'firearm_fatalities', 'median_income' , 'life_expectancy', 'premature_death', 'political_party']\n",
    "agg_select_subset = counties_pol_raw[high_mutual_info_vars]\n",
    "x_vars= ['school_funding_gap', 'income_inequality'],\n",
    "y_vars= ['child_poverty_percentage', 'firearm_fatalities', 'median_income' , 'life_expectancy', 'premature_death']"
   ]
  },
  {
   "cell_type": "markdown",
   "id": "689d03f4",
   "metadata": {},
   "source": [
    "## Correlation and Covariance"
   ]
  },
  {
   "cell_type": "code",
   "execution_count": null,
   "id": "e21ceb94",
   "metadata": {},
   "outputs": [],
   "source": [
    "corr_matrix = agg_select_subset.corr(method='kendall', numeric_only=True).round(2)\n",
    "sns.heatmap(corr_matrix, annot=True, cmap='flare')"
   ]
  },
  {
   "cell_type": "markdown",
   "id": "0b893ff6",
   "metadata": {},
   "source": [
    "### Correlations between selected explainer and selected outcome variables"
   ]
  },
  {
   "cell_type": "code",
   "execution_count": null,
   "id": "6c4c1865",
   "metadata": {},
   "outputs": [],
   "source": [
    "print(agg_select_subset[y_vars].corrwith(agg_select_subset['school_funding_gap']))"
   ]
  },
  {
   "cell_type": "code",
   "execution_count": null,
   "id": "534359fa",
   "metadata": {},
   "outputs": [],
   "source": [
    "print(agg_select_subset[y_vars].corrwith(agg_select_subset['income_inequality']))"
   ]
  },
  {
   "cell_type": "code",
   "execution_count": null,
   "id": "c82c37c6",
   "metadata": {},
   "outputs": [],
   "source": [
    "sns.pairplot(agg_select_subset, \n",
    "    x_vars= ['school_funding_gap', 'income_inequality'],\n",
    "    y_vars= ['child_poverty_percentage', 'firearm_fatalities', 'median_income' , 'life_expectancy', 'premature_death'],\n",
    "    )     "
   ]
  },
  {
   "cell_type": "markdown",
   "id": "6792bec6",
   "metadata": {},
   "source": [
    "## Distributions"
   ]
  },
  {
   "cell_type": "code",
   "execution_count": null,
   "id": "6ad5f9a0",
   "metadata": {},
   "outputs": [],
   "source": [
    "agg_select_subset.hist(figsize=(12,12), layout=(3,3), color='teal', ec='black', sharex=False);"
   ]
  },
  {
   "cell_type": "code",
   "execution_count": null,
   "id": "3a37b244",
   "metadata": {},
   "outputs": [],
   "source": [
    "sns.displot(agg_select_subset['school_funding_gap'])"
   ]
  },
  {
   "cell_type": "code",
   "execution_count": null,
   "id": "3fd9c828",
   "metadata": {},
   "outputs": [],
   "source": [
    "sns.displot(agg_select_subset['income_inequality'])"
   ]
  },
  {
   "cell_type": "markdown",
   "id": "06b1977b",
   "metadata": {},
   "source": [
    "**Note**: not normally distributed"
   ]
  },
  {
   "cell_type": "markdown",
   "id": "379f2b16",
   "metadata": {},
   "source": [
    "## Variation in each variable"
   ]
  },
  {
   "cell_type": "code",
   "execution_count": null,
   "id": "84741219",
   "metadata": {},
   "outputs": [],
   "source": [
    "ax = agg_select_subset[high_mutual_info_vars].plot(figsize=(20,15))\n",
    "ax.legend(loc='center left', bbox_to_anchor=(1, 0.5));"
   ]
  },
  {
   "cell_type": "markdown",
   "id": "e26f5471",
   "metadata": {},
   "source": [
    "## Drill down on race"
   ]
  },
  {
   "cell_type": "code",
   "execution_count": null,
   "id": "a7530f45",
   "metadata": {},
   "outputs": [],
   "source": [
    "all_sets_raw = all_sets.dropna()\n",
    "all_sets_raw.reset_index(inplace=True)"
   ]
  },
  {
   "cell_type": "code",
   "execution_count": null,
   "id": "4a400797",
   "metadata": {},
   "outputs": [],
   "source": [
    "#high_mutual_info_vars.remove('race')\n",
    "race_high_val_mutual_info_vars = high_mutual_info_vars.copy()\n",
    "race_high_val_mutual_info_vars.append('race')\n",
    "race_select_subset = all_sets_raw[race_high_val_mutual_info_vars]"
   ]
  },
  {
   "cell_type": "markdown",
   "id": "4b129ca5",
   "metadata": {},
   "source": [
    "### Pair Plots"
   ]
  },
  {
   "cell_type": "code",
   "execution_count": null,
   "id": "2e08ebd9",
   "metadata": {},
   "outputs": [],
   "source": [
    "sns.barplot(race_select_subset, x='race', y='premature_death')"
   ]
  },
  {
   "cell_type": "code",
   "execution_count": null,
   "id": "beb9ffbb",
   "metadata": {},
   "outputs": [],
   "source": [
    "race_select_subset.groupby('race')['child_poverty_percentage'].median()"
   ]
  },
  {
   "cell_type": "code",
   "execution_count": null,
   "id": "ca2bee81",
   "metadata": {},
   "outputs": [],
   "source": [
    "sns.FacetGrid(data = race_select_subset, col = 'race').map(plt.scatter, 'school_funding_gap', 'child_poverty_percentage').add_legend()\n",
    "plt.show()"
   ]
  },
  {
   "cell_type": "code",
   "execution_count": null,
   "id": "25559751",
   "metadata": {},
   "outputs": [],
   "source": [
    "race_select_subset.columns"
   ]
  },
  {
   "cell_type": "code",
   "execution_count": null,
   "id": "b32d3ce0",
   "metadata": {},
   "outputs": [],
   "source": [
    "sns.set_theme()\n",
    "\n",
    "g = sns.lmplot(\n",
    "    data=race_select_subset,\n",
    "    x='school_funding_gap', y='firearm_fatalities', hue='race',\n",
    "    height=5\n",
    ")\n",
    "\n",
    "g.set_axis_labels('school funding', 'firearm fatalities')"
   ]
  },
  {
   "cell_type": "code",
   "execution_count": null,
   "id": "e879ada6",
   "metadata": {},
   "outputs": [],
   "source": [
    "sns.set_theme()\n",
    "\n",
    "g = sns.lmplot(\n",
    "    data=race_select_subset,\n",
    "    x='school_funding_gap', y='child_poverty_percentage', hue='race',\n",
    "    height=5\n",
    ")\n",
    "\n",
    "g.set_axis_labels('school funding', 'child poverty')"
   ]
  },
  {
   "cell_type": "markdown",
   "id": "eba8e495",
   "metadata": {},
   "source": [
    "## Comparing distributions between inequality metric quantiles"
   ]
  },
  {
   "cell_type": "code",
   "execution_count": null,
   "id": "e55a364c",
   "metadata": {},
   "outputs": [],
   "source": [
    "q1_school_funding = agg_select_subset['school_funding_gap'].quantile(.25)\n",
    "q2_school_funding = agg_select_subset['school_funding_gap'].quantile(.5)\n",
    "q3_school_funding = agg_select_subset['school_funding_gap'].quantile(.75)"
   ]
  },
  {
   "cell_type": "code",
   "execution_count": null,
   "id": "469f8999",
   "metadata": {},
   "outputs": [],
   "source": [
    "q1_income_inequality = agg_select_subset.groupby('county')['income_inequality'].quantile(.25)\n",
    "q2_income_inequality = agg_select_subset.groupby('county')['income_inequality'].quantile(.5)\n",
    "q3_income_inequality = agg_select_subset.groupby('county')['income_inequality'].quantile(.75)"
   ]
  },
  {
   "cell_type": "markdown",
   "id": "a309e3e8",
   "metadata": {},
   "source": [
    "## Political Party"
   ]
  },
  {
   "cell_type": "code",
   "execution_count": null,
   "id": "4812851a",
   "metadata": {},
   "outputs": [],
   "source": [
    "agg_select_subset.columns"
   ]
  },
  {
   "cell_type": "markdown",
   "id": "47162856",
   "metadata": {},
   "source": [
    "## Regression"
   ]
  },
  {
   "cell_type": "code",
   "execution_count": null,
   "id": "f9e98fe6",
   "metadata": {},
   "outputs": [],
   "source": [
    "X = agg_select_subset[['school_funding_gap', 'income_inequality']]\n",
    "y = agg_select_subset[['premature_death']]\n",
    "X_train, X_test,\\\n",
    "  y_train, y_test = train_test_split(X, y,\n",
    "                    test_size=0.4,\n",
    "                    random_state=1)\n",
    "reg = linear_model.LinearRegression()\n",
    "model1 = reg.fit(X_train, y_train)\n",
    "y_pred = reg.predict(X_test)"
   ]
  },
  {
   "cell_type": "code",
   "execution_count": null,
   "id": "fdfa26cf",
   "metadata": {},
   "outputs": [],
   "source": [
    "fig = plt.figure(figsize=(10, 7))\n",
    "ax = fig.add_subplot(projection='3d')\n",
    "\n",
    "ax.scatter(X_test['school_funding_gap'], X_test['income_inequality'],\n",
    "           y_test, color='coral', alpha=0.7, label='Premature Death')\n",
    "\n",
    "x1_range = np.linspace(X_test['school_funding_gap'].min(), X_test['school_funding_gap'].max(), 100)\n",
    "x2_range = np.linspace(X_test['income_inequality'].min(), X_test['income_inequality'].max(), 100)\n",
    "x1, x2 = np.meshgrid(x1_range, x2_range)\n",
    "\n",
    "z = model.predict(np.c_[x1.ravel(), x2.ravel()]).reshape(x1.shape)\n",
    "\n",
    "ax.plot_surface(x1, x2, z, color='aquamarine', alpha=0.4, rstride=100, cstride=100)\n",
    "\n",
    "ax.set_xlabel('School Funding')\n",
    "ax.set_ylabel('Income Inequality')\n",
    "ax.set_zlabel('Premature Death')\n",
    "ax.set_title('Multiple Linear Regression Best Fit Line (3D)')\n",
    "\n",
    "plt.show()"
   ]
  },
  {
   "cell_type": "code",
   "execution_count": null,
   "id": "b6acdacf",
   "metadata": {},
   "outputs": [],
   "source": [
    "# regression coefficients\n",
    "print('Coefficients: ', reg.coef_)\n",
    "\n",
    "# variance score: 1 means perfect prediction\n",
    "print('Variance score: {}'.format(reg.score(X_test, y_test)))"
   ]
  },
  {
   "cell_type": "markdown",
   "id": "0d75114b",
   "metadata": {},
   "source": [
    "### Residual Errors"
   ]
  },
  {
   "cell_type": "code",
   "execution_count": null,
   "id": "a572db4a",
   "metadata": {},
   "outputs": [],
   "source": [
    "# plot for residual error\n",
    "\n",
    "# setting plot style\n",
    "plt.style.use('fivethirtyeight')\n",
    "\n",
    "# plotting residual errors in training data\n",
    "plt.scatter(reg.predict(X_train),\n",
    "            reg.predict(X_train) - y_train,\n",
    "            color=\"orange\", s=10,\n",
    "            label='Train data')\n",
    "\n",
    "# plotting residual errors in test data\n",
    "plt.scatter(reg.predict(X_test),\n",
    "            reg.predict(X_test) - y_test,\n",
    "            color=\"teal\", s=10,\n",
    "            label='Test data')\n",
    "\n",
    "# plotting line for zero residual error\n",
    "plt.hlines(y=0, xmin=0, xmax=50, linewidth=2)\n",
    "\n",
    "# plotting legend\n",
    "plt.legend(loc='upper left')\n",
    "\n",
    "# plot title\n",
    "plt.title(\"Residual errors\")\n",
    "\n",
    "# method call for showing the plot\n",
    "plt.show()"
   ]
  },
  {
   "cell_type": "code",
   "execution_count": null,
   "id": "f0299c73",
   "metadata": {},
   "outputs": [],
   "source": [
    "#regr = linear_model.LinearRegression()  \n",
    "#model1= regr.fit(X, Y)"
   ]
  },
  {
   "cell_type": "code",
   "execution_count": null,
   "id": "9aed64e3",
   "metadata": {},
   "outputs": [],
   "source": [
    "#r2 = regr.score(X,Y)\n",
    "#coefficients =regr.coef_\n",
    "#intercept = regr.intercept_"
   ]
  }
 ],
 "metadata": {
  "kernelspec": {
   "display_name": "pydata",
   "language": "python",
   "name": "python3"
  },
  "language_info": {
   "codemirror_mode": {
    "name": "ipython",
    "version": 3
   },
   "file_extension": ".py",
   "mimetype": "text/x-python",
   "name": "python",
   "nbconvert_exporter": "python",
   "pygments_lexer": "ipython3",
   "version": "3.13.1"
  }
 },
 "nbformat": 4,
 "nbformat_minor": 5
}
