{
 "cells": [
  {
   "cell_type": "markdown",
   "id": "12a123f1",
   "metadata": {},
   "source": [
    "# Importing Libraries and Cleaned Datasets"
   ]
  },
  {
   "cell_type": "code",
   "execution_count": 99,
   "id": "d040be25",
   "metadata": {},
   "outputs": [],
   "source": [
    "#import kagglehub\n",
    "import pandas as pd\n",
    "import numpy as np\n",
    "import seaborn as sns\n",
    "import matplotlib.pyplot as plt\n",
    "import statsmodels as sm\n",
    "\n",
    "county_health_rank = pd.read_csv('county_rankings25.csv')\n",
    "fips_codes = pd.read_csv('all_fips.csv')\n",
    "county_vars = pd.read_csv('county_vars_2.csv')\n",
    "ltss_2022 = pd.read_csv('ltss_2022.csv')\n",
    "race_groups = pd.read_csv('agg_race_variables.csv')"
   ]
  },
  {
   "cell_type": "markdown",
   "id": "4b5e7e4e",
   "metadata": {},
   "source": [
    "# Data Cleaning Plan\n",
    "## County Health Rankings 2025\n",
    "In place of the previousl 4 tables reporting socio economic metrics, I found a new Dataset 'County Health Rankings.' The data wrangling process will involve selecting the target variables, renaming, normalizing data types, validating the resulting dataframe, and applying the standardized hierarchical index (county, state).\n",
    "\n",
    "Since dataset contains hundreds of variables, I created a small dataframe of our variables of interest and normalized names to facilate creating the subset itself and its naming conventions. \n",
    "\n",
    "Note: much of the numeric data is in percentages, separate subsets will include totals and percentages and will be used depnding on type of analysis and indexing needed.\n",
    "\n",
    "\n",
    "## LTSS Enrollment and Expenditure tables\n",
    "The state-level LTSS enrollment and expenditure tables remain and their cleaning involves: subsetting by columns neeeded reporting metrics for enrollment and expenses. These variables reflect enrollment in the first table and expenses in the second for (1)The entire LTSS program, (2) Institutional care, and (3)HCBS program. \n",
    "\n",
    "I will subset each table by thsese colums, rename by the conventions defined at the beginning of the section, remove invalid characters ('$', ',') from numeric columns, change the datatypes of the columns to floats for quantitative variables ans strings for 'id' variables, and set 'state' as index prior to merging.\n",
    "\n",
    "## FIPS & States ID table\n",
    "I will merge both tables above to a previosly created 'all_fips' (which serves as a sort of  'fact table'-listing county names, state names, state abbreviations, and corresponding fips codes) by index. \n",
    "\n",
    "I will validate the data and clean any merging errors like the creation of duplicate columns and/or changes to naming conventions (such as adding suffixes/prefixes to duplicate and original colums).\n",
    "\n",
    "Finally, I will merge both of these new tables by the standardized index mentioned above."
   ]
  },
  {
   "cell_type": "markdown",
   "id": "33ead3d5",
   "metadata": {},
   "source": [
    "# Data Cleaning"
   ]
  },
  {
   "cell_type": "markdown",
   "id": "8692ccdd",
   "metadata": {},
   "source": [
    "## LTSS Table"
   ]
  },
  {
   "cell_type": "markdown",
   "id": "ec79c637",
   "metadata": {},
   "source": [
    "### Cleaning invalid characters in columns to prep for datatype conversion to float"
   ]
  },
  {
   "cell_type": "code",
   "execution_count": 100,
   "id": "43746d99",
   "metadata": {},
   "outputs": [
    {
     "name": "stderr",
     "output_type": "stream",
     "text": [
      "/tmp/ipykernel_555/2620598630.py:5: SettingWithCopyWarning: \n",
      "A value is trying to be set on a copy of a slice from a DataFrame.\n",
      "Try using .loc[row_indexer,col_indexer] = value instead\n",
      "\n",
      "See the caveats in the documentation: https://pandas.pydata.org/pandas-docs/stable/user_guide/indexing.html#returning-a-view-versus-a-copy\n",
      "  ltss_population['LTSS (total)'] = ltss_population['LTSS (total)'].str.replace(',', '').astype(float)\n"
     ]
    }
   ],
   "source": [
    "# defining columns to keep and subsetting dataframes\n",
    "ltss_cols= ['State', 'LTSS (total)']\n",
    "ltss_population = ltss_2022[ltss_cols]\n",
    "\n",
    "ltss_population['LTSS (total)'] = ltss_population['LTSS (total)'].str.replace(',', '').astype(float)\n",
    "ltss_pop_names = {'State': 'state', 'LTSS (total)': 'ltss_state_enrollment'}\n",
    "ltss_population = ltss_population.rename(columns=ltss_pop_names)\n",
    "ltss_population.set_index(['state'])\n",
    "# normalize state names\n",
    "ltss_state_rename_enr = {'National': 'United States','District of\\nColumbia':'District of Columbia'}\n",
    "ltss_population['state'] = ltss_population['state'].replace(ltss_state_rename_enr)\n"
   ]
  },
  {
   "cell_type": "markdown",
   "id": "641693b7",
   "metadata": {},
   "source": [
    "## County Rankings tables"
   ]
  },
  {
   "cell_type": "markdown",
   "id": "48034547",
   "metadata": {},
   "source": [
    "create subset, clean result, and merge with 'fips_codes'"
   ]
  },
  {
   "cell_type": "code",
   "execution_count": 101,
   "id": "2222e670",
   "metadata": {},
   "outputs": [],
   "source": [
    "county_health_subset = county_vars['raw_variable'].tolist()\n",
    "new_names = county_vars[' new_name'].tolist()\n",
    "county_health_cols = dict(zip(county_health_subset, new_names))\n",
    "# creating subset and renaiming with list and dictionary from above\n",
    "county_health= county_health_rank[county_health_subset]\n",
    "county_health= county_health.rename(columns=county_health_cols)\n",
    "# normalizing fips codes\n",
    "county_health['fips'] = county_health['fips'].astype('str')\n",
    "fips_codes['fips'] = fips_codes['fips'].astype('str')\n",
    "#merging with fips codes\n",
    "us_counties = pd.merge(county_health, fips_codes, how='outer', on='fips')\n",
    "# creating new dataframe without non-county data to keep original dataframe for 'non_county' data subset\n",
    "us_counties_updated = us_counties.dropna(subset=['state'])\n",
    "# these are states, the US, and 'planning' regions\n",
    "non_counties = us_counties[us_counties['state'].isnull()]"
   ]
  },
  {
   "cell_type": "markdown",
   "id": "de26182e",
   "metadata": {},
   "source": [
    "### clean new table"
   ]
  },
  {
   "cell_type": "code",
   "execution_count": 102,
   "id": "d255b3b5",
   "metadata": {},
   "outputs": [],
   "source": [
    "def clean_merge(us_counties_updated):\n",
    "    # Drop columns: 'county_x', 'state_abbr_x'\n",
    "    us_counties_updated = us_counties_updated.drop(columns=['county_x', 'state_abbr_x'])\n",
    "    # Rename column 'county_y' to 'county'\n",
    "    us_counties_updated = us_counties_updated.rename(columns={'county_y': 'county'})\n",
    "    # Rename column 'state_abbr_y' to 'state_abbr'\n",
    "    us_counties_updated = us_counties_updated.rename(columns={'state_abbr_y': 'state_abbr'})\n",
    "    return us_counties_updated"
   ]
  },
  {
   "cell_type": "markdown",
   "id": "09756016",
   "metadata": {},
   "source": [
    "#### apply function, create list of states and 'us' to remove from county colums, and round values"
   ]
  },
  {
   "cell_type": "code",
   "execution_count": 103,
   "id": "be815e40",
   "metadata": {},
   "outputs": [],
   "source": [
    "us_counties_updated = clean_merge(us_counties_updated)\n",
    "us_counties_updated = us_counties_updated.round(2)\n",
    "state_names = fips_codes['state'].unique()\n",
    "state_names = state_names.tolist()\n",
    "state_names.append('United States')\n",
    "us_counties_updated = us_counties_updated[~us_counties_updated['county'].isin(state_names)]"
   ]
  },
  {
   "cell_type": "markdown",
   "id": "ea390979",
   "metadata": {},
   "source": [
    "# subsets and groupings for drill-down analysis "
   ]
  },
  {
   "cell_type": "code",
   "execution_count": 104,
   "id": "5e3dee03",
   "metadata": {},
   "outputs": [],
   "source": [
    "index = ['state_abbr','county','fips']"
   ]
  },
  {
   "cell_type": "markdown",
   "id": "23e58d4e",
   "metadata": {},
   "source": [
    "## Variable-based subsets"
   ]
  },
  {
   "cell_type": "markdown",
   "id": "a1e2da1b",
   "metadata": {},
   "source": [
    "### Inequity Metrics"
   ]
  },
  {
   "cell_type": "code",
   "execution_count": 105,
   "id": "9d50a222",
   "metadata": {},
   "outputs": [],
   "source": [
    "inequity_vars = ['state_abbr','county','fips', 'income_inequality', 'gender_pay_gap', 'school_segration_index', 'residential_segregation','school_funding_gap']\n",
    "inequity_df = us_counties_updated[inequity_vars]"
   ]
  },
  {
   "cell_type": "markdown",
   "id": "6e78b3f9",
   "metadata": {},
   "source": [
    "### Socio-economic indicators with racial breakdown"
   ]
  },
  {
   "cell_type": "code",
   "execution_count": 106,
   "id": "502e841c",
   "metadata": {},
   "outputs": [],
   "source": [
    "racial_category_subset = race_groups['raw_variable'].tolist()\n",
    "racial_category_names = race_groups['new_name'].tolist()\n",
    "racial_category_cols = dict(zip(racial_category_subset, racial_category_names))\n",
    "race_categories = county_health_rank[racial_category_subset]\n",
    "\n",
    "# cleaning new df:renaming with list and dictionary from above, changing dytypes, and rounding\n",
    "race_categories= race_categories.rename(columns=racial_category_cols)\n",
    "race_categories['fips'] = race_categories['fips'].astype('str')\n",
    "race_categories = race_categories.round(2)\n",
    "race_categories =race_categories.fillna(0)"
   ]
  },
  {
   "cell_type": "code",
   "execution_count": 107,
   "id": "58944cd7",
   "metadata": {},
   "outputs": [],
   "source": [
    "# reshape dataframe\n",
    "# Melt the dataframe to long format\n",
    "rc_long = race_categories.melt(\n",
    "    id_vars=['state_abbr', 'county', 'fips'], \n",
    "    var_name='metric_race', \n",
    "    value_name='value'\n",
    ")\n",
    "\n",
    "# Split the combined 'metric_ethnicity' column\n",
    "rc_long[['metric', 'race']] = rc_long['metric_race'].str.extract(r'(.+?)-(.+)')\n",
    "\n",
    "# Drop the original combined column\n",
    "rc_long = rc_long.drop(columns='metric_race')\n",
    "\n",
    "# Pivot to have metrics as columns\n",
    "race_metrics = rc_long.pivot_table(\n",
    "    index=['state_abbr', 'county', 'fips', 'race'],\n",
    "    columns='metric',\n",
    "    values='value'\n",
    ").reset_index()\n",
    "\n",
    "# Clean up column names if needed\n",
    "race_metrics.columns.name = None\n"
   ]
  },
  {
   "cell_type": "code",
   "execution_count": null,
   "id": "0e940185",
   "metadata": {},
   "outputs": [],
   "source": [
    "# clean output \n",
    "race_metrics = race_metrics[~race_metrics['county'].isin(state_names)]\n",
    "#race_metrics.set_index(['state_abbr', 'county', 'fips', 'race'], inplace=True)\n",
    "race_metrics = race_metrics.fillna(0)\n",
    "race_metrics = race_metrics.rename(columns={'child_poverty':'child_poverty_percentage'})"
   ]
  },
  {
   "cell_type": "markdown",
   "id": "c5c7c0c8",
   "metadata": {},
   "source": [
    "### County-Level socio-economic indicators (no racial breakdown)"
   ]
  },
  {
   "cell_type": "code",
   "execution_count": 110,
   "id": "091942d6",
   "metadata": {},
   "outputs": [],
   "source": [
    "county_socio_econ = us_counties_updated.drop(columns=['income_inequality', 'gender_pay_gap', 'school_segration_index', 'residential_segregation','school_funding_gap', 'child_mortality',\n",
    "       'child_poverty_percentage', 'firearm_fatalities', 'life_expectancy',\n",
    "       'median_income', 'population', 'premature_death'])"
   ]
  },
  {
   "cell_type": "markdown",
   "id": "eccd7b49",
   "metadata": {},
   "source": [
    "## Total Values (vs percentages)"
   ]
  },
  {
   "cell_type": "code",
   "execution_count": null,
   "id": "2f4dc168",
   "metadata": {},
   "outputs": [],
   "source": [
    "pop_vars = ['state_abbr','county','fips', 'population']\n",
    "county_pop = us_counties_updated[pop_vars]\n",
    "# find columns w percentage ouputs\n",
    "percent_str = 'percentage'\n",
    "percent_vars = list(filter(lambda x: percent_str in x, new_names))\n",
    "us_counties_totals = us_counties_updated"
   ]
  },
  {
   "cell_type": "markdown",
   "id": "695a4f5e",
   "metadata": {},
   "source": [
    "#### totals function"
   ]
  },
  {
   "cell_type": "code",
   "execution_count": null,
   "id": "186efd9b",
   "metadata": {},
   "outputs": [],
   "source": [
    "def calc_total_pop(df, cols):\n",
    "    for index, row in df.\n"
   ]
  },
  {
   "cell_type": "code",
   "execution_count": null,
   "id": "6a32a9cf",
   "metadata": {},
   "outputs": [],
   "source": [
    "us_counties_totals['hs_graduates_total'] = us_counties_updated['hs_diploma_percentage']* us_counties_updated['population']\n",
    "us_counties_totals['unemployed_total'] = us_counties_updated['unemployed_percentage']* us_counties_updated['population']\n",
    "us_counties_totals['uninsured_total'] = us_counties_updated['uninsured__percentage']* us_counties_updated['population']\n",
    "us_counties_totals['high_housing_cost_total'] = us_counties_updated['high_housing_cost_percentage']* us_counties_updated['population']\n",
    "us_counties_totals['child_poverty_total'] = us_counties_updated['child_poverty_percentage']* us_counties_updated['population']\n",
    "us_counties_totals = us_counties_totals.drop(columns=['hs_diploma_percentage', 'unemployed_percentage', 'uninsured__percentage', 'high_housing_cost_percentage', 'child_poverty'])"
   ]
  },
  {
   "cell_type": "markdown",
   "id": "50f50fa0",
   "metadata": {},
   "source": [
    "## Merge for Analysis"
   ]
  },
  {
   "cell_type": "code",
   "execution_count": 131,
   "id": "0e5d9d92",
   "metadata": {},
   "outputs": [],
   "source": [
    "test_race_metrics = race_metrics\n",
    "test_inequitydf = inequity_df\n",
    "test_race_metrics.reset_index(inplace=True)\n",
    "test_inequitydf.reset_index(inplace=True)"
   ]
  },
  {
   "cell_type": "code",
   "execution_count": 132,
   "id": "7f064296",
   "metadata": {},
   "outputs": [],
   "source": [
    "race_inequity_df = pd.merge(test_race_metrics, test_inequitydf, on=['state_abbr','county','fips'], how='left')"
   ]
  },
  {
   "cell_type": "markdown",
   "id": "1af15d4a",
   "metadata": {},
   "source": [
    "# Insights"
   ]
  },
  {
   "cell_type": "markdown",
   "id": "32efb29b",
   "metadata": {},
   "source": [
    "## Basic Descriptive Stats"
   ]
  },
  {
   "cell_type": "markdown",
   "id": "689d03f4",
   "metadata": {},
   "source": [
    "## Correlation and distributions"
   ]
  },
  {
   "cell_type": "markdown",
   "id": "779d94b2",
   "metadata": {},
   "source": [
    "### Aggregate Data"
   ]
  },
  {
   "cell_type": "code",
   "execution_count": null,
   "id": "2659cff1",
   "metadata": {},
   "outputs": [],
   "source": [
    "matrix = us_counties_updated.corr(method='spearman', numeric_only=True).round(2)\n",
    "sns.heatmap(matrix)"
   ]
  },
  {
   "cell_type": "code",
   "execution_count": null,
   "id": "74cf5589",
   "metadata": {},
   "outputs": [],
   "source": [
    "us_counties_updated['population '] = us_counties_updated['population '].rename('population')"
   ]
  },
  {
   "cell_type": "markdown",
   "id": "b4dbc9d2",
   "metadata": {},
   "source": [
    "### Probability distributions"
   ]
  },
  {
   "cell_type": "code",
   "execution_count": null,
   "id": "8a833a86",
   "metadata": {},
   "outputs": [],
   "source": [
    "fig, axes = plt.subplots(3, 3, figsize=(8, 6), sharey=True)\n",
    "\n",
    "axes[0, 0].hist(us_counties_updated['income_inequality'], bins=30, color='skyblue', alpha=0.7)\n",
    "axes[0, 1].hist(us_counties_updated['median_income'], bins=30, color='lightgreen', alpha=0.7)\n",
    "axes[0, 2].hist(us_counties_updated['child_care_cost_burden'], bins=30, color='salmon', alpha=0.7)\n",
    "axes[1, 0].hist(us_counties_updated['unemployed_percentage'], bins=30, color='lightcoral', alpha=0.7)\n",
    "axes[1, 1].hist(us_counties_updated['premature_death'], bins=30, color='gold', alpha=0.7)\n",
    "axes[1, 2].hist(us_counties_updated['child_poverty'], bins=30, color='lightblue', alpha=0.7)\n",
    "axes[2, 0].hist(us_counties_updated['child_mortality'], bins=30, color='lightpink', alpha=0.7)\n",
    "axes[2, 1].hist(us_counties_updated['school_funding_gap'], bins=30, color='lightyellow', alpha=0.7)\n",
    "axes[2, 2].hist(us_counties_updated['gender_pay_gap'], bins=30, color='lightgray', alpha=0.7)\n",
    "\n",
    "axes[0, 0].set_title('Income Inequality')\n",
    "axes[0, 1].set_title('Median Income')\n",
    "axes[0, 2].set_title('Child Care Cost Burden')\n",
    "axes[1, 0].set_title('Unemployed Percentage')\n",
    "axes[1, 1].set_title('Premature Death')\n",
    "axes[1, 2].set_title('Child Poverty')\n",
    "axes[2, 0].set_title('Child Mortality')\n",
    "axes[2, 1].set_title('School Funding Gap')\n",
    "axes[2, 2].set_title('gender Pay Gap')\n",
    "plt.tight_layout()\n",
    "plt.show()"
   ]
  },
  {
   "cell_type": "code",
   "execution_count": null,
   "id": "83951704",
   "metadata": {},
   "outputs": [],
   "source": []
  },
  {
   "cell_type": "markdown",
   "id": "e26f5471",
   "metadata": {},
   "source": [
    "## Drill down on race"
   ]
  },
  {
   "cell_type": "code",
   "execution_count": null,
   "id": "419fdd10",
   "metadata": {},
   "outputs": [],
   "source": [
    "race_subset = race_metrics.dropna"
   ]
  },
  {
   "cell_type": "code",
   "execution_count": null,
   "id": "06f1733d",
   "metadata": {},
   "outputs": [],
   "source": [
    "sns.histplot(data=race_metrics, x='child_poverty', hue='race', multiple='stack', element='step')"
   ]
  },
  {
   "cell_type": "code",
   "execution_count": null,
   "id": "5dde37e9",
   "metadata": {},
   "outputs": [],
   "source": [
    "race_metrics.head()"
   ]
  },
  {
   "cell_type": "markdown",
   "id": "eba8e495",
   "metadata": {},
   "source": [
    "### Comparing distributions between income inequality groupings: 'above_median' and 'below_median'"
   ]
  },
  {
   "cell_type": "code",
   "execution_count": null,
   "id": "14ef8b77",
   "metadata": {},
   "outputs": [],
   "source": [
    "print(us_counties_updated['income_inequality'].median())"
   ]
  }
 ],
 "metadata": {
  "kernelspec": {
   "display_name": "pydata",
   "language": "python",
   "name": "python3"
  },
  "language_info": {
   "codemirror_mode": {
    "name": "ipython",
    "version": 3
   },
   "file_extension": ".py",
   "mimetype": "text/x-python",
   "name": "python",
   "nbconvert_exporter": "python",
   "pygments_lexer": "ipython3",
   "version": "3.13.1"
  }
 },
 "nbformat": 4,
 "nbformat_minor": 5
}
