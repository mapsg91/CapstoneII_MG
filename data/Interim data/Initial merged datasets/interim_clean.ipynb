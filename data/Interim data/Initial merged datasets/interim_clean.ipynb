{
 "cells": [
  {
   "cell_type": "markdown",
   "id": "12a123f1",
   "metadata": {},
   "source": [
    "# Importing Libraries and Cleaned Datasets"
   ]
  },
  {
   "cell_type": "code",
   "execution_count": 67,
   "id": "d040be25",
   "metadata": {},
   "outputs": [],
   "source": [
    "#import kagglehub\n",
    "import pandas as pd\n",
    "import numpy as np\n",
    "import seaborn as sns\n",
    "import matplotlib as plt\n",
    "import statsmodels as sm\n",
    "\n",
    "gini = pd.read_csv('gini_index.csv')\n",
    "ltss_2022 = pd.read_csv('ltss_combined.csv')\n",
    "socio_economic = pd.read_csv('socio_econ.csv')\n",
    "fips = pd.read_csv('all_fips.csv')"
   ]
  },
  {
   "cell_type": "markdown",
   "id": "4b5e7e4e",
   "metadata": {},
   "source": [
    "## Quick Prelimninary cleaning and prepping for analysis "
   ]
  },
  {
   "cell_type": "code",
   "execution_count": 68,
   "id": "641693b7",
   "metadata": {},
   "outputs": [],
   "source": [
    "gini = gini.drop(columns=['state_fips', 'county_fips'])\n",
    "gini['fips'] = gini['fips'].astype(str)\n",
    "socio_economic['fips'] = socio_economic['fips'].astype(str)"
   ]
  },
  {
   "cell_type": "code",
   "execution_count": 69,
   "id": "c00e84ab",
   "metadata": {},
   "outputs": [],
   "source": [
    "# set indices\n",
    "socio_economic.set_index(['state', 'fips'])\n",
    "ltss_2022.set_index('state')\n",
    "gini.reset_index(inplace=True)"
   ]
  },
  {
   "cell_type": "markdown",
   "id": "8acfb82f",
   "metadata": {},
   "source": [
    "### Troubleshoot merge issues with gini index by merging with 'all_fips'"
   ]
  },
  {
   "cell_type": "code",
   "execution_count": 70,
   "id": "b5aed7ef",
   "metadata": {},
   "outputs": [
    {
     "data": {
      "application/vnd.microsoft.datawrangler.viewer.v0+json": {
       "columns": [
        {
         "name": "('state', 'county')",
         "rawType": "object",
         "type": "unknown"
        },
        {
         "name": "fips",
         "rawType": "int64",
         "type": "integer"
        },
        {
         "name": "state_abbr",
         "rawType": "object",
         "type": "unknown"
        }
       ],
       "conversionMethod": "pd.DataFrame",
       "ref": "65a9e231-3207-46f7-bd83-efe4da873bb8",
       "rows": [
        [
         "('Alaska', 'Aleutians East Borough')",
         "2013",
         "AK"
        ],
        [
         "('Alaska', 'Aleutians West Census Area')",
         "2016",
         "AK"
        ],
        [
         "('Alaska', 'Anchorage Municipality')",
         "2020",
         "AK"
        ],
        [
         "('Alaska', 'Bethel Census Area')",
         "2050",
         "AK"
        ],
        [
         "('Alaska', 'Bristol Bay Borough')",
         "2060",
         "AK"
        ],
        [
         "('Alaska', 'Denali Borough')",
         "2068",
         "AK"
        ],
        [
         "('Alaska', 'Dillingham Census Area')",
         "2070",
         "AK"
        ],
        [
         "('Alaska', 'Fairbanks North Star Borough')",
         "2090",
         "AK"
        ],
        [
         "('Alaska', 'Haines Borough')",
         "2100",
         "AK"
        ],
        [
         "('Alaska', 'Hoonah-Angoon Census Area')",
         "2105",
         "AK"
        ],
        [
         "('Alaska', 'Juneau City and Borough')",
         "2110",
         "AK"
        ],
        [
         "('Alaska', 'Kenai Peninsula Borough')",
         "2122",
         "AK"
        ],
        [
         "('Alaska', 'Ketchikan Gateway Borough')",
         "2130",
         "AK"
        ],
        [
         "('Alaska', 'Kodiak Island Borough')",
         "2150",
         "AK"
        ],
        [
         "('Alaska', 'Lake and Peninsula Borough')",
         "2164",
         "AK"
        ],
        [
         "('Alaska', 'Matanuska-Susitna Borough')",
         "2170",
         "AK"
        ],
        [
         "('Alaska', 'Nome Census Area')",
         "2180",
         "AK"
        ],
        [
         "('Alaska', 'North Slope Borough')",
         "2185",
         "AK"
        ],
        [
         "('Alaska', 'Northwest Arctic Borough')",
         "2188",
         "AK"
        ],
        [
         "('Alaska', 'Petersburg Borough')",
         "2195",
         "AK"
        ],
        [
         "('Alaska', 'Prince of Wales-Hyder Census Area')",
         "2198",
         "AK"
        ],
        [
         "('Alaska', 'Sitka City and Borough')",
         "2220",
         "AK"
        ],
        [
         "('Alaska', 'Skagway Municipality')",
         "2230",
         "AK"
        ],
        [
         "('Alaska', 'Southeast Fairbanks Census Area')",
         "2240",
         "AK"
        ],
        [
         "('Alaska', 'Valdez-Cordova Census Area')",
         "2261",
         "AK"
        ],
        [
         "('Alaska', 'Wade Hampton Census Area')",
         "2270",
         "AK"
        ],
        [
         "('Alaska', 'Wrangell City and Borough')",
         "2275",
         "AK"
        ],
        [
         "('Alaska', 'Yakutat City and Borough')",
         "2282",
         "AK"
        ],
        [
         "('Alaska', 'Yukon-Koyukuk Census Area')",
         "2290",
         "AK"
        ],
        [
         "('Alabama', 'Autauga County')",
         "1001",
         "AL"
        ],
        [
         "('Alabama', 'Baldwin County')",
         "1003",
         "AL"
        ],
        [
         "('Alabama', 'Barbour County')",
         "1005",
         "AL"
        ],
        [
         "('Alabama', 'Bibb County')",
         "1007",
         "AL"
        ],
        [
         "('Alabama', 'Blount County')",
         "1009",
         "AL"
        ],
        [
         "('Alabama', 'Bullock County')",
         "1011",
         "AL"
        ],
        [
         "('Alabama', 'Butler County')",
         "1013",
         "AL"
        ],
        [
         "('Alabama', 'Calhoun County')",
         "1015",
         "AL"
        ],
        [
         "('Alabama', 'Chambers County')",
         "1017",
         "AL"
        ],
        [
         "('Alabama', 'Cherokee County')",
         "1019",
         "AL"
        ],
        [
         "('Alabama', 'Chilton County')",
         "1021",
         "AL"
        ],
        [
         "('Alabama', 'Choctaw County')",
         "1023",
         "AL"
        ],
        [
         "('Alabama', 'Clarke County')",
         "1025",
         "AL"
        ],
        [
         "('Alabama', 'Clay County')",
         "1027",
         "AL"
        ],
        [
         "('Alabama', 'Cleburne County')",
         "1029",
         "AL"
        ],
        [
         "('Alabama', 'Coffee County')",
         "1031",
         "AL"
        ],
        [
         "('Alabama', 'Colbert County')",
         "1033",
         "AL"
        ],
        [
         "('Alabama', 'Conecuh County')",
         "1035",
         "AL"
        ],
        [
         "('Alabama', 'Coosa County')",
         "1037",
         "AL"
        ],
        [
         "('Alabama', 'Covington County')",
         "1039",
         "AL"
        ],
        [
         "('Alabama', 'Crenshaw County')",
         "1041",
         "AL"
        ]
       ],
       "shape": {
        "columns": 2,
        "rows": 3195
       }
      },
      "text/html": [
       "<div>\n",
       "<style scoped>\n",
       "    .dataframe tbody tr th:only-of-type {\n",
       "        vertical-align: middle;\n",
       "    }\n",
       "\n",
       "    .dataframe tbody tr th {\n",
       "        vertical-align: top;\n",
       "    }\n",
       "\n",
       "    .dataframe thead th {\n",
       "        text-align: right;\n",
       "    }\n",
       "</style>\n",
       "<table border=\"1\" class=\"dataframe\">\n",
       "  <thead>\n",
       "    <tr style=\"text-align: right;\">\n",
       "      <th></th>\n",
       "      <th></th>\n",
       "      <th>fips</th>\n",
       "      <th>state_abbr</th>\n",
       "    </tr>\n",
       "    <tr>\n",
       "      <th>state</th>\n",
       "      <th>county</th>\n",
       "      <th></th>\n",
       "      <th></th>\n",
       "    </tr>\n",
       "  </thead>\n",
       "  <tbody>\n",
       "    <tr>\n",
       "      <th rowspan=\"5\" valign=\"top\">Alaska</th>\n",
       "      <th>Aleutians East Borough</th>\n",
       "      <td>2013</td>\n",
       "      <td>AK</td>\n",
       "    </tr>\n",
       "    <tr>\n",
       "      <th>Aleutians West Census Area</th>\n",
       "      <td>2016</td>\n",
       "      <td>AK</td>\n",
       "    </tr>\n",
       "    <tr>\n",
       "      <th>Anchorage Municipality</th>\n",
       "      <td>2020</td>\n",
       "      <td>AK</td>\n",
       "    </tr>\n",
       "    <tr>\n",
       "      <th>Bethel Census Area</th>\n",
       "      <td>2050</td>\n",
       "      <td>AK</td>\n",
       "    </tr>\n",
       "    <tr>\n",
       "      <th>Bristol Bay Borough</th>\n",
       "      <td>2060</td>\n",
       "      <td>AK</td>\n",
       "    </tr>\n",
       "    <tr>\n",
       "      <th>...</th>\n",
       "      <th>...</th>\n",
       "      <td>...</td>\n",
       "      <td>...</td>\n",
       "    </tr>\n",
       "    <tr>\n",
       "      <th rowspan=\"5\" valign=\"top\">NaN</th>\n",
       "      <th>VIRGINIA</th>\n",
       "      <td>51000</td>\n",
       "      <td>NaN</td>\n",
       "    </tr>\n",
       "    <tr>\n",
       "      <th>WASHINGTON</th>\n",
       "      <td>53000</td>\n",
       "      <td>NaN</td>\n",
       "    </tr>\n",
       "    <tr>\n",
       "      <th>WEST VIRGINIA</th>\n",
       "      <td>54000</td>\n",
       "      <td>NaN</td>\n",
       "    </tr>\n",
       "    <tr>\n",
       "      <th>WISCONSIN</th>\n",
       "      <td>55000</td>\n",
       "      <td>NaN</td>\n",
       "    </tr>\n",
       "    <tr>\n",
       "      <th>WYOMING</th>\n",
       "      <td>56000</td>\n",
       "      <td>NaN</td>\n",
       "    </tr>\n",
       "  </tbody>\n",
       "</table>\n",
       "<p>3195 rows × 2 columns</p>\n",
       "</div>"
      ],
      "text/plain": [
       "                                    fips state_abbr\n",
       "state  county                                      \n",
       "Alaska Aleutians East Borough       2013         AK\n",
       "       Aleutians West Census Area   2016         AK\n",
       "       Anchorage Municipality       2020         AK\n",
       "       Bethel Census Area           2050         AK\n",
       "       Bristol Bay Borough          2060         AK\n",
       "...                                  ...        ...\n",
       "NaN    VIRGINIA                    51000        NaN\n",
       "       WASHINGTON                  53000        NaN\n",
       "       WEST VIRGINIA               54000        NaN\n",
       "       WISCONSIN                   55000        NaN\n",
       "       WYOMING                     56000        NaN\n",
       "\n",
       "[3195 rows x 2 columns]"
      ]
     },
     "execution_count": 70,
     "metadata": {},
     "output_type": "execute_result"
    }
   ],
   "source": [
    "gini.set_index(['state', 'county'])\n",
    "fips.set_index(['state', 'county'])"
   ]
  },
  {
   "cell_type": "code",
   "execution_count": 71,
   "id": "bb95986e",
   "metadata": {},
   "outputs": [],
   "source": [
    "gini_test = pd.merge(gini, fips, left_index=True, right_index=True)\n",
    "gini_index = gini_test.drop(columns=['index', 'fips_y', 'county_y', 'state_y'])"
   ]
  },
  {
   "cell_type": "markdown",
   "id": "79501787",
   "metadata": {},
   "source": [
    "### Normalize updated 'gini_index' to merge with 'socio_economic'"
   ]
  },
  {
   "cell_type": "code",
   "execution_count": 72,
   "id": "f89e04d4",
   "metadata": {},
   "outputs": [],
   "source": [
    "gini_index.reset_index(inplace=True)\n",
    "gini_index = gini_index.rename(columns={'fips_x': 'fips', 'county_x': 'county', 'state_x': 'state'})"
   ]
  },
  {
   "cell_type": "markdown",
   "id": "7ab7fd8b",
   "metadata": {},
   "source": [
    "## Merge for analysis"
   ]
  },
  {
   "cell_type": "code",
   "execution_count": 73,
   "id": "3418baab",
   "metadata": {},
   "outputs": [],
   "source": [
    "ltss_socioecon = pd.merge(socio_economic, ltss_2022, how='left', on='state')"
   ]
  },
  {
   "cell_type": "code",
   "execution_count": 74,
   "id": "3ab9010f",
   "metadata": {},
   "outputs": [],
   "source": [
    "combined_socioecon = pd.merge(ltss_socioecon, gini_index,  left_index=True, right_index=True)"
   ]
  },
  {
   "cell_type": "code",
   "execution_count": null,
   "id": "3eaf8f9b",
   "metadata": {},
   "outputs": [],
   "source": [
    "combined_socioecon"
   ]
  },
  {
   "cell_type": "markdown",
   "id": "7ebe75c4",
   "metadata": {},
   "source": [
    "## Clean new table"
   ]
  },
  {
   "cell_type": "code",
   "execution_count": 77,
   "id": "49899f23",
   "metadata": {},
   "outputs": [],
   "source": [
    "# Drop columns: 'county_y', 'state_y' and 2 other columns\n",
    "combined_socioecon = combined_socioecon.drop(columns=['county_y', 'state_y', 'fips_y', 'state_abbr_y'])"
   ]
  },
  {
   "cell_type": "code",
   "execution_count": 78,
   "id": "c6b126e5",
   "metadata": {},
   "outputs": [],
   "source": [
    "combined_socioecon = combined_socioecon.rename(columns={'county_x': 'county', 'state_x': 'state', 'fips_x': 'fips', 'state_abbr_x': 'state_abbr'})"
   ]
  },
  {
   "cell_type": "code",
   "execution_count": 80,
   "id": "04d8dc2d",
   "metadata": {},
   "outputs": [],
   "source": [
    "combined_socioecon.to_csv('combined_socioecon.csv', index=False)"
   ]
  }
 ],
 "metadata": {
  "kernelspec": {
   "display_name": "socio_health",
   "language": "python",
   "name": "python3"
  },
  "language_info": {
   "codemirror_mode": {
    "name": "ipython",
    "version": 3
   },
   "file_extension": ".py",
   "mimetype": "text/x-python",
   "name": "python",
   "nbconvert_exporter": "python",
   "pygments_lexer": "ipython3",
   "version": "3.13.1"
  }
 },
 "nbformat": 4,
 "nbformat_minor": 5
}
